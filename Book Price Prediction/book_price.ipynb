{
 "cells": [
  {
   "cell_type": "code",
   "execution_count": 1,
   "id": "2569be4a",
   "metadata": {},
   "outputs": [],
   "source": [
    "import numpy as np\n",
    "import pandas as pd\n",
    "import matplotlib.pyplot as plt\n",
    "import seaborn as sns\n",
    "\n",
    "import re"
   ]
  },
  {
   "cell_type": "code",
   "execution_count": 120,
   "id": "f8719435",
   "metadata": {},
   "outputs": [],
   "source": [
    "from sklearn.preprocessing import PowerTransformer, StandardScaler"
   ]
  },
  {
   "cell_type": "code",
   "execution_count": 2,
   "id": "d95e4142",
   "metadata": {},
   "outputs": [],
   "source": [
    "import warnings\n",
    "warnings.filterwarnings('ignore')"
   ]
  },
  {
   "cell_type": "code",
   "execution_count": 3,
   "id": "d000c500",
   "metadata": {},
   "outputs": [
    {
     "data": {
      "text/html": [
       "<div>\n",
       "<style scoped>\n",
       "    .dataframe tbody tr th:only-of-type {\n",
       "        vertical-align: middle;\n",
       "    }\n",
       "\n",
       "    .dataframe tbody tr th {\n",
       "        vertical-align: top;\n",
       "    }\n",
       "\n",
       "    .dataframe thead th {\n",
       "        text-align: right;\n",
       "    }\n",
       "</style>\n",
       "<table border=\"1\" class=\"dataframe\">\n",
       "  <thead>\n",
       "    <tr style=\"text-align: right;\">\n",
       "      <th></th>\n",
       "      <th>Title</th>\n",
       "      <th>Author</th>\n",
       "      <th>Edition</th>\n",
       "      <th>Reviews</th>\n",
       "      <th>Ratings</th>\n",
       "      <th>Synopsis</th>\n",
       "      <th>Genre</th>\n",
       "      <th>BookCategory</th>\n",
       "      <th>Price</th>\n",
       "    </tr>\n",
       "  </thead>\n",
       "  <tbody>\n",
       "    <tr>\n",
       "      <th>0</th>\n",
       "      <td>The Prisoner's Gold (The Hunters 3)</td>\n",
       "      <td>Chris Kuzneski</td>\n",
       "      <td>Paperback,– 10 Mar 2016</td>\n",
       "      <td>4.0 out of 5 stars</td>\n",
       "      <td>8 customer reviews</td>\n",
       "      <td>THE HUNTERS return in their third brilliant no...</td>\n",
       "      <td>Action &amp; Adventure (Books)</td>\n",
       "      <td>Action &amp; Adventure</td>\n",
       "      <td>220.00</td>\n",
       "    </tr>\n",
       "    <tr>\n",
       "      <th>1</th>\n",
       "      <td>Guru Dutt: A Tragedy in Three Acts</td>\n",
       "      <td>Arun Khopkar</td>\n",
       "      <td>Paperback,– 7 Nov 2012</td>\n",
       "      <td>3.9 out of 5 stars</td>\n",
       "      <td>14 customer reviews</td>\n",
       "      <td>A layered portrait of a troubled genius for wh...</td>\n",
       "      <td>Cinema &amp; Broadcast (Books)</td>\n",
       "      <td>Biographies, Diaries &amp; True Accounts</td>\n",
       "      <td>202.93</td>\n",
       "    </tr>\n",
       "    <tr>\n",
       "      <th>2</th>\n",
       "      <td>Leviathan (Penguin Classics)</td>\n",
       "      <td>Thomas Hobbes</td>\n",
       "      <td>Paperback,– 25 Feb 1982</td>\n",
       "      <td>4.8 out of 5 stars</td>\n",
       "      <td>6 customer reviews</td>\n",
       "      <td>\"During the time men live without a common Pow...</td>\n",
       "      <td>International Relations</td>\n",
       "      <td>Humour</td>\n",
       "      <td>299.00</td>\n",
       "    </tr>\n",
       "    <tr>\n",
       "      <th>3</th>\n",
       "      <td>A Pocket Full of Rye (Miss Marple)</td>\n",
       "      <td>Agatha Christie</td>\n",
       "      <td>Paperback,– 5 Oct 2017</td>\n",
       "      <td>4.1 out of 5 stars</td>\n",
       "      <td>13 customer reviews</td>\n",
       "      <td>A handful of grain is found in the pocket of a...</td>\n",
       "      <td>Contemporary Fiction (Books)</td>\n",
       "      <td>Crime, Thriller &amp; Mystery</td>\n",
       "      <td>180.00</td>\n",
       "    </tr>\n",
       "    <tr>\n",
       "      <th>4</th>\n",
       "      <td>LIFE 70 Years of Extraordinary Photography</td>\n",
       "      <td>Editors of Life</td>\n",
       "      <td>Hardcover,– 10 Oct 2006</td>\n",
       "      <td>5.0 out of 5 stars</td>\n",
       "      <td>1 customer review</td>\n",
       "      <td>For seven decades, \"Life\" has been thrilling t...</td>\n",
       "      <td>Photography Textbooks</td>\n",
       "      <td>Arts, Film &amp; Photography</td>\n",
       "      <td>965.62</td>\n",
       "    </tr>\n",
       "  </tbody>\n",
       "</table>\n",
       "</div>"
      ],
      "text/plain": [
       "                                        Title           Author  \\\n",
       "0         The Prisoner's Gold (The Hunters 3)   Chris Kuzneski   \n",
       "1          Guru Dutt: A Tragedy in Three Acts     Arun Khopkar   \n",
       "2                Leviathan (Penguin Classics)    Thomas Hobbes   \n",
       "3          A Pocket Full of Rye (Miss Marple)  Agatha Christie   \n",
       "4  LIFE 70 Years of Extraordinary Photography  Editors of Life   \n",
       "\n",
       "                   Edition             Reviews              Ratings  \\\n",
       "0  Paperback,– 10 Mar 2016  4.0 out of 5 stars   8 customer reviews   \n",
       "1   Paperback,– 7 Nov 2012  3.9 out of 5 stars  14 customer reviews   \n",
       "2  Paperback,– 25 Feb 1982  4.8 out of 5 stars   6 customer reviews   \n",
       "3   Paperback,– 5 Oct 2017  4.1 out of 5 stars  13 customer reviews   \n",
       "4  Hardcover,– 10 Oct 2006  5.0 out of 5 stars    1 customer review   \n",
       "\n",
       "                                            Synopsis  \\\n",
       "0  THE HUNTERS return in their third brilliant no...   \n",
       "1  A layered portrait of a troubled genius for wh...   \n",
       "2  \"During the time men live without a common Pow...   \n",
       "3  A handful of grain is found in the pocket of a...   \n",
       "4  For seven decades, \"Life\" has been thrilling t...   \n",
       "\n",
       "                          Genre                          BookCategory   Price  \n",
       "0    Action & Adventure (Books)                    Action & Adventure  220.00  \n",
       "1    Cinema & Broadcast (Books)  Biographies, Diaries & True Accounts  202.93  \n",
       "2       International Relations                                Humour  299.00  \n",
       "3  Contemporary Fiction (Books)             Crime, Thriller & Mystery  180.00  \n",
       "4         Photography Textbooks              Arts, Film & Photography  965.62  "
      ]
     },
     "execution_count": 3,
     "metadata": {},
     "output_type": "execute_result"
    }
   ],
   "source": [
    "books = pd.read_excel('Data_Train.xlsx')\n",
    "books.head()"
   ]
  },
  {
   "cell_type": "code",
   "execution_count": 258,
   "id": "a50f22f6",
   "metadata": {},
   "outputs": [
    {
     "data": {
      "text/html": [
       "<div>\n",
       "<style scoped>\n",
       "    .dataframe tbody tr th:only-of-type {\n",
       "        vertical-align: middle;\n",
       "    }\n",
       "\n",
       "    .dataframe tbody tr th {\n",
       "        vertical-align: top;\n",
       "    }\n",
       "\n",
       "    .dataframe thead th {\n",
       "        text-align: right;\n",
       "    }\n",
       "</style>\n",
       "<table border=\"1\" class=\"dataframe\">\n",
       "  <thead>\n",
       "    <tr style=\"text-align: right;\">\n",
       "      <th></th>\n",
       "      <th>Title</th>\n",
       "      <th>Author</th>\n",
       "      <th>Edition</th>\n",
       "      <th>Reviews</th>\n",
       "      <th>Ratings</th>\n",
       "      <th>Synopsis</th>\n",
       "      <th>Genre</th>\n",
       "      <th>BookCategory</th>\n",
       "    </tr>\n",
       "  </thead>\n",
       "  <tbody>\n",
       "    <tr>\n",
       "      <th>0</th>\n",
       "      <td>The Complete Sherlock Holmes: 2 Boxes sets</td>\n",
       "      <td>Sir Arthur Conan Doyle</td>\n",
       "      <td>Mass Market Paperback,– 1 Oct 1986</td>\n",
       "      <td>4.4 out of 5 stars</td>\n",
       "      <td>960 customer reviews</td>\n",
       "      <td>A collection of entire body of work of the She...</td>\n",
       "      <td>Short Stories (Books)</td>\n",
       "      <td>Crime, Thriller &amp; Mystery</td>\n",
       "    </tr>\n",
       "    <tr>\n",
       "      <th>1</th>\n",
       "      <td>Learn Docker - Fundamentals of Docker 18.x: Ev...</td>\n",
       "      <td>Gabriel N. Schenker</td>\n",
       "      <td>Paperback,– Import, 26 Apr 2018</td>\n",
       "      <td>5.0 out of 5 stars</td>\n",
       "      <td>1 customer review</td>\n",
       "      <td>Enhance your software deployment workflow usin...</td>\n",
       "      <td>Operating Systems Textbooks</td>\n",
       "      <td>Computing, Internet &amp; Digital Media</td>\n",
       "    </tr>\n",
       "    <tr>\n",
       "      <th>2</th>\n",
       "      <td>Big Girl</td>\n",
       "      <td>Danielle Steel</td>\n",
       "      <td>Paperback,– 17 Mar 2011</td>\n",
       "      <td>5.0 out of 5 stars</td>\n",
       "      <td>4 customer reviews</td>\n",
       "      <td>'Watch out, world. Here I come!'\\nFor Victoria...</td>\n",
       "      <td>Romance (Books)</td>\n",
       "      <td>Romance</td>\n",
       "    </tr>\n",
       "    <tr>\n",
       "      <th>3</th>\n",
       "      <td>Think Python: How to Think Like a Computer Sci...</td>\n",
       "      <td>Allen B. Downey</td>\n",
       "      <td>Paperback,– 2016</td>\n",
       "      <td>4.1 out of 5 stars</td>\n",
       "      <td>11 customer reviews</td>\n",
       "      <td>If you want to learn how to program, working w...</td>\n",
       "      <td>Programming &amp; Software Development (Books)</td>\n",
       "      <td>Computing, Internet &amp; Digital Media</td>\n",
       "    </tr>\n",
       "    <tr>\n",
       "      <th>4</th>\n",
       "      <td>Oxford Word Skills: Advanced - Idioms &amp; Phrasa...</td>\n",
       "      <td>Redman Gairns</td>\n",
       "      <td>Paperback,– 26 Dec 2011</td>\n",
       "      <td>4.4 out of 5 stars</td>\n",
       "      <td>9 customer reviews</td>\n",
       "      <td>Learn and practise the verbs, prepositions and...</td>\n",
       "      <td>Linguistics (Books)</td>\n",
       "      <td>Language, Linguistics &amp; Writing</td>\n",
       "    </tr>\n",
       "  </tbody>\n",
       "</table>\n",
       "</div>"
      ],
      "text/plain": [
       "                                               Title                  Author  \\\n",
       "0         The Complete Sherlock Holmes: 2 Boxes sets  Sir Arthur Conan Doyle   \n",
       "1  Learn Docker - Fundamentals of Docker 18.x: Ev...     Gabriel N. Schenker   \n",
       "2                                           Big Girl          Danielle Steel   \n",
       "3  Think Python: How to Think Like a Computer Sci...         Allen B. Downey   \n",
       "4  Oxford Word Skills: Advanced - Idioms & Phrasa...           Redman Gairns   \n",
       "\n",
       "                              Edition             Reviews  \\\n",
       "0  Mass Market Paperback,– 1 Oct 1986  4.4 out of 5 stars   \n",
       "1     Paperback,– Import, 26 Apr 2018  5.0 out of 5 stars   \n",
       "2             Paperback,– 17 Mar 2011  5.0 out of 5 stars   \n",
       "3                    Paperback,– 2016  4.1 out of 5 stars   \n",
       "4             Paperback,– 26 Dec 2011  4.4 out of 5 stars   \n",
       "\n",
       "                Ratings                                           Synopsis  \\\n",
       "0  960 customer reviews  A collection of entire body of work of the She...   \n",
       "1     1 customer review  Enhance your software deployment workflow usin...   \n",
       "2    4 customer reviews  'Watch out, world. Here I come!'\\nFor Victoria...   \n",
       "3   11 customer reviews  If you want to learn how to program, working w...   \n",
       "4    9 customer reviews  Learn and practise the verbs, prepositions and...   \n",
       "\n",
       "                                        Genre  \\\n",
       "0                       Short Stories (Books)   \n",
       "1                 Operating Systems Textbooks   \n",
       "2                             Romance (Books)   \n",
       "3  Programming & Software Development (Books)   \n",
       "4                         Linguistics (Books)   \n",
       "\n",
       "                          BookCategory  \n",
       "0            Crime, Thriller & Mystery  \n",
       "1  Computing, Internet & Digital Media  \n",
       "2                              Romance  \n",
       "3  Computing, Internet & Digital Media  \n",
       "4      Language, Linguistics & Writing  "
      ]
     },
     "execution_count": 258,
     "metadata": {},
     "output_type": "execute_result"
    }
   ],
   "source": [
    "df_test = pd.read_excel('Data_Test.xlsx')\n",
    "df_test.head()"
   ]
  },
  {
   "cell_type": "code",
   "execution_count": 4,
   "id": "053ec495",
   "metadata": {},
   "outputs": [
    {
     "data": {
      "text/plain": [
       "(6237, 9)"
      ]
     },
     "execution_count": 4,
     "metadata": {},
     "output_type": "execute_result"
    }
   ],
   "source": [
    "books.shape"
   ]
  },
  {
   "cell_type": "code",
   "execution_count": 5,
   "id": "2c7dc4e0",
   "metadata": {},
   "outputs": [
    {
     "name": "stdout",
     "output_type": "stream",
     "text": [
      "<class 'pandas.core.frame.DataFrame'>\n",
      "RangeIndex: 6237 entries, 0 to 6236\n",
      "Data columns (total 9 columns):\n",
      " #   Column        Non-Null Count  Dtype  \n",
      "---  ------        --------------  -----  \n",
      " 0   Title         6237 non-null   object \n",
      " 1   Author        6237 non-null   object \n",
      " 2   Edition       6237 non-null   object \n",
      " 3   Reviews       6237 non-null   object \n",
      " 4   Ratings       6237 non-null   object \n",
      " 5   Synopsis      6237 non-null   object \n",
      " 6   Genre         6237 non-null   object \n",
      " 7   BookCategory  6237 non-null   object \n",
      " 8   Price         6237 non-null   float64\n",
      "dtypes: float64(1), object(8)\n",
      "memory usage: 438.7+ KB\n"
     ]
    }
   ],
   "source": [
    "books.info()"
   ]
  },
  {
   "cell_type": "code",
   "execution_count": 6,
   "id": "c1de16e6",
   "metadata": {},
   "outputs": [
    {
     "data": {
      "text/plain": [
       "Title           0\n",
       "Author          0\n",
       "Edition         0\n",
       "Reviews         0\n",
       "Ratings         0\n",
       "Synopsis        0\n",
       "Genre           0\n",
       "BookCategory    0\n",
       "Price           0\n",
       "dtype: int64"
      ]
     },
     "execution_count": 6,
     "metadata": {},
     "output_type": "execute_result"
    }
   ],
   "source": [
    "books.isna().sum()"
   ]
  },
  {
   "cell_type": "code",
   "execution_count": 7,
   "id": "23a53771",
   "metadata": {},
   "outputs": [
    {
     "data": {
      "text/html": [
       "<div>\n",
       "<style scoped>\n",
       "    .dataframe tbody tr th:only-of-type {\n",
       "        vertical-align: middle;\n",
       "    }\n",
       "\n",
       "    .dataframe tbody tr th {\n",
       "        vertical-align: top;\n",
       "    }\n",
       "\n",
       "    .dataframe thead th {\n",
       "        text-align: right;\n",
       "    }\n",
       "</style>\n",
       "<table border=\"1\" class=\"dataframe\">\n",
       "  <thead>\n",
       "    <tr style=\"text-align: right;\">\n",
       "      <th></th>\n",
       "      <th>Price</th>\n",
       "    </tr>\n",
       "  </thead>\n",
       "  <tbody>\n",
       "    <tr>\n",
       "      <th>count</th>\n",
       "      <td>6237.000000</td>\n",
       "    </tr>\n",
       "    <tr>\n",
       "      <th>mean</th>\n",
       "      <td>560.707516</td>\n",
       "    </tr>\n",
       "    <tr>\n",
       "      <th>std</th>\n",
       "      <td>690.110657</td>\n",
       "    </tr>\n",
       "    <tr>\n",
       "      <th>min</th>\n",
       "      <td>25.000000</td>\n",
       "    </tr>\n",
       "    <tr>\n",
       "      <th>25%</th>\n",
       "      <td>249.180000</td>\n",
       "    </tr>\n",
       "    <tr>\n",
       "      <th>50%</th>\n",
       "      <td>373.000000</td>\n",
       "    </tr>\n",
       "    <tr>\n",
       "      <th>75%</th>\n",
       "      <td>599.000000</td>\n",
       "    </tr>\n",
       "    <tr>\n",
       "      <th>max</th>\n",
       "      <td>14100.000000</td>\n",
       "    </tr>\n",
       "  </tbody>\n",
       "</table>\n",
       "</div>"
      ],
      "text/plain": [
       "              Price\n",
       "count   6237.000000\n",
       "mean     560.707516\n",
       "std      690.110657\n",
       "min       25.000000\n",
       "25%      249.180000\n",
       "50%      373.000000\n",
       "75%      599.000000\n",
       "max    14100.000000"
      ]
     },
     "execution_count": 7,
     "metadata": {},
     "output_type": "execute_result"
    }
   ],
   "source": [
    "books.describe()"
   ]
  },
  {
   "cell_type": "code",
   "execution_count": 8,
   "id": "5181a2e3",
   "metadata": {},
   "outputs": [
    {
     "data": {
      "image/png": "[encoded data removed]",
      "text/plain": [
       "<Figure size 432x288 with 1 Axes>"
      ]
     },
     "metadata": {
      "needs_background": "light"
     },
     "output_type": "display_data"
    }
   ],
   "source": [
    "sns.distplot(books.Price)\n",
    "plt.show()"
   ]
  },
  {
   "cell_type": "code",
   "execution_count": 9,
   "id": "72004599",
   "metadata": {},
   "outputs": [],
   "source": [
    "# Highly right skewed data due to a few expensive books"
   ]
  },
  {
   "cell_type": "code",
   "execution_count": 10,
   "id": "c7621853",
   "metadata": {},
   "outputs": [
    {
     "data": {
      "text/plain": [
       "5568"
      ]
     },
     "execution_count": 10,
     "metadata": {},
     "output_type": "execute_result"
    }
   ],
   "source": [
    "books.Title.nunique()"
   ]
  },
  {
   "cell_type": "code",
   "execution_count": 11,
   "id": "62aa54f4",
   "metadata": {},
   "outputs": [
    {
     "data": {
      "text/plain": [
       "3679"
      ]
     },
     "execution_count": 11,
     "metadata": {},
     "output_type": "execute_result"
    }
   ],
   "source": [
    "books.Author.nunique()"
   ]
  },
  {
   "cell_type": "code",
   "execution_count": 12,
   "id": "0e4c6e81",
   "metadata": {},
   "outputs": [
    {
     "data": {
      "text/plain": [
       "Title                                                                                          Edition                \n",
       "10 Minutes a Day Vocabulary Ages 7-11 Key Stage 2 (Made Easy Workbooks)                        Paperback,– 1 Jun 2015     2\n",
       "100 Bullets Book One                                                                           Paperback,– 4 Nov 2014     2\n",
       "100 Deadly Skills                                                                              Paperback,– 28 Oct 2016    2\n",
       "112 Meditations for Self Realization: Vigyan Bhairava Tantra                                   Paperback,– 2014           2\n",
       "1984                                                                                           Paperback,– 2014           2\n",
       "                                                                                                                         ..\n",
       "Your Ad Ignored Here: Cartoons from 15 Years of Marketing, Business, and Doodling in Meetings  Paperback,– 24 Oct 2017    2\n",
       "Your Prime Minister is Dead                                                                    Paperback,– 26 Sep 2018    2\n",
       "Zen Pencils--Creative Struggle: Illustrated Advice from Masters of Creativity                  Paperback,– 16 Jan 2018    2\n",
       "Zen Pencils: Cartoon Quotes from Inspirational Folks                                           Paperback,– 11 Nov 2014    2\n",
       "Zen Pencils: Volume Two: Dream the Impossible Dream                                            Paperback,– 13 Oct 2015    2\n",
       "Name: Edition, Length: 560, dtype: int64"
      ]
     },
     "execution_count": 12,
     "metadata": {},
     "output_type": "execute_result"
    }
   ],
   "source": [
    "val = books.groupby('Title')['Edition'].value_counts()\n",
    "val[val > 1]"
   ]
  },
  {
   "cell_type": "code",
   "execution_count": 13,
   "id": "f3b181ce",
   "metadata": {},
   "outputs": [
    {
     "data": {
      "text/html": [
       "<div>\n",
       "<style scoped>\n",
       "    .dataframe tbody tr th:only-of-type {\n",
       "        vertical-align: middle;\n",
       "    }\n",
       "\n",
       "    .dataframe tbody tr th {\n",
       "        vertical-align: top;\n",
       "    }\n",
       "\n",
       "    .dataframe thead th {\n",
       "        text-align: right;\n",
       "    }\n",
       "</style>\n",
       "<table border=\"1\" class=\"dataframe\">\n",
       "  <thead>\n",
       "    <tr style=\"text-align: right;\">\n",
       "      <th></th>\n",
       "      <th>Title</th>\n",
       "      <th>Author</th>\n",
       "      <th>Edition</th>\n",
       "      <th>Reviews</th>\n",
       "      <th>Ratings</th>\n",
       "      <th>Synopsis</th>\n",
       "      <th>Genre</th>\n",
       "      <th>BookCategory</th>\n",
       "      <th>Price</th>\n",
       "    </tr>\n",
       "  </thead>\n",
       "  <tbody>\n",
       "    <tr>\n",
       "      <th>962</th>\n",
       "      <td>1984</td>\n",
       "      <td>George Orwell</td>\n",
       "      <td>Paperback,– May 2019</td>\n",
       "      <td>4.4 out of 5 stars</td>\n",
       "      <td>861 customer reviews</td>\n",
       "      <td>Published in the summer of 1949, George Orwell...</td>\n",
       "      <td>Classic Fiction (Books)</td>\n",
       "      <td>Politics</td>\n",
       "      <td>94.0</td>\n",
       "    </tr>\n",
       "    <tr>\n",
       "      <th>1850</th>\n",
       "      <td>1984</td>\n",
       "      <td>George Orwell</td>\n",
       "      <td>Paperback,– 2014</td>\n",
       "      <td>4.5 out of 5 stars</td>\n",
       "      <td>862 customer reviews</td>\n",
       "      <td>Regarded as a great instance of twentieth cent...</td>\n",
       "      <td>Action &amp; Adventure (Books)</td>\n",
       "      <td>Action &amp; Adventure</td>\n",
       "      <td>94.0</td>\n",
       "    </tr>\n",
       "    <tr>\n",
       "      <th>3800</th>\n",
       "      <td>1984</td>\n",
       "      <td>George Orwell</td>\n",
       "      <td>Paperback,– 2014</td>\n",
       "      <td>4.5 out of 5 stars</td>\n",
       "      <td>867 customer reviews</td>\n",
       "      <td>Regarded as a great instance of twentieth cent...</td>\n",
       "      <td>Action &amp; Adventure (Books)</td>\n",
       "      <td>Action &amp; Adventure</td>\n",
       "      <td>94.0</td>\n",
       "    </tr>\n",
       "  </tbody>\n",
       "</table>\n",
       "</div>"
      ],
      "text/plain": [
       "     Title         Author               Edition             Reviews  \\\n",
       "962   1984  George Orwell  Paperback,– May 2019  4.4 out of 5 stars   \n",
       "1850  1984  George Orwell      Paperback,– 2014  4.5 out of 5 stars   \n",
       "3800  1984  George Orwell      Paperback,– 2014  4.5 out of 5 stars   \n",
       "\n",
       "                   Ratings                                           Synopsis  \\\n",
       "962   861 customer reviews  Published in the summer of 1949, George Orwell...   \n",
       "1850  862 customer reviews  Regarded as a great instance of twentieth cent...   \n",
       "3800  867 customer reviews  Regarded as a great instance of twentieth cent...   \n",
       "\n",
       "                           Genre        BookCategory  Price  \n",
       "962      Classic Fiction (Books)            Politics   94.0  \n",
       "1850  Action & Adventure (Books)  Action & Adventure   94.0  \n",
       "3800  Action & Adventure (Books)  Action & Adventure   94.0  "
      ]
     },
     "execution_count": 13,
     "metadata": {},
     "output_type": "execute_result"
    }
   ],
   "source": [
    "books[books.Title == '1984']"
   ]
  },
  {
   "cell_type": "code",
   "execution_count": 14,
   "id": "7d79a6f8",
   "metadata": {},
   "outputs": [
    {
     "data": {
      "text/plain": [
       "345"
      ]
     },
     "execution_count": 14,
     "metadata": {},
     "output_type": "execute_result"
    }
   ],
   "source": [
    "books.Genre.nunique()"
   ]
  },
  {
   "cell_type": "markdown",
   "id": "c2ef3fae",
   "metadata": {},
   "source": [
    "# Cleaning"
   ]
  },
  {
   "cell_type": "code",
   "execution_count": 29,
   "id": "ed40c365",
   "metadata": {},
   "outputs": [],
   "source": [
    "df1 = books.copy()"
   ]
  },
  {
   "cell_type": "code",
   "execution_count": 30,
   "id": "2006ea0c",
   "metadata": {},
   "outputs": [
    {
     "data": {
      "text/plain": [
       "0       [Paperback,  10 Mar 2016]\n",
       "1        [Paperback,  7 Nov 2012]\n",
       "2       [Paperback,  25 Feb 1982]\n",
       "3        [Paperback,  5 Oct 2017]\n",
       "4       [Hardcover,  10 Oct 2006]\n",
       "                  ...            \n",
       "6232     [Paperback,  8 Aug 2018]\n",
       "6233    [Paperback,  21 Nov 2016]\n",
       "6234     [Paperback,  8 Jun 2006]\n",
       "6235    [Paperback,  15 Jan 2015]\n",
       "6236    [Paperback,  21 Dec 2016]\n",
       "Name: Edition, Length: 6237, dtype: object"
      ]
     },
     "execution_count": 30,
     "metadata": {},
     "output_type": "execute_result"
    }
   ],
   "source": [
    "df1.Edition.str.split(',–')"
   ]
  },
  {
   "cell_type": "code",
   "execution_count": 31,
   "id": "2cfb2c17",
   "metadata": {},
   "outputs": [],
   "source": [
    "def cover(x):\n",
    "    return x.split(',–')[0]"
   ]
  },
  {
   "cell_type": "code",
   "execution_count": 32,
   "id": "6b57fe7b",
   "metadata": {},
   "outputs": [],
   "source": [
    "df1['cover_type'] = df1['Edition'].map(cover)"
   ]
  },
  {
   "cell_type": "code",
   "execution_count": 259,
   "id": "81da9946",
   "metadata": {},
   "outputs": [],
   "source": [
    "df_test['cover_type'] = df_test['Edition'].map(cover)"
   ]
  },
  {
   "cell_type": "code",
   "execution_count": 33,
   "id": "2425b939",
   "metadata": {},
   "outputs": [
    {
     "data": {
      "text/plain": [
       "array(['Paperback', 'Hardcover', 'Mass Market Paperback', 'Sheet music',\n",
       "       'Flexibound', 'Plastic Comb', 'Loose Leaf', 'Tankobon Softcover',\n",
       "       'Perfect Paperback', 'Board book', 'Cards', 'Spiral-bound',\n",
       "       '(Kannada),Paperback', 'Product Bundle', 'Library Binding',\n",
       "       '(German),Paperback', 'Leather Bound', '(French),Paperback',\n",
       "       '(Spanish),Paperback'], dtype=object)"
      ]
     },
     "execution_count": 33,
     "metadata": {},
     "output_type": "execute_result"
    }
   ],
   "source": [
    "df1.cover_type.unique()"
   ]
  },
  {
   "cell_type": "code",
   "execution_count": 34,
   "id": "1fe7e1e6",
   "metadata": {},
   "outputs": [],
   "source": [
    "def covers(x):\n",
    "    return x.split(',')[-1]"
   ]
  },
  {
   "cell_type": "code",
   "execution_count": 35,
   "id": "db30819a",
   "metadata": {},
   "outputs": [],
   "source": [
    "df1['cover_type'] = df1.cover_type.map(covers)"
   ]
  },
  {
   "cell_type": "code",
   "execution_count": 260,
   "id": "21827568",
   "metadata": {},
   "outputs": [],
   "source": [
    "df_test['cover_type'] = df_test.cover_type.map(covers)"
   ]
  },
  {
   "cell_type": "code",
   "execution_count": 36,
   "id": "828938f6",
   "metadata": {},
   "outputs": [
    {
     "data": {
      "text/plain": [
       "array(['Paperback', 'Hardcover', 'Mass Market Paperback', 'Sheet music',\n",
       "       'Flexibound', 'Plastic Comb', 'Loose Leaf', 'Tankobon Softcover',\n",
       "       'Perfect Paperback', 'Board book', 'Cards', 'Spiral-bound',\n",
       "       'Product Bundle', 'Library Binding', 'Leather Bound'], dtype=object)"
      ]
     },
     "execution_count": 36,
     "metadata": {},
     "output_type": "execute_result"
    }
   ],
   "source": [
    "df1.cover_type.unique()"
   ]
  },
  {
   "cell_type": "code",
   "execution_count": 37,
   "id": "c4769aa7",
   "metadata": {},
   "outputs": [
    {
     "data": {
      "text/plain": [
       "Paperback                5197\n",
       "Hardcover                 823\n",
       "Mass Market Paperback     155\n",
       "Sheet music                24\n",
       "Flexibound                 15\n",
       "Cards                       8\n",
       "Spiral-bound                4\n",
       "Tankobon Softcover          3\n",
       "Loose Leaf                  2\n",
       "Plastic Comb                1\n",
       "Perfect Paperback           1\n",
       "Board book                  1\n",
       "Product Bundle              1\n",
       "Library Binding             1\n",
       "Leather Bound               1\n",
       "Name: cover_type, dtype: int64"
      ]
     },
     "execution_count": 37,
     "metadata": {},
     "output_type": "execute_result"
    }
   ],
   "source": [
    "df1.cover_type.value_counts()"
   ]
  },
  {
   "cell_type": "code",
   "execution_count": 38,
   "id": "e3a179e2",
   "metadata": {},
   "outputs": [],
   "source": [
    "def final_cover(x):\n",
    "    lst = ['Paperback', 'Hardcover', 'Mass Market Paperback']\n",
    "    if x not in lst:\n",
    "        return 'Other'\n",
    "    else:\n",
    "        return x"
   ]
  },
  {
   "cell_type": "code",
   "execution_count": 39,
   "id": "a785e9a9",
   "metadata": {},
   "outputs": [
    {
     "data": {
      "text/plain": [
       "Paperback                5197\n",
       "Hardcover                 823\n",
       "Mass Market Paperback     155\n",
       "Other                      62\n",
       "Name: cover_type, dtype: int64"
      ]
     },
     "execution_count": 39,
     "metadata": {},
     "output_type": "execute_result"
    }
   ],
   "source": [
    "df1.cover_type = df1.cover_type.map(final_cover)\n",
    "df1.cover_type.value_counts()"
   ]
  },
  {
   "cell_type": "code",
   "execution_count": 261,
   "id": "95d9cb8a",
   "metadata": {},
   "outputs": [],
   "source": [
    "df_test.cover_type = df_test.cover_type.map(final_cover)"
   ]
  },
  {
   "cell_type": "code",
   "execution_count": 43,
   "id": "dbb1f555",
   "metadata": {},
   "outputs": [
    {
     "data": {
      "image/png": "[encoded data removed]",
      "text/plain": [
       "<Figure size 432x288 with 1 Axes>"
      ]
     },
     "metadata": {
      "needs_background": "light"
     },
     "output_type": "display_data"
    }
   ],
   "source": [
    "sns.countplot(df1.cover_type)\n",
    "plt.show()"
   ]
  },
  {
   "cell_type": "code",
   "execution_count": 40,
   "id": "b7ded38d",
   "metadata": {},
   "outputs": [
    {
     "data": {
      "text/html": [
       "<div>\n",
       "<style scoped>\n",
       "    .dataframe tbody tr th:only-of-type {\n",
       "        vertical-align: middle;\n",
       "    }\n",
       "\n",
       "    .dataframe tbody tr th {\n",
       "        vertical-align: top;\n",
       "    }\n",
       "\n",
       "    .dataframe thead th {\n",
       "        text-align: right;\n",
       "    }\n",
       "</style>\n",
       "<table border=\"1\" class=\"dataframe\">\n",
       "  <thead>\n",
       "    <tr style=\"text-align: right;\">\n",
       "      <th></th>\n",
       "      <th>Title</th>\n",
       "      <th>Author</th>\n",
       "      <th>Edition</th>\n",
       "      <th>Reviews</th>\n",
       "      <th>Ratings</th>\n",
       "      <th>Synopsis</th>\n",
       "      <th>Genre</th>\n",
       "      <th>BookCategory</th>\n",
       "      <th>Price</th>\n",
       "      <th>cover_type</th>\n",
       "    </tr>\n",
       "  </thead>\n",
       "  <tbody>\n",
       "    <tr>\n",
       "      <th>0</th>\n",
       "      <td>The Prisoner's Gold (The Hunters 3)</td>\n",
       "      <td>Chris Kuzneski</td>\n",
       "      <td>Paperback,– 10 Mar 2016</td>\n",
       "      <td>4.0 out of 5 stars</td>\n",
       "      <td>8 customer reviews</td>\n",
       "      <td>THE HUNTERS return in their third brilliant no...</td>\n",
       "      <td>Action &amp; Adventure (Books)</td>\n",
       "      <td>Action &amp; Adventure</td>\n",
       "      <td>220.00</td>\n",
       "      <td>Paperback</td>\n",
       "    </tr>\n",
       "    <tr>\n",
       "      <th>1</th>\n",
       "      <td>Guru Dutt: A Tragedy in Three Acts</td>\n",
       "      <td>Arun Khopkar</td>\n",
       "      <td>Paperback,– 7 Nov 2012</td>\n",
       "      <td>3.9 out of 5 stars</td>\n",
       "      <td>14 customer reviews</td>\n",
       "      <td>A layered portrait of a troubled genius for wh...</td>\n",
       "      <td>Cinema &amp; Broadcast (Books)</td>\n",
       "      <td>Biographies, Diaries &amp; True Accounts</td>\n",
       "      <td>202.93</td>\n",
       "      <td>Paperback</td>\n",
       "    </tr>\n",
       "    <tr>\n",
       "      <th>2</th>\n",
       "      <td>Leviathan (Penguin Classics)</td>\n",
       "      <td>Thomas Hobbes</td>\n",
       "      <td>Paperback,– 25 Feb 1982</td>\n",
       "      <td>4.8 out of 5 stars</td>\n",
       "      <td>6 customer reviews</td>\n",
       "      <td>\"During the time men live without a common Pow...</td>\n",
       "      <td>International Relations</td>\n",
       "      <td>Humour</td>\n",
       "      <td>299.00</td>\n",
       "      <td>Paperback</td>\n",
       "    </tr>\n",
       "    <tr>\n",
       "      <th>3</th>\n",
       "      <td>A Pocket Full of Rye (Miss Marple)</td>\n",
       "      <td>Agatha Christie</td>\n",
       "      <td>Paperback,– 5 Oct 2017</td>\n",
       "      <td>4.1 out of 5 stars</td>\n",
       "      <td>13 customer reviews</td>\n",
       "      <td>A handful of grain is found in the pocket of a...</td>\n",
       "      <td>Contemporary Fiction (Books)</td>\n",
       "      <td>Crime, Thriller &amp; Mystery</td>\n",
       "      <td>180.00</td>\n",
       "      <td>Paperback</td>\n",
       "    </tr>\n",
       "    <tr>\n",
       "      <th>4</th>\n",
       "      <td>LIFE 70 Years of Extraordinary Photography</td>\n",
       "      <td>Editors of Life</td>\n",
       "      <td>Hardcover,– 10 Oct 2006</td>\n",
       "      <td>5.0 out of 5 stars</td>\n",
       "      <td>1 customer review</td>\n",
       "      <td>For seven decades, \"Life\" has been thrilling t...</td>\n",
       "      <td>Photography Textbooks</td>\n",
       "      <td>Arts, Film &amp; Photography</td>\n",
       "      <td>965.62</td>\n",
       "      <td>Hardcover</td>\n",
       "    </tr>\n",
       "  </tbody>\n",
       "</table>\n",
       "</div>"
      ],
      "text/plain": [
       "                                        Title           Author  \\\n",
       "0         The Prisoner's Gold (The Hunters 3)   Chris Kuzneski   \n",
       "1          Guru Dutt: A Tragedy in Three Acts     Arun Khopkar   \n",
       "2                Leviathan (Penguin Classics)    Thomas Hobbes   \n",
       "3          A Pocket Full of Rye (Miss Marple)  Agatha Christie   \n",
       "4  LIFE 70 Years of Extraordinary Photography  Editors of Life   \n",
       "\n",
       "                   Edition             Reviews              Ratings  \\\n",
       "0  Paperback,– 10 Mar 2016  4.0 out of 5 stars   8 customer reviews   \n",
       "1   Paperback,– 7 Nov 2012  3.9 out of 5 stars  14 customer reviews   \n",
       "2  Paperback,– 25 Feb 1982  4.8 out of 5 stars   6 customer reviews   \n",
       "3   Paperback,– 5 Oct 2017  4.1 out of 5 stars  13 customer reviews   \n",
       "4  Hardcover,– 10 Oct 2006  5.0 out of 5 stars    1 customer review   \n",
       "\n",
       "                                            Synopsis  \\\n",
       "0  THE HUNTERS return in their third brilliant no...   \n",
       "1  A layered portrait of a troubled genius for wh...   \n",
       "2  \"During the time men live without a common Pow...   \n",
       "3  A handful of grain is found in the pocket of a...   \n",
       "4  For seven decades, \"Life\" has been thrilling t...   \n",
       "\n",
       "                          Genre                          BookCategory   Price  \\\n",
       "0    Action & Adventure (Books)                    Action & Adventure  220.00   \n",
       "1    Cinema & Broadcast (Books)  Biographies, Diaries & True Accounts  202.93   \n",
       "2       International Relations                                Humour  299.00   \n",
       "3  Contemporary Fiction (Books)             Crime, Thriller & Mystery  180.00   \n",
       "4         Photography Textbooks              Arts, Film & Photography  965.62   \n",
       "\n",
       "  cover_type  \n",
       "0  Paperback  \n",
       "1  Paperback  \n",
       "2  Paperback  \n",
       "3  Paperback  \n",
       "4  Hardcover  "
      ]
     },
     "execution_count": 40,
     "metadata": {},
     "output_type": "execute_result"
    }
   ],
   "source": [
    "df1.head()"
   ]
  },
  {
   "cell_type": "code",
   "execution_count": 41,
   "id": "de2e5263",
   "metadata": {},
   "outputs": [],
   "source": [
    "def ed_year(x):\n",
    "    pattern = '\\d{4}'\n",
    "    match = re.findall(pattern, x)\n",
    "    temp = ''.join(match)\n",
    "    if temp != '':\n",
    "        return int(temp)"
   ]
  },
  {
   "cell_type": "code",
   "execution_count": 54,
   "id": "a85d8041",
   "metadata": {},
   "outputs": [],
   "source": [
    "df1['edition_year'] = df1['Edition'].map(ed_year)"
   ]
  },
  {
   "cell_type": "code",
   "execution_count": 262,
   "id": "18b24deb",
   "metadata": {},
   "outputs": [],
   "source": [
    "df_test['edition_year'] = df_test['Edition'].map(ed_year)"
   ]
  },
  {
   "cell_type": "code",
   "execution_count": 55,
   "id": "e27e0187",
   "metadata": {},
   "outputs": [
    {
     "data": {
      "image/png": "[encoded data removed]",
      "text/plain": [
       "<Figure size 1080x576 with 1 Axes>"
      ]
     },
     "metadata": {
      "needs_background": "light"
     },
     "output_type": "display_data"
    }
   ],
   "source": [
    "plt.rcParams['figure.figsize'] = [15, 8]\n",
    "sns.countplot(df1.edition_year)\n",
    "plt.xticks(rotation=90)\n",
    "plt.show()"
   ]
  },
  {
   "cell_type": "code",
   "execution_count": 266,
   "id": "d7827b93",
   "metadata": {},
   "outputs": [],
   "source": [
    "df1.loc[df1['edition_year'].isna(), 'edition_year'] = df1['edition_year'].mode()[0]"
   ]
  },
  {
   "cell_type": "code",
   "execution_count": 267,
   "id": "a29c62f9",
   "metadata": {},
   "outputs": [],
   "source": [
    "df_test.loc[df_test['edition_year'].isna(), 'edition_year'] = df_test['edition_year'].mode()[0]"
   ]
  },
  {
   "cell_type": "code",
   "execution_count": 268,
   "id": "7a1107c6",
   "metadata": {},
   "outputs": [],
   "source": [
    "df1['edition_year_cat'] = pd.cut(df1['edition_year'], bins=[1899, 1981, 1999, 2010, 2020], labels=['Very Old', 'Old', 'Mid', 'New'])"
   ]
  },
  {
   "cell_type": "code",
   "execution_count": 269,
   "id": "4793297c",
   "metadata": {},
   "outputs": [],
   "source": [
    "df_test['edition_year_cat'] = pd.cut(df_test['edition_year'], bins=[1899, 1981, 1999, 2010, 2020], labels=['Very Old', 'Old', 'Mid', 'New'])"
   ]
  },
  {
   "cell_type": "code",
   "execution_count": 67,
   "id": "63578c64",
   "metadata": {},
   "outputs": [
    {
     "data": {
      "image/png": "[encoded data removed]",
      "text/plain": [
       "<Figure size 1080x576 with 1 Axes>"
      ]
     },
     "metadata": {
      "needs_background": "light"
     },
     "output_type": "display_data"
    }
   ],
   "source": [
    "sns.countplot(df1.edition_year_cat)\n",
    "plt.xticks(rotation=90)\n",
    "plt.show()"
   ]
  },
  {
   "cell_type": "code",
   "execution_count": 61,
   "id": "5560170a",
   "metadata": {
    "scrolled": true
   },
   "outputs": [
    {
     "data": {
      "text/html": [
       "<div>\n",
       "<style scoped>\n",
       "    .dataframe tbody tr th:only-of-type {\n",
       "        vertical-align: middle;\n",
       "    }\n",
       "\n",
       "    .dataframe tbody tr th {\n",
       "        vertical-align: top;\n",
       "    }\n",
       "\n",
       "    .dataframe thead th {\n",
       "        text-align: right;\n",
       "    }\n",
       "</style>\n",
       "<table border=\"1\" class=\"dataframe\">\n",
       "  <thead>\n",
       "    <tr style=\"text-align: right;\">\n",
       "      <th></th>\n",
       "      <th>Title</th>\n",
       "      <th>Author</th>\n",
       "      <th>Edition</th>\n",
       "      <th>Reviews</th>\n",
       "      <th>Ratings</th>\n",
       "      <th>Synopsis</th>\n",
       "      <th>Genre</th>\n",
       "      <th>BookCategory</th>\n",
       "      <th>Price</th>\n",
       "      <th>cover_type</th>\n",
       "      <th>edition_year</th>\n",
       "      <th>edition_year_cat</th>\n",
       "    </tr>\n",
       "  </thead>\n",
       "  <tbody>\n",
       "    <tr>\n",
       "      <th>0</th>\n",
       "      <td>The Prisoner's Gold (The Hunters 3)</td>\n",
       "      <td>Chris Kuzneski</td>\n",
       "      <td>Paperback,– 10 Mar 2016</td>\n",
       "      <td>4.0 out of 5 stars</td>\n",
       "      <td>8 customer reviews</td>\n",
       "      <td>THE HUNTERS return in their third brilliant no...</td>\n",
       "      <td>Action &amp; Adventure (Books)</td>\n",
       "      <td>Action &amp; Adventure</td>\n",
       "      <td>220.00</td>\n",
       "      <td>Paperback</td>\n",
       "      <td>2016.0</td>\n",
       "      <td>New</td>\n",
       "    </tr>\n",
       "    <tr>\n",
       "      <th>1</th>\n",
       "      <td>Guru Dutt: A Tragedy in Three Acts</td>\n",
       "      <td>Arun Khopkar</td>\n",
       "      <td>Paperback,– 7 Nov 2012</td>\n",
       "      <td>3.9 out of 5 stars</td>\n",
       "      <td>14 customer reviews</td>\n",
       "      <td>A layered portrait of a troubled genius for wh...</td>\n",
       "      <td>Cinema &amp; Broadcast (Books)</td>\n",
       "      <td>Biographies, Diaries &amp; True Accounts</td>\n",
       "      <td>202.93</td>\n",
       "      <td>Paperback</td>\n",
       "      <td>2012.0</td>\n",
       "      <td>New</td>\n",
       "    </tr>\n",
       "    <tr>\n",
       "      <th>2</th>\n",
       "      <td>Leviathan (Penguin Classics)</td>\n",
       "      <td>Thomas Hobbes</td>\n",
       "      <td>Paperback,– 25 Feb 1982</td>\n",
       "      <td>4.8 out of 5 stars</td>\n",
       "      <td>6 customer reviews</td>\n",
       "      <td>\"During the time men live without a common Pow...</td>\n",
       "      <td>International Relations</td>\n",
       "      <td>Humour</td>\n",
       "      <td>299.00</td>\n",
       "      <td>Paperback</td>\n",
       "      <td>1982.0</td>\n",
       "      <td>Old</td>\n",
       "    </tr>\n",
       "    <tr>\n",
       "      <th>3</th>\n",
       "      <td>A Pocket Full of Rye (Miss Marple)</td>\n",
       "      <td>Agatha Christie</td>\n",
       "      <td>Paperback,– 5 Oct 2017</td>\n",
       "      <td>4.1 out of 5 stars</td>\n",
       "      <td>13 customer reviews</td>\n",
       "      <td>A handful of grain is found in the pocket of a...</td>\n",
       "      <td>Contemporary Fiction (Books)</td>\n",
       "      <td>Crime, Thriller &amp; Mystery</td>\n",
       "      <td>180.00</td>\n",
       "      <td>Paperback</td>\n",
       "      <td>2017.0</td>\n",
       "      <td>New</td>\n",
       "    </tr>\n",
       "    <tr>\n",
       "      <th>4</th>\n",
       "      <td>LIFE 70 Years of Extraordinary Photography</td>\n",
       "      <td>Editors of Life</td>\n",
       "      <td>Hardcover,– 10 Oct 2006</td>\n",
       "      <td>5.0 out of 5 stars</td>\n",
       "      <td>1 customer review</td>\n",
       "      <td>For seven decades, \"Life\" has been thrilling t...</td>\n",
       "      <td>Photography Textbooks</td>\n",
       "      <td>Arts, Film &amp; Photography</td>\n",
       "      <td>965.62</td>\n",
       "      <td>Hardcover</td>\n",
       "      <td>2006.0</td>\n",
       "      <td>Mid</td>\n",
       "    </tr>\n",
       "  </tbody>\n",
       "</table>\n",
       "</div>"
      ],
      "text/plain": [
       "                                        Title           Author  \\\n",
       "0         The Prisoner's Gold (The Hunters 3)   Chris Kuzneski   \n",
       "1          Guru Dutt: A Tragedy in Three Acts     Arun Khopkar   \n",
       "2                Leviathan (Penguin Classics)    Thomas Hobbes   \n",
       "3          A Pocket Full of Rye (Miss Marple)  Agatha Christie   \n",
       "4  LIFE 70 Years of Extraordinary Photography  Editors of Life   \n",
       "\n",
       "                   Edition             Reviews              Ratings  \\\n",
       "0  Paperback,– 10 Mar 2016  4.0 out of 5 stars   8 customer reviews   \n",
       "1   Paperback,– 7 Nov 2012  3.9 out of 5 stars  14 customer reviews   \n",
       "2  Paperback,– 25 Feb 1982  4.8 out of 5 stars   6 customer reviews   \n",
       "3   Paperback,– 5 Oct 2017  4.1 out of 5 stars  13 customer reviews   \n",
       "4  Hardcover,– 10 Oct 2006  5.0 out of 5 stars    1 customer review   \n",
       "\n",
       "                                            Synopsis  \\\n",
       "0  THE HUNTERS return in their third brilliant no...   \n",
       "1  A layered portrait of a troubled genius for wh...   \n",
       "2  \"During the time men live without a common Pow...   \n",
       "3  A handful of grain is found in the pocket of a...   \n",
       "4  For seven decades, \"Life\" has been thrilling t...   \n",
       "\n",
       "                          Genre                          BookCategory   Price  \\\n",
       "0    Action & Adventure (Books)                    Action & Adventure  220.00   \n",
       "1    Cinema & Broadcast (Books)  Biographies, Diaries & True Accounts  202.93   \n",
       "2       International Relations                                Humour  299.00   \n",
       "3  Contemporary Fiction (Books)             Crime, Thriller & Mystery  180.00   \n",
       "4         Photography Textbooks              Arts, Film & Photography  965.62   \n",
       "\n",
       "  cover_type  edition_year edition_year_cat  \n",
       "0  Paperback        2016.0              New  \n",
       "1  Paperback        2012.0              New  \n",
       "2  Paperback        1982.0              Old  \n",
       "3  Paperback        2017.0              New  \n",
       "4  Hardcover        2006.0              Mid  "
      ]
     },
     "execution_count": 61,
     "metadata": {},
     "output_type": "execute_result"
    }
   ],
   "source": [
    "df1.head()"
   ]
  },
  {
   "cell_type": "code",
   "execution_count": 69,
   "id": "23b9d600",
   "metadata": {
    "scrolled": true
   },
   "outputs": [
    {
     "data": {
      "text/html": [
       "<div>\n",
       "<style scoped>\n",
       "    .dataframe tbody tr th:only-of-type {\n",
       "        vertical-align: middle;\n",
       "    }\n",
       "\n",
       "    .dataframe tbody tr th {\n",
       "        vertical-align: top;\n",
       "    }\n",
       "\n",
       "    .dataframe thead th {\n",
       "        text-align: right;\n",
       "    }\n",
       "</style>\n",
       "<table border=\"1\" class=\"dataframe\">\n",
       "  <thead>\n",
       "    <tr style=\"text-align: right;\">\n",
       "      <th></th>\n",
       "      <th>Title</th>\n",
       "      <th>Author</th>\n",
       "      <th>Edition</th>\n",
       "      <th>Reviews</th>\n",
       "      <th>Ratings</th>\n",
       "      <th>Synopsis</th>\n",
       "      <th>Genre</th>\n",
       "      <th>BookCategory</th>\n",
       "      <th>Price</th>\n",
       "      <th>cover_type</th>\n",
       "      <th>edition_year</th>\n",
       "      <th>edition_year_cat</th>\n",
       "    </tr>\n",
       "  </thead>\n",
       "  <tbody>\n",
       "    <tr>\n",
       "      <th>169</th>\n",
       "      <td>Long Walk to Freedom: Illustrated Children's e...</td>\n",
       "      <td>Nelson Mandela</td>\n",
       "      <td>Paperback,– Abridged, Import</td>\n",
       "      <td>5.0 out of 5 stars</td>\n",
       "      <td>2 customer reviews</td>\n",
       "      <td>Long Walk to Freedom by Nelson Mandela is the ...</td>\n",
       "      <td>Action &amp; Adventure (Books)</td>\n",
       "      <td>Action &amp; Adventure</td>\n",
       "      <td>418.0</td>\n",
       "      <td>Paperback</td>\n",
       "      <td>NaN</td>\n",
       "      <td>NaN</td>\n",
       "    </tr>\n",
       "    <tr>\n",
       "      <th>235</th>\n",
       "      <td>Alfred's Basic Adult All-in-One Course: Lesson...</td>\n",
       "      <td>Willard A. Palmer</td>\n",
       "      <td>Plastic Comb,– DVD, NTSC</td>\n",
       "      <td>3.9 out of 5 stars</td>\n",
       "      <td>6 customer reviews</td>\n",
       "      <td>Alfred's Basic Adult All-in-One Course is a gr...</td>\n",
       "      <td>Music Books</td>\n",
       "      <td>Arts, Film &amp; Photography</td>\n",
       "      <td>1453.0</td>\n",
       "      <td>Other</td>\n",
       "      <td>NaN</td>\n",
       "      <td>NaN</td>\n",
       "    </tr>\n",
       "    <tr>\n",
       "      <th>582</th>\n",
       "      <td>Fundamentals of Drawing Portraits: A Practical...</td>\n",
       "      <td>Barrington Barber</td>\n",
       "      <td>Paperback,– Illustrated, Import</td>\n",
       "      <td>4.0 out of 5 stars</td>\n",
       "      <td>7 customer reviews</td>\n",
       "      <td>This book is essential for everyone who wants ...</td>\n",
       "      <td>Handicrafts, Decorative Arts &amp; Crafts (Books)</td>\n",
       "      <td>Arts, Film &amp; Photography</td>\n",
       "      <td>415.0</td>\n",
       "      <td>Paperback</td>\n",
       "      <td>NaN</td>\n",
       "      <td>NaN</td>\n",
       "    </tr>\n",
       "    <tr>\n",
       "      <th>972</th>\n",
       "      <td>Cartooning, The Professional Step-by-Step Guid...</td>\n",
       "      <td>Ivan Hissey, Curtis Tappenden</td>\n",
       "      <td>Paperback,– Illustrated, Import</td>\n",
       "      <td>3.0 out of 5 stars</td>\n",
       "      <td>1 customer review</td>\n",
       "      <td>A comprehensive and practical guide to drawing...</td>\n",
       "      <td>Handicrafts, Decorative Arts &amp; Crafts (Books)</td>\n",
       "      <td>Comics &amp; Mangas</td>\n",
       "      <td>445.0</td>\n",
       "      <td>Paperback</td>\n",
       "      <td>NaN</td>\n",
       "      <td>NaN</td>\n",
       "    </tr>\n",
       "    <tr>\n",
       "      <th>1233</th>\n",
       "      <td>Amma Tell Me About Raksha Bandhan!</td>\n",
       "      <td>Bhakti Mathur</td>\n",
       "      <td>Paperback,– Large Print, Import</td>\n",
       "      <td>5.0 out of 5 stars</td>\n",
       "      <td>1 customer review</td>\n",
       "      <td>A promise to love and to protect\\nIs sealed by...</td>\n",
       "      <td>Action &amp; Adventure (Books)</td>\n",
       "      <td>Action &amp; Adventure</td>\n",
       "      <td>277.0</td>\n",
       "      <td>Paperback</td>\n",
       "      <td>NaN</td>\n",
       "      <td>NaN</td>\n",
       "    </tr>\n",
       "    <tr>\n",
       "      <th>1558</th>\n",
       "      <td>Figure it out for Yourself</td>\n",
       "      <td>James Hadley Chase</td>\n",
       "      <td>Hardcover,– Import, Facsimile</td>\n",
       "      <td>5.0 out of 5 stars</td>\n",
       "      <td>1 customer review</td>\n",
       "      <td>Serena Marshland was the fourth richest woman ...</td>\n",
       "      <td>Crime, Thriller &amp; Mystery (Books)</td>\n",
       "      <td>Crime, Thriller &amp; Mystery</td>\n",
       "      <td>100.0</td>\n",
       "      <td>Hardcover</td>\n",
       "      <td>NaN</td>\n",
       "      <td>NaN</td>\n",
       "    </tr>\n",
       "    <tr>\n",
       "      <th>1605</th>\n",
       "      <td>An Introduction to Linguistics: Language, Gram...</td>\n",
       "      <td>Syal</td>\n",
       "      <td>Paperback,– Abridged, Audiobook, Box set</td>\n",
       "      <td>4.1 out of 5 stars</td>\n",
       "      <td>29 customer reviews</td>\n",
       "      <td>This compact and engagingly elegant text, now ...</td>\n",
       "      <td>Engineering</td>\n",
       "      <td>Language, Linguistics &amp; Writing</td>\n",
       "      <td>399.0</td>\n",
       "      <td>Paperback</td>\n",
       "      <td>NaN</td>\n",
       "      <td>NaN</td>\n",
       "    </tr>\n",
       "    <tr>\n",
       "      <th>1631</th>\n",
       "      <td>Swimming: Swimming Made Easy: Beginner and Exp...</td>\n",
       "      <td>Ace McCloud</td>\n",
       "      <td>Paperback,– Large Print, Import</td>\n",
       "      <td>4.0 out of 5 stars</td>\n",
       "      <td>1 customer review</td>\n",
       "      <td>Are you tired of being a weak swimmer? Do less...</td>\n",
       "      <td>Swimming, Snorkelling &amp; Diving (Books)</td>\n",
       "      <td>Sports</td>\n",
       "      <td>709.0</td>\n",
       "      <td>Paperback</td>\n",
       "      <td>NaN</td>\n",
       "      <td>NaN</td>\n",
       "    </tr>\n",
       "    <tr>\n",
       "      <th>1643</th>\n",
       "      <td>The Merchant of Venice (Text with Paraphrase) ...</td>\n",
       "      <td>William Shakespeare</td>\n",
       "      <td>Paperback,– Student Edition, Special Edition</td>\n",
       "      <td>3.9 out of 5 stars</td>\n",
       "      <td>58 customer reviews</td>\n",
       "      <td>Introduce the students to William Shakespeare’...</td>\n",
       "      <td>Theater</td>\n",
       "      <td>Arts, Film &amp; Photography</td>\n",
       "      <td>220.0</td>\n",
       "      <td>Paperback</td>\n",
       "      <td>NaN</td>\n",
       "      <td>NaN</td>\n",
       "    </tr>\n",
       "    <tr>\n",
       "      <th>1769</th>\n",
       "      <td>The Human Face of Big Data</td>\n",
       "      <td>Rick Smolan</td>\n",
       "      <td>Hardcover,– Abridged, Audiobook, Box set</td>\n",
       "      <td>5.0 out of 5 stars</td>\n",
       "      <td>1 customer review</td>\n",
       "      <td>The images and stories captured in The Human F...</td>\n",
       "      <td>Computer Science Books</td>\n",
       "      <td>Computing, Internet &amp; Digital Media</td>\n",
       "      <td>2248.0</td>\n",
       "      <td>Hardcover</td>\n",
       "      <td>NaN</td>\n",
       "      <td>NaN</td>\n",
       "    </tr>\n",
       "    <tr>\n",
       "      <th>2101</th>\n",
       "      <td>Living Language Dothraki: A Conversational Lan...</td>\n",
       "      <td>David J. Peterson</td>\n",
       "      <td>Hardcover,– Audiobook, Unabridged</td>\n",
       "      <td>4.0 out of 5 stars</td>\n",
       "      <td>2 customer reviews</td>\n",
       "      <td>Fans of the hit HBO series Game of Thrones can...</td>\n",
       "      <td>Linguistics (Books)</td>\n",
       "      <td>Language, Linguistics &amp; Writing</td>\n",
       "      <td>798.0</td>\n",
       "      <td>Hardcover</td>\n",
       "      <td>NaN</td>\n",
       "      <td>NaN</td>\n",
       "    </tr>\n",
       "    <tr>\n",
       "      <th>2229</th>\n",
       "      <td>Wise and Otherwise: A salute to Life</td>\n",
       "      <td>Sudha Murty</td>\n",
       "      <td>Paperback,– Abridged, Audiobook, Large Print</td>\n",
       "      <td>4.5 out of 5 stars</td>\n",
       "      <td>342 customer reviews</td>\n",
       "      <td>Understanding human and human nature is one of...</td>\n",
       "      <td>Indian Writing (Books)</td>\n",
       "      <td>Biographies, Diaries &amp; True Accounts</td>\n",
       "      <td>188.0</td>\n",
       "      <td>Paperback</td>\n",
       "      <td>NaN</td>\n",
       "      <td>NaN</td>\n",
       "    </tr>\n",
       "    <tr>\n",
       "      <th>2660</th>\n",
       "      <td>The Armada Legacy (Ben Hope)</td>\n",
       "      <td>Scott Mariani</td>\n",
       "      <td>Paperback,– Abridged, Audiobook, Box set</td>\n",
       "      <td>4.0 out of 5 stars</td>\n",
       "      <td>2 customer reviews</td>\n",
       "      <td>Former SAS major Ben Hope is relaxing at his h...</td>\n",
       "      <td>Action &amp; Adventure (Books)</td>\n",
       "      <td>Action &amp; Adventure</td>\n",
       "      <td>270.0</td>\n",
       "      <td>Paperback</td>\n",
       "      <td>NaN</td>\n",
       "      <td>NaN</td>\n",
       "    </tr>\n",
       "    <tr>\n",
       "      <th>2779</th>\n",
       "      <td>Madhubani Art: Indian Art Series</td>\n",
       "      <td>Bharti Dayal</td>\n",
       "      <td>Paperback,– Illustrated, Import</td>\n",
       "      <td>5.0 out of 5 stars</td>\n",
       "      <td>4 customer reviews</td>\n",
       "      <td>Madhubani art's origin is believed to go back ...</td>\n",
       "      <td>Painting Books</td>\n",
       "      <td>Arts, Film &amp; Photography</td>\n",
       "      <td>805.0</td>\n",
       "      <td>Paperback</td>\n",
       "      <td>NaN</td>\n",
       "      <td>NaN</td>\n",
       "    </tr>\n",
       "    <tr>\n",
       "      <th>3511</th>\n",
       "      <td>Frank Miller's Sin City Volume 2: A Dame to Ki...</td>\n",
       "      <td>Frank Miller</td>\n",
       "      <td>Paperback,– Abridged, Audiobook, Box set</td>\n",
       "      <td>5.0 out of 5 stars</td>\n",
       "      <td>3 customer reviews</td>\n",
       "      <td>The second volume of Frank Miller's signature ...</td>\n",
       "      <td>Science &amp; Mathematics</td>\n",
       "      <td>Comics &amp; Mangas</td>\n",
       "      <td>1499.0</td>\n",
       "      <td>Paperback</td>\n",
       "      <td>NaN</td>\n",
       "      <td>NaN</td>\n",
       "    </tr>\n",
       "    <tr>\n",
       "      <th>3875</th>\n",
       "      <td>While the Light Lasts (The Agatha Christie Col...</td>\n",
       "      <td>Agatha Christie</td>\n",
       "      <td>Hardcover,– Facsimile, Import</td>\n",
       "      <td>3.5 out of 5 stars</td>\n",
       "      <td>7 customer reviews</td>\n",
       "      <td>The very last Agatha Christie book, including ...</td>\n",
       "      <td>Short Stories (Books)</td>\n",
       "      <td>Crime, Thriller &amp; Mystery</td>\n",
       "      <td>896.0</td>\n",
       "      <td>Hardcover</td>\n",
       "      <td>NaN</td>\n",
       "      <td>NaN</td>\n",
       "    </tr>\n",
       "    <tr>\n",
       "      <th>3960</th>\n",
       "      <td>Turning Points : A Journey Through Challanges:...</td>\n",
       "      <td>A.P.J. Abdul Kalam</td>\n",
       "      <td>Paperback,– Illustrated, Large Print, Audiobook</td>\n",
       "      <td>4.7 out of 5 stars</td>\n",
       "      <td>379 customer reviews</td>\n",
       "      <td>It was like any other day on the Anna Universi...</td>\n",
       "      <td>Biographies &amp; Autobiographies (Books)</td>\n",
       "      <td>Biographies, Diaries &amp; True Accounts</td>\n",
       "      <td>123.0</td>\n",
       "      <td>Paperback</td>\n",
       "      <td>NaN</td>\n",
       "      <td>NaN</td>\n",
       "    </tr>\n",
       "    <tr>\n",
       "      <th>4036</th>\n",
       "      <td>Mountaineering: The Freedom of the Hills</td>\n",
       "      <td>The Mountaineers</td>\n",
       "      <td>Paperback,– Illustrated, Import</td>\n",
       "      <td>5.0 out of 5 stars</td>\n",
       "      <td>1 customer review</td>\n",
       "      <td>For nearly 60 years it's been revered as the \"...</td>\n",
       "      <td>Outdoor Survival Skills (Books)</td>\n",
       "      <td>Sports</td>\n",
       "      <td>1826.0</td>\n",
       "      <td>Paperback</td>\n",
       "      <td>NaN</td>\n",
       "      <td>NaN</td>\n",
       "    </tr>\n",
       "    <tr>\n",
       "      <th>4403</th>\n",
       "      <td>Indian Tibet Tibetan India: The Cultural Legac...</td>\n",
       "      <td>Peter Van Ham</td>\n",
       "      <td>Hardcover,– Illustrated, Import</td>\n",
       "      <td>4.4 out of 5 stars</td>\n",
       "      <td>2 customer reviews</td>\n",
       "      <td>Inspired by the first cultural expedition into...</td>\n",
       "      <td>Travel &amp; Holiday Guides (Books)</td>\n",
       "      <td>Arts, Film &amp; Photography</td>\n",
       "      <td>1542.0</td>\n",
       "      <td>Hardcover</td>\n",
       "      <td>NaN</td>\n",
       "      <td>NaN</td>\n",
       "    </tr>\n",
       "    <tr>\n",
       "      <th>5117</th>\n",
       "      <td>Pashu</td>\n",
       "      <td>Devdutt Pattanaik</td>\n",
       "      <td>Paperback,– Abridged, Audiobook, Box set</td>\n",
       "      <td>3.8 out of 5 stars</td>\n",
       "      <td>52 customer reviews</td>\n",
       "      <td>Brilliant introduction to animals in Indian my...</td>\n",
       "      <td>Humanities</td>\n",
       "      <td>Biographies, Diaries &amp; True Accounts</td>\n",
       "      <td>180.0</td>\n",
       "      <td>Paperback</td>\n",
       "      <td>NaN</td>\n",
       "      <td>NaN</td>\n",
       "    </tr>\n",
       "    <tr>\n",
       "      <th>5860</th>\n",
       "      <td>Sanskrit is Fun: A Sanskrit Coursebook for Beg...</td>\n",
       "      <td>Warwick Jessup</td>\n",
       "      <td>Paperback,– Illustrated, Large Print</td>\n",
       "      <td>3.0 out of 5 stars</td>\n",
       "      <td>8 customer reviews</td>\n",
       "      <td>The first group of books entitled Sanskrit is ...</td>\n",
       "      <td>Language Learning &amp; Teaching (Books)</td>\n",
       "      <td>Language, Linguistics &amp; Writing</td>\n",
       "      <td>127.0</td>\n",
       "      <td>Paperback</td>\n",
       "      <td>NaN</td>\n",
       "      <td>NaN</td>\n",
       "    </tr>\n",
       "  </tbody>\n",
       "</table>\n",
       "</div>"
      ],
      "text/plain": [
       "                                                  Title  \\\n",
       "169   Long Walk to Freedom: Illustrated Children's e...   \n",
       "235   Alfred's Basic Adult All-in-One Course: Lesson...   \n",
       "582   Fundamentals of Drawing Portraits: A Practical...   \n",
       "972   Cartooning, The Professional Step-by-Step Guid...   \n",
       "1233                 Amma Tell Me About Raksha Bandhan!   \n",
       "1558                         Figure it out for Yourself   \n",
       "1605  An Introduction to Linguistics: Language, Gram...   \n",
       "1631  Swimming: Swimming Made Easy: Beginner and Exp...   \n",
       "1643  The Merchant of Venice (Text with Paraphrase) ...   \n",
       "1769                         The Human Face of Big Data   \n",
       "2101  Living Language Dothraki: A Conversational Lan...   \n",
       "2229               Wise and Otherwise: A salute to Life   \n",
       "2660                       The Armada Legacy (Ben Hope)   \n",
       "2779                   Madhubani Art: Indian Art Series   \n",
       "3511  Frank Miller's Sin City Volume 2: A Dame to Ki...   \n",
       "3875  While the Light Lasts (The Agatha Christie Col...   \n",
       "3960  Turning Points : A Journey Through Challanges:...   \n",
       "4036           Mountaineering: The Freedom of the Hills   \n",
       "4403  Indian Tibet Tibetan India: The Cultural Legac...   \n",
       "5117                                              Pashu   \n",
       "5860  Sanskrit is Fun: A Sanskrit Coursebook for Beg...   \n",
       "\n",
       "                             Author  \\\n",
       "169                  Nelson Mandela   \n",
       "235               Willard A. Palmer   \n",
       "582               Barrington Barber   \n",
       "972   Ivan Hissey, Curtis Tappenden   \n",
       "1233                  Bhakti Mathur   \n",
       "1558             James Hadley Chase   \n",
       "1605                           Syal   \n",
       "1631                    Ace McCloud   \n",
       "1643            William Shakespeare   \n",
       "1769                    Rick Smolan   \n",
       "2101              David J. Peterson   \n",
       "2229                    Sudha Murty   \n",
       "2660                  Scott Mariani   \n",
       "2779                   Bharti Dayal   \n",
       "3511                   Frank Miller   \n",
       "3875                Agatha Christie   \n",
       "3960             A.P.J. Abdul Kalam   \n",
       "4036               The Mountaineers   \n",
       "4403                  Peter Van Ham   \n",
       "5117              Devdutt Pattanaik   \n",
       "5860                 Warwick Jessup   \n",
       "\n",
       "                                              Edition             Reviews  \\\n",
       "169                      Paperback,– Abridged, Import  5.0 out of 5 stars   \n",
       "235                          Plastic Comb,– DVD, NTSC  3.9 out of 5 stars   \n",
       "582                   Paperback,– Illustrated, Import  4.0 out of 5 stars   \n",
       "972                   Paperback,– Illustrated, Import  3.0 out of 5 stars   \n",
       "1233                  Paperback,– Large Print, Import  5.0 out of 5 stars   \n",
       "1558                    Hardcover,– Import, Facsimile  5.0 out of 5 stars   \n",
       "1605         Paperback,– Abridged, Audiobook, Box set  4.1 out of 5 stars   \n",
       "1631                  Paperback,– Large Print, Import  4.0 out of 5 stars   \n",
       "1643     Paperback,– Student Edition, Special Edition  3.9 out of 5 stars   \n",
       "1769         Hardcover,– Abridged, Audiobook, Box set  5.0 out of 5 stars   \n",
       "2101                Hardcover,– Audiobook, Unabridged  4.0 out of 5 stars   \n",
       "2229     Paperback,– Abridged, Audiobook, Large Print  4.5 out of 5 stars   \n",
       "2660         Paperback,– Abridged, Audiobook, Box set  4.0 out of 5 stars   \n",
       "2779                  Paperback,– Illustrated, Import  5.0 out of 5 stars   \n",
       "3511         Paperback,– Abridged, Audiobook, Box set  5.0 out of 5 stars   \n",
       "3875                    Hardcover,– Facsimile, Import  3.5 out of 5 stars   \n",
       "3960  Paperback,– Illustrated, Large Print, Audiobook  4.7 out of 5 stars   \n",
       "4036                  Paperback,– Illustrated, Import  5.0 out of 5 stars   \n",
       "4403                  Hardcover,– Illustrated, Import  4.4 out of 5 stars   \n",
       "5117         Paperback,– Abridged, Audiobook, Box set  3.8 out of 5 stars   \n",
       "5860             Paperback,– Illustrated, Large Print  3.0 out of 5 stars   \n",
       "\n",
       "                   Ratings                                           Synopsis  \\\n",
       "169     2 customer reviews  Long Walk to Freedom by Nelson Mandela is the ...   \n",
       "235     6 customer reviews  Alfred's Basic Adult All-in-One Course is a gr...   \n",
       "582     7 customer reviews  This book is essential for everyone who wants ...   \n",
       "972      1 customer review  A comprehensive and practical guide to drawing...   \n",
       "1233     1 customer review  A promise to love and to protect\\nIs sealed by...   \n",
       "1558     1 customer review  Serena Marshland was the fourth richest woman ...   \n",
       "1605   29 customer reviews  This compact and engagingly elegant text, now ...   \n",
       "1631     1 customer review  Are you tired of being a weak swimmer? Do less...   \n",
       "1643   58 customer reviews  Introduce the students to William Shakespeare’...   \n",
       "1769     1 customer review  The images and stories captured in The Human F...   \n",
       "2101    2 customer reviews  Fans of the hit HBO series Game of Thrones can...   \n",
       "2229  342 customer reviews  Understanding human and human nature is one of...   \n",
       "2660    2 customer reviews  Former SAS major Ben Hope is relaxing at his h...   \n",
       "2779    4 customer reviews  Madhubani art's origin is believed to go back ...   \n",
       "3511    3 customer reviews  The second volume of Frank Miller's signature ...   \n",
       "3875    7 customer reviews  The very last Agatha Christie book, including ...   \n",
       "3960  379 customer reviews  It was like any other day on the Anna Universi...   \n",
       "4036     1 customer review  For nearly 60 years it's been revered as the \"...   \n",
       "4403    2 customer reviews  Inspired by the first cultural expedition into...   \n",
       "5117   52 customer reviews  Brilliant introduction to animals in Indian my...   \n",
       "5860    8 customer reviews  The first group of books entitled Sanskrit is ...   \n",
       "\n",
       "                                              Genre  \\\n",
       "169                      Action & Adventure (Books)   \n",
       "235                                     Music Books   \n",
       "582   Handicrafts, Decorative Arts & Crafts (Books)   \n",
       "972   Handicrafts, Decorative Arts & Crafts (Books)   \n",
       "1233                     Action & Adventure (Books)   \n",
       "1558              Crime, Thriller & Mystery (Books)   \n",
       "1605                                    Engineering   \n",
       "1631         Swimming, Snorkelling & Diving (Books)   \n",
       "1643                                        Theater   \n",
       "1769                         Computer Science Books   \n",
       "2101                            Linguistics (Books)   \n",
       "2229                         Indian Writing (Books)   \n",
       "2660                     Action & Adventure (Books)   \n",
       "2779                                 Painting Books   \n",
       "3511                          Science & Mathematics   \n",
       "3875                          Short Stories (Books)   \n",
       "3960          Biographies & Autobiographies (Books)   \n",
       "4036                Outdoor Survival Skills (Books)   \n",
       "4403                Travel & Holiday Guides (Books)   \n",
       "5117                                     Humanities   \n",
       "5860           Language Learning & Teaching (Books)   \n",
       "\n",
       "                              BookCategory   Price cover_type  edition_year  \\\n",
       "169                     Action & Adventure   418.0  Paperback           NaN   \n",
       "235               Arts, Film & Photography  1453.0      Other           NaN   \n",
       "582               Arts, Film & Photography   415.0  Paperback           NaN   \n",
       "972                        Comics & Mangas   445.0  Paperback           NaN   \n",
       "1233                    Action & Adventure   277.0  Paperback           NaN   \n",
       "1558             Crime, Thriller & Mystery   100.0  Hardcover           NaN   \n",
       "1605       Language, Linguistics & Writing   399.0  Paperback           NaN   \n",
       "1631                                Sports   709.0  Paperback           NaN   \n",
       "1643              Arts, Film & Photography   220.0  Paperback           NaN   \n",
       "1769   Computing, Internet & Digital Media  2248.0  Hardcover           NaN   \n",
       "2101       Language, Linguistics & Writing   798.0  Hardcover           NaN   \n",
       "2229  Biographies, Diaries & True Accounts   188.0  Paperback           NaN   \n",
       "2660                    Action & Adventure   270.0  Paperback           NaN   \n",
       "2779              Arts, Film & Photography   805.0  Paperback           NaN   \n",
       "3511                       Comics & Mangas  1499.0  Paperback           NaN   \n",
       "3875             Crime, Thriller & Mystery   896.0  Hardcover           NaN   \n",
       "3960  Biographies, Diaries & True Accounts   123.0  Paperback           NaN   \n",
       "4036                                Sports  1826.0  Paperback           NaN   \n",
       "4403              Arts, Film & Photography  1542.0  Hardcover           NaN   \n",
       "5117  Biographies, Diaries & True Accounts   180.0  Paperback           NaN   \n",
       "5860       Language, Linguistics & Writing   127.0  Paperback           NaN   \n",
       "\n",
       "     edition_year_cat  \n",
       "169               NaN  \n",
       "235               NaN  \n",
       "582               NaN  \n",
       "972               NaN  \n",
       "1233              NaN  \n",
       "1558              NaN  \n",
       "1605              NaN  \n",
       "1631              NaN  \n",
       "1643              NaN  \n",
       "1769              NaN  \n",
       "2101              NaN  \n",
       "2229              NaN  \n",
       "2660              NaN  \n",
       "2779              NaN  \n",
       "3511              NaN  \n",
       "3875              NaN  \n",
       "3960              NaN  \n",
       "4036              NaN  \n",
       "4403              NaN  \n",
       "5117              NaN  \n",
       "5860              NaN  "
      ]
     },
     "execution_count": 69,
     "metadata": {},
     "output_type": "execute_result"
    }
   ],
   "source": [
    "df1.loc[df1.edition_year_cat.isna()]"
   ]
  },
  {
   "cell_type": "code",
   "execution_count": 270,
   "id": "a7bac417",
   "metadata": {},
   "outputs": [
    {
     "data": {
      "text/plain": [
       "Title               0\n",
       "Author              0\n",
       "Edition             0\n",
       "Reviews             0\n",
       "Ratings             0\n",
       "Synopsis            0\n",
       "Genre               0\n",
       "BookCategory        0\n",
       "Price               0\n",
       "cover_type          0\n",
       "edition_year        0\n",
       "edition_year_cat    0\n",
       "dtype: int64"
      ]
     },
     "execution_count": 270,
     "metadata": {},
     "output_type": "execute_result"
    }
   ],
   "source": [
    "df1.isna().sum()"
   ]
  },
  {
   "cell_type": "code",
   "execution_count": 70,
   "id": "0e770822",
   "metadata": {},
   "outputs": [
    {
     "data": {
      "text/plain": [
       "(6237, 12)"
      ]
     },
     "execution_count": 70,
     "metadata": {},
     "output_type": "execute_result"
    }
   ],
   "source": [
    "df1.shape"
   ]
  },
  {
   "cell_type": "code",
   "execution_count": 71,
   "id": "792ad707",
   "metadata": {},
   "outputs": [],
   "source": [
    "df2 = df1.copy()"
   ]
  },
  {
   "cell_type": "code",
   "execution_count": 72,
   "id": "3b66b144",
   "metadata": {},
   "outputs": [
    {
     "data": {
      "text/plain": [
       "(6216, 12)"
      ]
     },
     "execution_count": 72,
     "metadata": {},
     "output_type": "execute_result"
    }
   ],
   "source": [
    "df2.shape"
   ]
  },
  {
   "cell_type": "code",
   "execution_count": 73,
   "id": "bcd43335",
   "metadata": {},
   "outputs": [],
   "source": [
    "df2['edition_year'] = df2['edition_year'].astype(int)"
   ]
  },
  {
   "cell_type": "code",
   "execution_count": 271,
   "id": "fa2e1c7d",
   "metadata": {},
   "outputs": [],
   "source": [
    "df_test['edition_year'] = df_test['edition_year'].astype(int)"
   ]
  },
  {
   "cell_type": "code",
   "execution_count": 74,
   "id": "6e7146e5",
   "metadata": {},
   "outputs": [
    {
     "name": "stdout",
     "output_type": "stream",
     "text": [
      "<class 'pandas.core.frame.DataFrame'>\n",
      "Int64Index: 6216 entries, 0 to 6236\n",
      "Data columns (total 12 columns):\n",
      " #   Column            Non-Null Count  Dtype   \n",
      "---  ------            --------------  -----   \n",
      " 0   Title             6216 non-null   object  \n",
      " 1   Author            6216 non-null   object  \n",
      " 2   Edition           6216 non-null   object  \n",
      " 3   Reviews           6216 non-null   object  \n",
      " 4   Ratings           6216 non-null   object  \n",
      " 5   Synopsis          6216 non-null   object  \n",
      " 6   Genre             6216 non-null   object  \n",
      " 7   BookCategory      6216 non-null   object  \n",
      " 8   Price             6216 non-null   float64 \n",
      " 9   cover_type        6216 non-null   object  \n",
      " 10  edition_year      6216 non-null   int32   \n",
      " 11  edition_year_cat  6216 non-null   category\n",
      "dtypes: category(1), float64(1), int32(1), object(9)\n",
      "memory usage: 564.7+ KB\n"
     ]
    }
   ],
   "source": [
    "df2.info()"
   ]
  },
  {
   "cell_type": "code",
   "execution_count": 75,
   "id": "abd44fda",
   "metadata": {},
   "outputs": [
    {
     "data": {
      "text/html": [
       "<div>\n",
       "<style scoped>\n",
       "    .dataframe tbody tr th:only-of-type {\n",
       "        vertical-align: middle;\n",
       "    }\n",
       "\n",
       "    .dataframe tbody tr th {\n",
       "        vertical-align: top;\n",
       "    }\n",
       "\n",
       "    .dataframe thead th {\n",
       "        text-align: right;\n",
       "    }\n",
       "</style>\n",
       "<table border=\"1\" class=\"dataframe\">\n",
       "  <thead>\n",
       "    <tr style=\"text-align: right;\">\n",
       "      <th></th>\n",
       "      <th>Title</th>\n",
       "      <th>Author</th>\n",
       "      <th>Edition</th>\n",
       "      <th>Reviews</th>\n",
       "      <th>Ratings</th>\n",
       "      <th>Synopsis</th>\n",
       "      <th>Genre</th>\n",
       "      <th>BookCategory</th>\n",
       "      <th>Price</th>\n",
       "      <th>cover_type</th>\n",
       "      <th>edition_year</th>\n",
       "      <th>edition_year_cat</th>\n",
       "    </tr>\n",
       "  </thead>\n",
       "  <tbody>\n",
       "    <tr>\n",
       "      <th>0</th>\n",
       "      <td>The Prisoner's Gold (The Hunters 3)</td>\n",
       "      <td>Chris Kuzneski</td>\n",
       "      <td>Paperback,– 10 Mar 2016</td>\n",
       "      <td>4.0 out of 5 stars</td>\n",
       "      <td>8 customer reviews</td>\n",
       "      <td>THE HUNTERS return in their third brilliant no...</td>\n",
       "      <td>Action &amp; Adventure (Books)</td>\n",
       "      <td>Action &amp; Adventure</td>\n",
       "      <td>220.00</td>\n",
       "      <td>Paperback</td>\n",
       "      <td>2016</td>\n",
       "      <td>New</td>\n",
       "    </tr>\n",
       "    <tr>\n",
       "      <th>1</th>\n",
       "      <td>Guru Dutt: A Tragedy in Three Acts</td>\n",
       "      <td>Arun Khopkar</td>\n",
       "      <td>Paperback,– 7 Nov 2012</td>\n",
       "      <td>3.9 out of 5 stars</td>\n",
       "      <td>14 customer reviews</td>\n",
       "      <td>A layered portrait of a troubled genius for wh...</td>\n",
       "      <td>Cinema &amp; Broadcast (Books)</td>\n",
       "      <td>Biographies, Diaries &amp; True Accounts</td>\n",
       "      <td>202.93</td>\n",
       "      <td>Paperback</td>\n",
       "      <td>2012</td>\n",
       "      <td>New</td>\n",
       "    </tr>\n",
       "    <tr>\n",
       "      <th>2</th>\n",
       "      <td>Leviathan (Penguin Classics)</td>\n",
       "      <td>Thomas Hobbes</td>\n",
       "      <td>Paperback,– 25 Feb 1982</td>\n",
       "      <td>4.8 out of 5 stars</td>\n",
       "      <td>6 customer reviews</td>\n",
       "      <td>\"During the time men live without a common Pow...</td>\n",
       "      <td>International Relations</td>\n",
       "      <td>Humour</td>\n",
       "      <td>299.00</td>\n",
       "      <td>Paperback</td>\n",
       "      <td>1982</td>\n",
       "      <td>Old</td>\n",
       "    </tr>\n",
       "    <tr>\n",
       "      <th>3</th>\n",
       "      <td>A Pocket Full of Rye (Miss Marple)</td>\n",
       "      <td>Agatha Christie</td>\n",
       "      <td>Paperback,– 5 Oct 2017</td>\n",
       "      <td>4.1 out of 5 stars</td>\n",
       "      <td>13 customer reviews</td>\n",
       "      <td>A handful of grain is found in the pocket of a...</td>\n",
       "      <td>Contemporary Fiction (Books)</td>\n",
       "      <td>Crime, Thriller &amp; Mystery</td>\n",
       "      <td>180.00</td>\n",
       "      <td>Paperback</td>\n",
       "      <td>2017</td>\n",
       "      <td>New</td>\n",
       "    </tr>\n",
       "    <tr>\n",
       "      <th>4</th>\n",
       "      <td>LIFE 70 Years of Extraordinary Photography</td>\n",
       "      <td>Editors of Life</td>\n",
       "      <td>Hardcover,– 10 Oct 2006</td>\n",
       "      <td>5.0 out of 5 stars</td>\n",
       "      <td>1 customer review</td>\n",
       "      <td>For seven decades, \"Life\" has been thrilling t...</td>\n",
       "      <td>Photography Textbooks</td>\n",
       "      <td>Arts, Film &amp; Photography</td>\n",
       "      <td>965.62</td>\n",
       "      <td>Hardcover</td>\n",
       "      <td>2006</td>\n",
       "      <td>Mid</td>\n",
       "    </tr>\n",
       "  </tbody>\n",
       "</table>\n",
       "</div>"
      ],
      "text/plain": [
       "                                        Title           Author  \\\n",
       "0         The Prisoner's Gold (The Hunters 3)   Chris Kuzneski   \n",
       "1          Guru Dutt: A Tragedy in Three Acts     Arun Khopkar   \n",
       "2                Leviathan (Penguin Classics)    Thomas Hobbes   \n",
       "3          A Pocket Full of Rye (Miss Marple)  Agatha Christie   \n",
       "4  LIFE 70 Years of Extraordinary Photography  Editors of Life   \n",
       "\n",
       "                   Edition             Reviews              Ratings  \\\n",
       "0  Paperback,– 10 Mar 2016  4.0 out of 5 stars   8 customer reviews   \n",
       "1   Paperback,– 7 Nov 2012  3.9 out of 5 stars  14 customer reviews   \n",
       "2  Paperback,– 25 Feb 1982  4.8 out of 5 stars   6 customer reviews   \n",
       "3   Paperback,– 5 Oct 2017  4.1 out of 5 stars  13 customer reviews   \n",
       "4  Hardcover,– 10 Oct 2006  5.0 out of 5 stars    1 customer review   \n",
       "\n",
       "                                            Synopsis  \\\n",
       "0  THE HUNTERS return in their third brilliant no...   \n",
       "1  A layered portrait of a troubled genius for wh...   \n",
       "2  \"During the time men live without a common Pow...   \n",
       "3  A handful of grain is found in the pocket of a...   \n",
       "4  For seven decades, \"Life\" has been thrilling t...   \n",
       "\n",
       "                          Genre                          BookCategory   Price  \\\n",
       "0    Action & Adventure (Books)                    Action & Adventure  220.00   \n",
       "1    Cinema & Broadcast (Books)  Biographies, Diaries & True Accounts  202.93   \n",
       "2       International Relations                                Humour  299.00   \n",
       "3  Contemporary Fiction (Books)             Crime, Thriller & Mystery  180.00   \n",
       "4         Photography Textbooks              Arts, Film & Photography  965.62   \n",
       "\n",
       "  cover_type  edition_year edition_year_cat  \n",
       "0  Paperback          2016              New  \n",
       "1  Paperback          2012              New  \n",
       "2  Paperback          1982              Old  \n",
       "3  Paperback          2017              New  \n",
       "4  Hardcover          2006              Mid  "
      ]
     },
     "execution_count": 75,
     "metadata": {},
     "output_type": "execute_result"
    }
   ],
   "source": [
    "df2.head()"
   ]
  },
  {
   "cell_type": "code",
   "execution_count": 76,
   "id": "c69f279e",
   "metadata": {},
   "outputs": [],
   "source": [
    "def reviews(x):\n",
    "    return float(x[:3])"
   ]
  },
  {
   "cell_type": "code",
   "execution_count": 77,
   "id": "2e3463a3",
   "metadata": {},
   "outputs": [],
   "source": [
    "df2['reviews'] = df2['Reviews'].map(reviews)"
   ]
  },
  {
   "cell_type": "code",
   "execution_count": 272,
   "id": "b7063172",
   "metadata": {},
   "outputs": [],
   "source": [
    "df_test['reviews'] = df_test['Reviews'].map(reviews)"
   ]
  },
  {
   "cell_type": "code",
   "execution_count": 79,
   "id": "da5147ff",
   "metadata": {},
   "outputs": [
    {
     "data": {
      "image/png": "[encoded data removed]",
      "text/plain": [
       "<Figure size 1080x576 with 1 Axes>"
      ]
     },
     "metadata": {
      "needs_background": "light"
     },
     "output_type": "display_data"
    }
   ],
   "source": [
    "sns.countplot(df2.reviews)\n",
    "plt.xticks(rotation=90)\n",
    "plt.show()"
   ]
  },
  {
   "cell_type": "code",
   "execution_count": 80,
   "id": "15626e1e",
   "metadata": {},
   "outputs": [],
   "source": [
    "def ratings(x):\n",
    "    lst = []\n",
    "    for i in x:\n",
    "        if i.isdigit():\n",
    "            lst.append(i)\n",
    "    return float(''.join(lst))"
   ]
  },
  {
   "cell_type": "code",
   "execution_count": 81,
   "id": "f3945610",
   "metadata": {},
   "outputs": [],
   "source": [
    "df2['ratings'] = df2['Ratings'].map(ratings)"
   ]
  },
  {
   "cell_type": "code",
   "execution_count": 273,
   "id": "26f6325c",
   "metadata": {},
   "outputs": [],
   "source": [
    "df_test['ratings'] = df_test['Ratings'].map(ratings)"
   ]
  },
  {
   "cell_type": "code",
   "execution_count": 83,
   "id": "359c24f4",
   "metadata": {},
   "outputs": [
    {
     "data": {
      "image/png": "[encoded data removed]",
      "text/plain": [
       "<Figure size 1080x576 with 1 Axes>"
      ]
     },
     "metadata": {
      "needs_background": "light"
     },
     "output_type": "display_data"
    }
   ],
   "source": [
    "sns.distplot(df2.ratings)\n",
    "plt.xticks(rotation=90)\n",
    "plt.show()"
   ]
  },
  {
   "cell_type": "code",
   "execution_count": 84,
   "id": "ec468ad6",
   "metadata": {},
   "outputs": [
    {
     "data": {
      "text/html": [
       "<div>\n",
       "<style scoped>\n",
       "    .dataframe tbody tr th:only-of-type {\n",
       "        vertical-align: middle;\n",
       "    }\n",
       "\n",
       "    .dataframe tbody tr th {\n",
       "        vertical-align: top;\n",
       "    }\n",
       "\n",
       "    .dataframe thead th {\n",
       "        text-align: right;\n",
       "    }\n",
       "</style>\n",
       "<table border=\"1\" class=\"dataframe\">\n",
       "  <thead>\n",
       "    <tr style=\"text-align: right;\">\n",
       "      <th></th>\n",
       "      <th>Title</th>\n",
       "      <th>Author</th>\n",
       "      <th>Edition</th>\n",
       "      <th>Reviews</th>\n",
       "      <th>Ratings</th>\n",
       "      <th>Synopsis</th>\n",
       "      <th>Genre</th>\n",
       "      <th>BookCategory</th>\n",
       "      <th>Price</th>\n",
       "      <th>cover_type</th>\n",
       "      <th>edition_year</th>\n",
       "      <th>edition_year_cat</th>\n",
       "      <th>reviews</th>\n",
       "      <th>ratings</th>\n",
       "    </tr>\n",
       "  </thead>\n",
       "  <tbody>\n",
       "    <tr>\n",
       "      <th>0</th>\n",
       "      <td>The Prisoner's Gold (The Hunters 3)</td>\n",
       "      <td>Chris Kuzneski</td>\n",
       "      <td>Paperback,– 10 Mar 2016</td>\n",
       "      <td>4.0 out of 5 stars</td>\n",
       "      <td>8 customer reviews</td>\n",
       "      <td>THE HUNTERS return in their third brilliant no...</td>\n",
       "      <td>Action &amp; Adventure (Books)</td>\n",
       "      <td>Action &amp; Adventure</td>\n",
       "      <td>220.00</td>\n",
       "      <td>Paperback</td>\n",
       "      <td>2016</td>\n",
       "      <td>New</td>\n",
       "      <td>4.0</td>\n",
       "      <td>8.0</td>\n",
       "    </tr>\n",
       "    <tr>\n",
       "      <th>1</th>\n",
       "      <td>Guru Dutt: A Tragedy in Three Acts</td>\n",
       "      <td>Arun Khopkar</td>\n",
       "      <td>Paperback,– 7 Nov 2012</td>\n",
       "      <td>3.9 out of 5 stars</td>\n",
       "      <td>14 customer reviews</td>\n",
       "      <td>A layered portrait of a troubled genius for wh...</td>\n",
       "      <td>Cinema &amp; Broadcast (Books)</td>\n",
       "      <td>Biographies, Diaries &amp; True Accounts</td>\n",
       "      <td>202.93</td>\n",
       "      <td>Paperback</td>\n",
       "      <td>2012</td>\n",
       "      <td>New</td>\n",
       "      <td>3.9</td>\n",
       "      <td>14.0</td>\n",
       "    </tr>\n",
       "    <tr>\n",
       "      <th>2</th>\n",
       "      <td>Leviathan (Penguin Classics)</td>\n",
       "      <td>Thomas Hobbes</td>\n",
       "      <td>Paperback,– 25 Feb 1982</td>\n",
       "      <td>4.8 out of 5 stars</td>\n",
       "      <td>6 customer reviews</td>\n",
       "      <td>\"During the time men live without a common Pow...</td>\n",
       "      <td>International Relations</td>\n",
       "      <td>Humour</td>\n",
       "      <td>299.00</td>\n",
       "      <td>Paperback</td>\n",
       "      <td>1982</td>\n",
       "      <td>Old</td>\n",
       "      <td>4.8</td>\n",
       "      <td>6.0</td>\n",
       "    </tr>\n",
       "    <tr>\n",
       "      <th>3</th>\n",
       "      <td>A Pocket Full of Rye (Miss Marple)</td>\n",
       "      <td>Agatha Christie</td>\n",
       "      <td>Paperback,– 5 Oct 2017</td>\n",
       "      <td>4.1 out of 5 stars</td>\n",
       "      <td>13 customer reviews</td>\n",
       "      <td>A handful of grain is found in the pocket of a...</td>\n",
       "      <td>Contemporary Fiction (Books)</td>\n",
       "      <td>Crime, Thriller &amp; Mystery</td>\n",
       "      <td>180.00</td>\n",
       "      <td>Paperback</td>\n",
       "      <td>2017</td>\n",
       "      <td>New</td>\n",
       "      <td>4.1</td>\n",
       "      <td>13.0</td>\n",
       "    </tr>\n",
       "    <tr>\n",
       "      <th>4</th>\n",
       "      <td>LIFE 70 Years of Extraordinary Photography</td>\n",
       "      <td>Editors of Life</td>\n",
       "      <td>Hardcover,– 10 Oct 2006</td>\n",
       "      <td>5.0 out of 5 stars</td>\n",
       "      <td>1 customer review</td>\n",
       "      <td>For seven decades, \"Life\" has been thrilling t...</td>\n",
       "      <td>Photography Textbooks</td>\n",
       "      <td>Arts, Film &amp; Photography</td>\n",
       "      <td>965.62</td>\n",
       "      <td>Hardcover</td>\n",
       "      <td>2006</td>\n",
       "      <td>Mid</td>\n",
       "      <td>5.0</td>\n",
       "      <td>1.0</td>\n",
       "    </tr>\n",
       "  </tbody>\n",
       "</table>\n",
       "</div>"
      ],
      "text/plain": [
       "                                        Title           Author  \\\n",
       "0         The Prisoner's Gold (The Hunters 3)   Chris Kuzneski   \n",
       "1          Guru Dutt: A Tragedy in Three Acts     Arun Khopkar   \n",
       "2                Leviathan (Penguin Classics)    Thomas Hobbes   \n",
       "3          A Pocket Full of Rye (Miss Marple)  Agatha Christie   \n",
       "4  LIFE 70 Years of Extraordinary Photography  Editors of Life   \n",
       "\n",
       "                   Edition             Reviews              Ratings  \\\n",
       "0  Paperback,– 10 Mar 2016  4.0 out of 5 stars   8 customer reviews   \n",
       "1   Paperback,– 7 Nov 2012  3.9 out of 5 stars  14 customer reviews   \n",
       "2  Paperback,– 25 Feb 1982  4.8 out of 5 stars   6 customer reviews   \n",
       "3   Paperback,– 5 Oct 2017  4.1 out of 5 stars  13 customer reviews   \n",
       "4  Hardcover,– 10 Oct 2006  5.0 out of 5 stars    1 customer review   \n",
       "\n",
       "                                            Synopsis  \\\n",
       "0  THE HUNTERS return in their third brilliant no...   \n",
       "1  A layered portrait of a troubled genius for wh...   \n",
       "2  \"During the time men live without a common Pow...   \n",
       "3  A handful of grain is found in the pocket of a...   \n",
       "4  For seven decades, \"Life\" has been thrilling t...   \n",
       "\n",
       "                          Genre                          BookCategory   Price  \\\n",
       "0    Action & Adventure (Books)                    Action & Adventure  220.00   \n",
       "1    Cinema & Broadcast (Books)  Biographies, Diaries & True Accounts  202.93   \n",
       "2       International Relations                                Humour  299.00   \n",
       "3  Contemporary Fiction (Books)             Crime, Thriller & Mystery  180.00   \n",
       "4         Photography Textbooks              Arts, Film & Photography  965.62   \n",
       "\n",
       "  cover_type  edition_year edition_year_cat  reviews  ratings  \n",
       "0  Paperback          2016              New      4.0      8.0  \n",
       "1  Paperback          2012              New      3.9     14.0  \n",
       "2  Paperback          1982              Old      4.8      6.0  \n",
       "3  Paperback          2017              New      4.1     13.0  \n",
       "4  Hardcover          2006              Mid      5.0      1.0  "
      ]
     },
     "execution_count": 84,
     "metadata": {},
     "output_type": "execute_result"
    }
   ],
   "source": [
    "df2.head()"
   ]
  },
  {
   "cell_type": "code",
   "execution_count": 86,
   "id": "5ecd542a",
   "metadata": {},
   "outputs": [
    {
     "data": {
      "text/plain": [
       "11"
      ]
     },
     "execution_count": 86,
     "metadata": {},
     "output_type": "execute_result"
    }
   ],
   "source": [
    "df2.BookCategory.nunique()"
   ]
  },
  {
   "cell_type": "code",
   "execution_count": 87,
   "id": "0ea79a3f",
   "metadata": {},
   "outputs": [
    {
     "data": {
      "text/plain": [
       "345"
      ]
     },
     "execution_count": 87,
     "metadata": {},
     "output_type": "execute_result"
    }
   ],
   "source": [
    "df2.Genre.nunique()"
   ]
  },
  {
   "cell_type": "code",
   "execution_count": 103,
   "id": "05c14e99",
   "metadata": {},
   "outputs": [
    {
     "data": {
      "text/plain": [
       "Index(['Action & Adventure (Books)', 'Romance (Books)',\n",
       "       'Biographies & Autobiographies (Books)',\n",
       "       'Crime, Thriller & Mystery (Books)', 'Contemporary Fiction (Books)',\n",
       "       'Comics & Mangas (Books)', 'Mangas', 'Music Books', 'Humour (Books)',\n",
       "       'Design', 'Dictionaries', 'Cinema & Broadcast (Books)',\n",
       "       'Handicrafts, Decorative Arts & Crafts (Books)',\n",
       "       'Arts History, Theory & Criticism (Books)',\n",
       "       'Healthy Living & Wellness (Books)', 'Writing Guides (Books)',\n",
       "       'Language Learning & Teaching (Books)', 'Indian Writing (Books)',\n",
       "       'Computer Science Books', 'Government (Books)', 'True Accounts (Books)',\n",
       "       'Comics & Graphic Novels (Books)', 'Sports Training & Coaching (Books)',\n",
       "       'Language, Linguistics & Writing (Books)', 'Linguistics (Books)',\n",
       "       'Comics', 'Encyclopaedias & Reference Works (Books)',\n",
       "       'Software & Business Applications (Books)', 'Asian History',\n",
       "       'Photography Textbooks', 'Industries & Business Sectors (Books)',\n",
       "       'Political Ideologies (Books)', 'Introductory & Beginning Programming',\n",
       "       'Games & Quizzes (Books)', 'Programming Languages (Books)',\n",
       "       'Theatre & Spectacles (Books)', 'Historical Fiction (Books)',\n",
       "       'Anthologies (Books)', 'Grammar (Books)',\n",
       "       'Programming & Software Development (Books)',\n",
       "       'Networks & System Administration (Books)', 'Short Stories (Books)',\n",
       "       'Horror (Books)', 'Cricket (Books)', 'Martial Arts (Books)',\n",
       "       'Computing, Internet & Digital Media (Books)', 'Essays (Books)',\n",
       "       'Public Policy', 'Biographies, Diaries & True Accounts (Books)',\n",
       "       'Business Communication'],\n",
       "      dtype='object')"
      ]
     },
     "execution_count": 103,
     "metadata": {},
     "output_type": "execute_result"
    }
   ],
   "source": [
    "df2.Genre.value_counts().head(50).index"
   ]
  },
  {
   "cell_type": "code",
   "execution_count": 108,
   "id": "a6a3b976",
   "metadata": {},
   "outputs": [],
   "source": [
    "genres = df2.Genre.value_counts().head(25).index\n",
    "\n",
    "def genre_cat(x):\n",
    "    if x not in genres:\n",
    "        return 'Other'\n",
    "    else:\n",
    "        return x\n",
    "    \n",
    "df2['genre_cat'] = df2.Genre.map(genre_cat)"
   ]
  },
  {
   "cell_type": "code",
   "execution_count": 274,
   "id": "63af66ad",
   "metadata": {},
   "outputs": [],
   "source": [
    "df_test['genre_cat'] = df_test.Genre.map(genre_cat)"
   ]
  },
  {
   "cell_type": "code",
   "execution_count": 109,
   "id": "57c450a8",
   "metadata": {},
   "outputs": [
    {
     "data": {
      "image/png": "[encoded data removed]",
      "text/plain": [
       "<Figure size 1080x576 with 1 Axes>"
      ]
     },
     "metadata": {
      "needs_background": "light"
     },
     "output_type": "display_data"
    }
   ],
   "source": [
    "sns.countplot(df2.genre_cat)\n",
    "plt.xticks(rotation=90)\n",
    "plt.show()"
   ]
  },
  {
   "cell_type": "code",
   "execution_count": 112,
   "id": "4d7e42d7",
   "metadata": {},
   "outputs": [
    {
     "data": {
      "text/plain": [
       "3666"
      ]
     },
     "execution_count": 112,
     "metadata": {},
     "output_type": "execute_result"
    }
   ],
   "source": [
    "df2.Author.nunique()"
   ]
  },
  {
   "cell_type": "code",
   "execution_count": 111,
   "id": "9ef69895",
   "metadata": {},
   "outputs": [
    {
     "data": {
      "text/plain": [
       "Agatha Christie    68\n",
       "Ladybird           49\n",
       "DK                 48\n",
       "Albert Uderzo      34\n",
       "Herge              34\n",
       "James Patterson    32\n",
       "John Grisham       30\n",
       "Bill Watterson     30\n",
       "P.G. Wodehouse     29\n",
       "Sidney Sheldon     28\n",
       "Name: Author, dtype: int64"
      ]
     },
     "execution_count": 111,
     "metadata": {},
     "output_type": "execute_result"
    }
   ],
   "source": [
    "df2.Author.value_counts().head(10)"
   ]
  },
  {
   "cell_type": "code",
   "execution_count": 114,
   "id": "b597c6d1",
   "metadata": {},
   "outputs": [
    {
     "data": {
      "text/html": [
       "<div>\n",
       "<style scoped>\n",
       "    .dataframe tbody tr th:only-of-type {\n",
       "        vertical-align: middle;\n",
       "    }\n",
       "\n",
       "    .dataframe tbody tr th {\n",
       "        vertical-align: top;\n",
       "    }\n",
       "\n",
       "    .dataframe thead th {\n",
       "        text-align: right;\n",
       "    }\n",
       "</style>\n",
       "<table border=\"1\" class=\"dataframe\">\n",
       "  <thead>\n",
       "    <tr style=\"text-align: right;\">\n",
       "      <th></th>\n",
       "      <th>Title</th>\n",
       "      <th>Author</th>\n",
       "      <th>Edition</th>\n",
       "      <th>Reviews</th>\n",
       "      <th>Ratings</th>\n",
       "      <th>Synopsis</th>\n",
       "      <th>Genre</th>\n",
       "      <th>BookCategory</th>\n",
       "      <th>Price</th>\n",
       "      <th>cover_type</th>\n",
       "      <th>edition_year</th>\n",
       "      <th>edition_year_cat</th>\n",
       "      <th>reviews</th>\n",
       "      <th>ratings</th>\n",
       "      <th>genre_cat</th>\n",
       "    </tr>\n",
       "  </thead>\n",
       "  <tbody>\n",
       "    <tr>\n",
       "      <th>0</th>\n",
       "      <td>The Prisoner's Gold (The Hunters 3)</td>\n",
       "      <td>Chris Kuzneski</td>\n",
       "      <td>Paperback,– 10 Mar 2016</td>\n",
       "      <td>4.0 out of 5 stars</td>\n",
       "      <td>8 customer reviews</td>\n",
       "      <td>THE HUNTERS return in their third brilliant no...</td>\n",
       "      <td>Action &amp; Adventure (Books)</td>\n",
       "      <td>Action &amp; Adventure</td>\n",
       "      <td>220.00</td>\n",
       "      <td>Paperback</td>\n",
       "      <td>2016</td>\n",
       "      <td>New</td>\n",
       "      <td>4.0</td>\n",
       "      <td>8.0</td>\n",
       "      <td>Action &amp; Adventure (Books)</td>\n",
       "    </tr>\n",
       "    <tr>\n",
       "      <th>1</th>\n",
       "      <td>Guru Dutt: A Tragedy in Three Acts</td>\n",
       "      <td>Arun Khopkar</td>\n",
       "      <td>Paperback,– 7 Nov 2012</td>\n",
       "      <td>3.9 out of 5 stars</td>\n",
       "      <td>14 customer reviews</td>\n",
       "      <td>A layered portrait of a troubled genius for wh...</td>\n",
       "      <td>Cinema &amp; Broadcast (Books)</td>\n",
       "      <td>Biographies, Diaries &amp; True Accounts</td>\n",
       "      <td>202.93</td>\n",
       "      <td>Paperback</td>\n",
       "      <td>2012</td>\n",
       "      <td>New</td>\n",
       "      <td>3.9</td>\n",
       "      <td>14.0</td>\n",
       "      <td>Cinema &amp; Broadcast (Books)</td>\n",
       "    </tr>\n",
       "  </tbody>\n",
       "</table>\n",
       "</div>"
      ],
      "text/plain": [
       "                                 Title          Author  \\\n",
       "0  The Prisoner's Gold (The Hunters 3)  Chris Kuzneski   \n",
       "1   Guru Dutt: A Tragedy in Three Acts    Arun Khopkar   \n",
       "\n",
       "                   Edition             Reviews              Ratings  \\\n",
       "0  Paperback,– 10 Mar 2016  4.0 out of 5 stars   8 customer reviews   \n",
       "1   Paperback,– 7 Nov 2012  3.9 out of 5 stars  14 customer reviews   \n",
       "\n",
       "                                            Synopsis  \\\n",
       "0  THE HUNTERS return in their third brilliant no...   \n",
       "1  A layered portrait of a troubled genius for wh...   \n",
       "\n",
       "                        Genre                          BookCategory   Price  \\\n",
       "0  Action & Adventure (Books)                    Action & Adventure  220.00   \n",
       "1  Cinema & Broadcast (Books)  Biographies, Diaries & True Accounts  202.93   \n",
       "\n",
       "  cover_type  edition_year edition_year_cat  reviews  ratings  \\\n",
       "0  Paperback          2016              New      4.0      8.0   \n",
       "1  Paperback          2012              New      3.9     14.0   \n",
       "\n",
       "                    genre_cat  \n",
       "0  Action & Adventure (Books)  \n",
       "1  Cinema & Broadcast (Books)  "
      ]
     },
     "execution_count": 114,
     "metadata": {},
     "output_type": "execute_result"
    }
   ],
   "source": [
    "df2.head(2)"
   ]
  },
  {
   "cell_type": "code",
   "execution_count": 116,
   "id": "15b112dd",
   "metadata": {},
   "outputs": [],
   "source": [
    "df2['publish_recency'] = 2020 - df2.edition_year"
   ]
  },
  {
   "cell_type": "code",
   "execution_count": 275,
   "id": "a17647a7",
   "metadata": {},
   "outputs": [],
   "source": [
    "df_test['publish_recency'] = 2020 - df_test.edition_year"
   ]
  },
  {
   "cell_type": "code",
   "execution_count": 118,
   "id": "c68da3de",
   "metadata": {},
   "outputs": [
    {
     "data": {
      "text/html": [
       "<div>\n",
       "<style scoped>\n",
       "    .dataframe tbody tr th:only-of-type {\n",
       "        vertical-align: middle;\n",
       "    }\n",
       "\n",
       "    .dataframe tbody tr th {\n",
       "        vertical-align: top;\n",
       "    }\n",
       "\n",
       "    .dataframe thead th {\n",
       "        text-align: right;\n",
       "    }\n",
       "</style>\n",
       "<table border=\"1\" class=\"dataframe\">\n",
       "  <thead>\n",
       "    <tr style=\"text-align: right;\">\n",
       "      <th></th>\n",
       "      <th>BookCategory</th>\n",
       "      <th>Price</th>\n",
       "      <th>cover_type</th>\n",
       "      <th>edition_year_cat</th>\n",
       "      <th>reviews</th>\n",
       "      <th>ratings</th>\n",
       "      <th>genre_cat</th>\n",
       "      <th>publish_recency</th>\n",
       "    </tr>\n",
       "  </thead>\n",
       "  <tbody>\n",
       "    <tr>\n",
       "      <th>0</th>\n",
       "      <td>Action &amp; Adventure</td>\n",
       "      <td>220.00</td>\n",
       "      <td>Paperback</td>\n",
       "      <td>New</td>\n",
       "      <td>4.0</td>\n",
       "      <td>8.0</td>\n",
       "      <td>Action &amp; Adventure (Books)</td>\n",
       "      <td>4</td>\n",
       "    </tr>\n",
       "    <tr>\n",
       "      <th>1</th>\n",
       "      <td>Biographies, Diaries &amp; True Accounts</td>\n",
       "      <td>202.93</td>\n",
       "      <td>Paperback</td>\n",
       "      <td>New</td>\n",
       "      <td>3.9</td>\n",
       "      <td>14.0</td>\n",
       "      <td>Cinema &amp; Broadcast (Books)</td>\n",
       "      <td>8</td>\n",
       "    </tr>\n",
       "    <tr>\n",
       "      <th>2</th>\n",
       "      <td>Humour</td>\n",
       "      <td>299.00</td>\n",
       "      <td>Paperback</td>\n",
       "      <td>Old</td>\n",
       "      <td>4.8</td>\n",
       "      <td>6.0</td>\n",
       "      <td>Other</td>\n",
       "      <td>38</td>\n",
       "    </tr>\n",
       "    <tr>\n",
       "      <th>3</th>\n",
       "      <td>Crime, Thriller &amp; Mystery</td>\n",
       "      <td>180.00</td>\n",
       "      <td>Paperback</td>\n",
       "      <td>New</td>\n",
       "      <td>4.1</td>\n",
       "      <td>13.0</td>\n",
       "      <td>Contemporary Fiction (Books)</td>\n",
       "      <td>3</td>\n",
       "    </tr>\n",
       "    <tr>\n",
       "      <th>4</th>\n",
       "      <td>Arts, Film &amp; Photography</td>\n",
       "      <td>965.62</td>\n",
       "      <td>Hardcover</td>\n",
       "      <td>Mid</td>\n",
       "      <td>5.0</td>\n",
       "      <td>1.0</td>\n",
       "      <td>Other</td>\n",
       "      <td>14</td>\n",
       "    </tr>\n",
       "  </tbody>\n",
       "</table>\n",
       "</div>"
      ],
      "text/plain": [
       "                           BookCategory   Price cover_type edition_year_cat  \\\n",
       "0                    Action & Adventure  220.00  Paperback              New   \n",
       "1  Biographies, Diaries & True Accounts  202.93  Paperback              New   \n",
       "2                                Humour  299.00  Paperback              Old   \n",
       "3             Crime, Thriller & Mystery  180.00  Paperback              New   \n",
       "4              Arts, Film & Photography  965.62  Hardcover              Mid   \n",
       "\n",
       "   reviews  ratings                     genre_cat  publish_recency  \n",
       "0      4.0      8.0    Action & Adventure (Books)                4  \n",
       "1      3.9     14.0    Cinema & Broadcast (Books)                8  \n",
       "2      4.8      6.0                         Other               38  \n",
       "3      4.1     13.0  Contemporary Fiction (Books)                3  \n",
       "4      5.0      1.0                         Other               14  "
      ]
     },
     "execution_count": 118,
     "metadata": {},
     "output_type": "execute_result"
    }
   ],
   "source": [
    "df3 = df2.drop(['Title', 'Author', 'Edition', 'Reviews', 'Ratings', 'Synopsis', 'Genre', 'edition_year'], axis=1)\n",
    "df3.head()"
   ]
  },
  {
   "cell_type": "code",
   "execution_count": 276,
   "id": "dad11f5c",
   "metadata": {},
   "outputs": [],
   "source": [
    "df_test = df_test.drop(['Title', 'Author', 'Edition', 'Reviews', 'Ratings', 'Synopsis', 'Genre', 'edition_year'], axis=1)"
   ]
  },
  {
   "cell_type": "code",
   "execution_count": 307,
   "id": "0a4ebad4",
   "metadata": {},
   "outputs": [],
   "source": [
    "df3_X = df3.drop('Price', axis=1)"
   ]
  },
  {
   "cell_type": "code",
   "execution_count": 308,
   "id": "68dd8815",
   "metadata": {},
   "outputs": [],
   "source": [
    "cat_cols = df3_X.select_dtypes(exclude=np.number)\n",
    "num_cols = df3_X.select_dtypes(include=np.number)"
   ]
  },
  {
   "cell_type": "code",
   "execution_count": 309,
   "id": "02314126",
   "metadata": {},
   "outputs": [
    {
     "data": {
      "text/plain": [
       "(6216, 3)"
      ]
     },
     "execution_count": 309,
     "metadata": {},
     "output_type": "execute_result"
    }
   ],
   "source": [
    "pw = PowerTransformer()\n",
    "df3_trans = pd.DataFrame(pw.fit_transform(num_cols), columns=num_cols.columns)\n",
    "\n",
    "sc = StandardScaler()\n",
    "df3_scaled = pd.DataFrame(sc.fit_transform(df3_trans), columns=df3_trans.columns).reset_index(drop=True)\n",
    "df3_scaled.shape"
   ]
  },
  {
   "cell_type": "code",
   "execution_count": 310,
   "id": "a4d04f0e",
   "metadata": {},
   "outputs": [
    {
     "data": {
      "text/plain": [
       "(1560, 3)"
      ]
     },
     "execution_count": 310,
     "metadata": {},
     "output_type": "execute_result"
    }
   ],
   "source": [
    "test_cat_cols = df_test.select_dtypes(exclude=np.number)\n",
    "test_num_cols = df_test.select_dtypes(include=np.number)\n",
    "\n",
    "test_trans = pd.DataFrame(pw.transform(test_num_cols), columns=test_num_cols.columns)\n",
    "test_scaled = pd.DataFrame(sc.transform(test_trans), columns=test_trans.columns).reset_index(drop=True)\n",
    "test_scaled.shape"
   ]
  },
  {
   "cell_type": "code",
   "execution_count": 123,
   "id": "859d8251",
   "metadata": {},
   "outputs": [
    {
     "data": {
      "image/png": "[encoded data removed]",
      "text/plain": [
       "<Figure size 1080x576 with 4 Axes>"
      ]
     },
     "metadata": {
      "needs_background": "light"
     },
     "output_type": "display_data"
    }
   ],
   "source": [
    "i = 1\n",
    "for x in df3_scaled:\n",
    "    plt.subplot(2, 2, i)\n",
    "    sns.histplot(df3_scaled[x], kde=True, fill=False)\n",
    "    i += 1\n",
    "plt.tight_layout()"
   ]
  },
  {
   "cell_type": "code",
   "execution_count": 132,
   "id": "5dd1413b",
   "metadata": {},
   "outputs": [
    {
     "data": {
      "text/plain": [
       "(6216, 41)"
      ]
     },
     "execution_count": 132,
     "metadata": {},
     "output_type": "execute_result"
    }
   ],
   "source": [
    "dummy_df = pd.get_dummies(data=cat_cols, drop_first=True).reset_index(drop=True)\n",
    "dummy_df.shape"
   ]
  },
  {
   "cell_type": "code",
   "execution_count": 290,
   "id": "3c2a0cc2",
   "metadata": {},
   "outputs": [
    {
     "data": {
      "text/plain": [
       "(1560, 41)"
      ]
     },
     "execution_count": 290,
     "metadata": {},
     "output_type": "execute_result"
    }
   ],
   "source": [
    "test_dummy_df = pd.get_dummies(data=test_cat_cols, drop_first=True).reset_index(drop=True)\n",
    "test_dummy_df.shape"
   ]
  },
  {
   "cell_type": "code",
   "execution_count": null,
   "id": "3be944f0",
   "metadata": {},
   "outputs": [],
   "source": [
    "# from feature_engine.encoding import CountFrequencyEncoder\n",
    "\n",
    "# fe = CountFrequencyEncoder(encoding_method='frequency')\n",
    "\n",
    "# author = fe.fit_transform(pd.DataFrame(books_new.Author))"
   ]
  },
  {
   "cell_type": "code",
   "execution_count": null,
   "id": "7b817cd6",
   "metadata": {},
   "outputs": [],
   "source": [
    "# books_new.insert(1, 'author_freq', author)"
   ]
  },
  {
   "cell_type": "code",
   "execution_count": 311,
   "id": "25ad1aac",
   "metadata": {},
   "outputs": [],
   "source": [
    "df_final = pd.concat([df3_scaled, dummy_df], axis=1)"
   ]
  },
  {
   "cell_type": "code",
   "execution_count": 312,
   "id": "da37a05f",
   "metadata": {},
   "outputs": [
    {
     "data": {
      "text/plain": [
       "(1560, 44)"
      ]
     },
     "execution_count": 312,
     "metadata": {},
     "output_type": "execute_result"
    }
   ],
   "source": [
    "test_final = pd.concat([test_scaled, test_dummy_df], axis=1)\n",
    "test_final.shape"
   ]
  },
  {
   "cell_type": "code",
   "execution_count": 313,
   "id": "300c975b",
   "metadata": {},
   "outputs": [
    {
     "data": {
      "text/html": [
       "<div>\n",
       "<style scoped>\n",
       "    .dataframe tbody tr th:only-of-type {\n",
       "        vertical-align: middle;\n",
       "    }\n",
       "\n",
       "    .dataframe tbody tr th {\n",
       "        vertical-align: top;\n",
       "    }\n",
       "\n",
       "    .dataframe thead th {\n",
       "        text-align: right;\n",
       "    }\n",
       "</style>\n",
       "<table border=\"1\" class=\"dataframe\">\n",
       "  <thead>\n",
       "    <tr style=\"text-align: right;\">\n",
       "      <th></th>\n",
       "      <th>reviews</th>\n",
       "      <th>ratings</th>\n",
       "      <th>publish_recency</th>\n",
       "      <th>BookCategory_Arts, Film &amp; Photography</th>\n",
       "      <th>BookCategory_Biographies, Diaries &amp; True Accounts</th>\n",
       "      <th>BookCategory_Comics &amp; Mangas</th>\n",
       "      <th>BookCategory_Computing, Internet &amp; Digital Media</th>\n",
       "      <th>BookCategory_Crime, Thriller &amp; Mystery</th>\n",
       "      <th>BookCategory_Humour</th>\n",
       "      <th>BookCategory_Language, Linguistics &amp; Writing</th>\n",
       "      <th>...</th>\n",
       "      <th>genre_cat_Language Learning &amp; Teaching (Books)</th>\n",
       "      <th>genre_cat_Language, Linguistics &amp; Writing (Books)</th>\n",
       "      <th>genre_cat_Linguistics (Books)</th>\n",
       "      <th>genre_cat_Mangas</th>\n",
       "      <th>genre_cat_Music Books</th>\n",
       "      <th>genre_cat_Other</th>\n",
       "      <th>genre_cat_Romance (Books)</th>\n",
       "      <th>genre_cat_Sports Training &amp; Coaching (Books)</th>\n",
       "      <th>genre_cat_True Accounts (Books)</th>\n",
       "      <th>genre_cat_Writing Guides (Books)</th>\n",
       "    </tr>\n",
       "  </thead>\n",
       "  <tbody>\n",
       "    <tr>\n",
       "      <th>0</th>\n",
       "      <td>-0.689429</td>\n",
       "      <td>0.136997</td>\n",
       "      <td>-0.400415</td>\n",
       "      <td>0</td>\n",
       "      <td>0</td>\n",
       "      <td>0</td>\n",
       "      <td>0</td>\n",
       "      <td>0</td>\n",
       "      <td>0</td>\n",
       "      <td>0</td>\n",
       "      <td>...</td>\n",
       "      <td>0</td>\n",
       "      <td>0</td>\n",
       "      <td>0</td>\n",
       "      <td>0</td>\n",
       "      <td>0</td>\n",
       "      <td>0</td>\n",
       "      <td>0</td>\n",
       "      <td>0</td>\n",
       "      <td>0</td>\n",
       "      <td>0</td>\n",
       "    </tr>\n",
       "    <tr>\n",
       "      <th>1</th>\n",
       "      <td>-0.835469</td>\n",
       "      <td>0.525772</td>\n",
       "      <td>0.434099</td>\n",
       "      <td>0</td>\n",
       "      <td>1</td>\n",
       "      <td>0</td>\n",
       "      <td>0</td>\n",
       "      <td>0</td>\n",
       "      <td>0</td>\n",
       "      <td>0</td>\n",
       "      <td>...</td>\n",
       "      <td>0</td>\n",
       "      <td>0</td>\n",
       "      <td>0</td>\n",
       "      <td>0</td>\n",
       "      <td>0</td>\n",
       "      <td>0</td>\n",
       "      <td>0</td>\n",
       "      <td>0</td>\n",
       "      <td>0</td>\n",
       "      <td>0</td>\n",
       "    </tr>\n",
       "    <tr>\n",
       "      <th>2</th>\n",
       "      <td>0.854076</td>\n",
       "      <td>-0.077561</td>\n",
       "      <td>2.113308</td>\n",
       "      <td>0</td>\n",
       "      <td>0</td>\n",
       "      <td>0</td>\n",
       "      <td>0</td>\n",
       "      <td>0</td>\n",
       "      <td>1</td>\n",
       "      <td>0</td>\n",
       "      <td>...</td>\n",
       "      <td>0</td>\n",
       "      <td>0</td>\n",
       "      <td>0</td>\n",
       "      <td>0</td>\n",
       "      <td>0</td>\n",
       "      <td>1</td>\n",
       "      <td>0</td>\n",
       "      <td>0</td>\n",
       "      <td>0</td>\n",
       "      <td>0</td>\n",
       "    </tr>\n",
       "    <tr>\n",
       "      <th>3</th>\n",
       "      <td>-0.533950</td>\n",
       "      <td>0.476717</td>\n",
       "      <td>-0.745550</td>\n",
       "      <td>0</td>\n",
       "      <td>0</td>\n",
       "      <td>0</td>\n",
       "      <td>0</td>\n",
       "      <td>1</td>\n",
       "      <td>0</td>\n",
       "      <td>0</td>\n",
       "      <td>...</td>\n",
       "      <td>0</td>\n",
       "      <td>0</td>\n",
       "      <td>0</td>\n",
       "      <td>0</td>\n",
       "      <td>0</td>\n",
       "      <td>0</td>\n",
       "      <td>0</td>\n",
       "      <td>0</td>\n",
       "      <td>0</td>\n",
       "      <td>0</td>\n",
       "    </tr>\n",
       "    <tr>\n",
       "      <th>4</th>\n",
       "      <td>1.360359</td>\n",
       "      <td>-1.429114</td>\n",
       "      <td>1.079317</td>\n",
       "      <td>1</td>\n",
       "      <td>0</td>\n",
       "      <td>0</td>\n",
       "      <td>0</td>\n",
       "      <td>0</td>\n",
       "      <td>0</td>\n",
       "      <td>0</td>\n",
       "      <td>...</td>\n",
       "      <td>0</td>\n",
       "      <td>0</td>\n",
       "      <td>0</td>\n",
       "      <td>0</td>\n",
       "      <td>0</td>\n",
       "      <td>1</td>\n",
       "      <td>0</td>\n",
       "      <td>0</td>\n",
       "      <td>0</td>\n",
       "      <td>0</td>\n",
       "    </tr>\n",
       "  </tbody>\n",
       "</table>\n",
       "<p>5 rows × 44 columns</p>\n",
       "</div>"
      ],
      "text/plain": [
       "    reviews   ratings  publish_recency  BookCategory_Arts, Film & Photography  \\\n",
       "0 -0.689429  0.136997        -0.400415                                      0   \n",
       "1 -0.835469  0.525772         0.434099                                      0   \n",
       "2  0.854076 -0.077561         2.113308                                      0   \n",
       "3 -0.533950  0.476717        -0.745550                                      0   \n",
       "4  1.360359 -1.429114         1.079317                                      1   \n",
       "\n",
       "   BookCategory_Biographies, Diaries & True Accounts  \\\n",
       "0                                                  0   \n",
       "1                                                  1   \n",
       "2                                                  0   \n",
       "3                                                  0   \n",
       "4                                                  0   \n",
       "\n",
       "   BookCategory_Comics & Mangas  \\\n",
       "0                             0   \n",
       "1                             0   \n",
       "2                             0   \n",
       "3                             0   \n",
       "4                             0   \n",
       "\n",
       "   BookCategory_Computing, Internet & Digital Media  \\\n",
       "0                                                 0   \n",
       "1                                                 0   \n",
       "2                                                 0   \n",
       "3                                                 0   \n",
       "4                                                 0   \n",
       "\n",
       "   BookCategory_Crime, Thriller & Mystery  BookCategory_Humour  \\\n",
       "0                                       0                    0   \n",
       "1                                       0                    0   \n",
       "2                                       0                    1   \n",
       "3                                       1                    0   \n",
       "4                                       0                    0   \n",
       "\n",
       "   BookCategory_Language, Linguistics & Writing  ...  \\\n",
       "0                                             0  ...   \n",
       "1                                             0  ...   \n",
       "2                                             0  ...   \n",
       "3                                             0  ...   \n",
       "4                                             0  ...   \n",
       "\n",
       "   genre_cat_Language Learning & Teaching (Books)  \\\n",
       "0                                               0   \n",
       "1                                               0   \n",
       "2                                               0   \n",
       "3                                               0   \n",
       "4                                               0   \n",
       "\n",
       "   genre_cat_Language, Linguistics & Writing (Books)  \\\n",
       "0                                                  0   \n",
       "1                                                  0   \n",
       "2                                                  0   \n",
       "3                                                  0   \n",
       "4                                                  0   \n",
       "\n",
       "   genre_cat_Linguistics (Books)  genre_cat_Mangas  genre_cat_Music Books  \\\n",
       "0                              0                 0                      0   \n",
       "1                              0                 0                      0   \n",
       "2                              0                 0                      0   \n",
       "3                              0                 0                      0   \n",
       "4                              0                 0                      0   \n",
       "\n",
       "   genre_cat_Other  genre_cat_Romance (Books)  \\\n",
       "0                0                          0   \n",
       "1                0                          0   \n",
       "2                1                          0   \n",
       "3                0                          0   \n",
       "4                1                          0   \n",
       "\n",
       "   genre_cat_Sports Training & Coaching (Books)  \\\n",
       "0                                             0   \n",
       "1                                             0   \n",
       "2                                             0   \n",
       "3                                             0   \n",
       "4                                             0   \n",
       "\n",
       "   genre_cat_True Accounts (Books)  genre_cat_Writing Guides (Books)  \n",
       "0                                0                                 0  \n",
       "1                                0                                 0  \n",
       "2                                0                                 0  \n",
       "3                                0                                 0  \n",
       "4                                0                                 0  \n",
       "\n",
       "[5 rows x 44 columns]"
      ]
     },
     "execution_count": 313,
     "metadata": {},
     "output_type": "execute_result"
    }
   ],
   "source": [
    "df_final.head()"
   ]
  },
  {
   "cell_type": "code",
   "execution_count": 314,
   "id": "d0147b71",
   "metadata": {},
   "outputs": [],
   "source": [
    "X = df_final\n",
    "y = df3['Price']"
   ]
  },
  {
   "cell_type": "code",
   "execution_count": 137,
   "id": "9d639dd1",
   "metadata": {},
   "outputs": [],
   "source": [
    "from sklearn.linear_model import LinearRegression\n",
    "from sklearn.model_selection import train_test_split\n",
    "from sklearn.metrics import r2_score, mean_squared_error"
   ]
  },
  {
   "cell_type": "code",
   "execution_count": 315,
   "id": "82320254",
   "metadata": {},
   "outputs": [],
   "source": [
    "xtrain, xtest, ytrain, ytest = train_test_split(X, y, test_size=0.2, random_state=42)"
   ]
  },
  {
   "cell_type": "code",
   "execution_count": 316,
   "id": "1e614815",
   "metadata": {},
   "outputs": [
    {
     "name": "stdout",
     "output_type": "stream",
     "text": [
      "621.1000321569667 627.612943871112\n",
      "0.18576229679621925 0.19059224932212548\n"
     ]
    }
   ],
   "source": [
    "lr = LinearRegression()\n",
    "\n",
    "lr.fit(xtrain, ytrain)\n",
    "\n",
    "ypred_train = lr.predict(xtrain)\n",
    "ypred_test = lr.predict(xtest)\n",
    "\n",
    "print(np.sqrt(mean_squared_error(ytrain,ypred_train)), np.sqrt(mean_squared_error(ytest,ypred_test)))\n",
    "print(r2_score(ytrain, ypred_train), r2_score(ytest, ypred_test))"
   ]
  },
  {
   "cell_type": "code",
   "execution_count": 317,
   "id": "ada9d02b",
   "metadata": {},
   "outputs": [
    {
     "data": {
      "text/plain": [
       "0.6885182825895491"
      ]
     },
     "execution_count": 317,
     "metadata": {},
     "output_type": "execute_result"
    }
   ],
   "source": [
    "1 - np.sqrt(np.square(np.log10(ypred_test +1) - np.log10(ytest +1)).mean())"
   ]
  },
  {
   "cell_type": "code",
   "execution_count": 320,
   "id": "d774ea5d",
   "metadata": {},
   "outputs": [],
   "source": [
    "pred_test = pd.DataFrame(lr.predict(test_final), columns=['Price'])\n",
    "pred_test.to_csv('pred2.csv', index=False)"
   ]
  },
  {
   "cell_type": "code",
   "execution_count": 300,
   "id": "a1f1ac74",
   "metadata": {},
   "outputs": [],
   "source": [
    "temp_df = pd.concat([test_scaled, pred_test], axis=1)"
   ]
  },
  {
   "cell_type": "code",
   "execution_count": 302,
   "id": "3bef6d7d",
   "metadata": {},
   "outputs": [],
   "source": [
    "temp_df1 = pd.DataFrame(sc.inverse_transform(temp_df), columns=temp_df.columns)"
   ]
  },
  {
   "cell_type": "code",
   "execution_count": 303,
   "id": "fe5b8f7f",
   "metadata": {},
   "outputs": [
    {
     "data": {
      "text/html": [
       "<div>\n",
       "<style scoped>\n",
       "    .dataframe tbody tr th:only-of-type {\n",
       "        vertical-align: middle;\n",
       "    }\n",
       "\n",
       "    .dataframe tbody tr th {\n",
       "        vertical-align: top;\n",
       "    }\n",
       "\n",
       "    .dataframe thead th {\n",
       "        text-align: right;\n",
       "    }\n",
       "</style>\n",
       "<table border=\"1\" class=\"dataframe\">\n",
       "  <thead>\n",
       "    <tr style=\"text-align: right;\">\n",
       "      <th></th>\n",
       "      <th>reviews</th>\n",
       "      <th>ratings</th>\n",
       "      <th>publish_recency</th>\n",
       "      <th>Price</th>\n",
       "    </tr>\n",
       "  </thead>\n",
       "  <tbody>\n",
       "    <tr>\n",
       "      <th>0</th>\n",
       "      <td>4.4</td>\n",
       "      <td>960.0</td>\n",
       "      <td>34.0</td>\n",
       "      <td>-11234.267001</td>\n",
       "    </tr>\n",
       "    <tr>\n",
       "      <th>1</th>\n",
       "      <td>5.0</td>\n",
       "      <td>1.0</td>\n",
       "      <td>2.0</td>\n",
       "      <td>6.376844</td>\n",
       "    </tr>\n",
       "    <tr>\n",
       "      <th>2</th>\n",
       "      <td>5.0</td>\n",
       "      <td>4.0</td>\n",
       "      <td>9.0</td>\n",
       "      <td>2.181736</td>\n",
       "    </tr>\n",
       "    <tr>\n",
       "      <th>3</th>\n",
       "      <td>4.1</td>\n",
       "      <td>11.0</td>\n",
       "      <td>4.0</td>\n",
       "      <td>-1.813177</td>\n",
       "    </tr>\n",
       "    <tr>\n",
       "      <th>4</th>\n",
       "      <td>4.4</td>\n",
       "      <td>9.0</td>\n",
       "      <td>9.0</td>\n",
       "      <td>-0.862167</td>\n",
       "    </tr>\n",
       "  </tbody>\n",
       "</table>\n",
       "</div>"
      ],
      "text/plain": [
       "   reviews  ratings  publish_recency         Price\n",
       "0      4.4    960.0             34.0 -11234.267001\n",
       "1      5.0      1.0              2.0      6.376844\n",
       "2      5.0      4.0              9.0      2.181736\n",
       "3      4.1     11.0              4.0     -1.813177\n",
       "4      4.4      9.0              9.0     -0.862167"
      ]
     },
     "execution_count": 303,
     "metadata": {},
     "output_type": "execute_result"
    }
   ],
   "source": [
    "temp_df2 = pd.DataFrame(pw.inverse_transform(temp_df1), columns=temp_df1.columns)\n",
    "temp_df2.head()"
   ]
  },
  {
   "cell_type": "code",
   "execution_count": 306,
   "id": "9d5364e5",
   "metadata": {},
   "outputs": [],
   "source": [
    "np.abs(temp_df2['Price']).to_csv('pred1.csv', index=False)"
   ]
  },
  {
   "cell_type": "code",
   "execution_count": null,
   "id": "4097068e",
   "metadata": {},
   "outputs": [],
   "source": []
  },
  {
   "cell_type": "code",
   "execution_count": null,
   "id": "40701e05",
   "metadata": {},
   "outputs": [],
   "source": []
  },
  {
   "cell_type": "code",
   "execution_count": 155,
   "id": "6f00b012",
   "metadata": {},
   "outputs": [
    {
     "name": "stdout",
     "output_type": "stream",
     "text": [
      "0.8627111882719763 0.9089703130689005\n",
      "0.24856382830726187 0.2035385317477445\n"
     ]
    }
   ],
   "source": [
    "from sklearn.tree import DecisionTreeRegressor\n",
    "\n",
    "dtree = DecisionTreeRegressor(max_depth=5, random_state=42)\n",
    "\n",
    "dtree.fit(xtrain, ytrain)\n",
    "\n",
    "pred_train_tree = dtree.predict(xtrain)\n",
    "pred_test_tree= dtree.predict(xtest)\n",
    "\n",
    "print(np.sqrt(mean_squared_error(ytrain,pred_train_tree)), np.sqrt(mean_squared_error(ytest,pred_test_tree)))\n",
    "print(r2_score(ytrain, pred_train_tree), r2_score(ytest, pred_test_tree))"
   ]
  },
  {
   "cell_type": "code",
   "execution_count": 156,
   "id": "86651885",
   "metadata": {},
   "outputs": [
    {
     "data": {
      "text/plain": [
       "0.643979081298651"
      ]
     },
     "execution_count": 156,
     "metadata": {},
     "output_type": "execute_result"
    }
   ],
   "source": [
    "1 - np.sqrt(np.square(np.log10(pred_test_tree +1) - np.log10(ytest +1)).mean())"
   ]
  },
  {
   "cell_type": "code",
   "execution_count": 157,
   "id": "5d976fa8",
   "metadata": {},
   "outputs": [
    {
     "name": "stdout",
     "output_type": "stream",
     "text": [
      "0.6877158244553643 0.8370897390441168\n",
      "0.5224935179716179 0.32452480077170986\n"
     ]
    }
   ],
   "source": [
    "from sklearn.ensemble import RandomForestRegressor\n",
    "\n",
    "model_rf = RandomForestRegressor(n_estimators=100, max_depth=10, oob_score=True, random_state=42)\n",
    "model_rf.fit(xtrain, ytrain) \n",
    "\n",
    "pred_train_rf = model_rf.predict(xtrain)\n",
    "pred_test_rf = model_rf.predict(xtest)\n",
    "\n",
    "print(np.sqrt(mean_squared_error(ytrain,pred_train_rf)), np.sqrt(mean_squared_error(ytest,pred_test_rf)))\n",
    "print(r2_score(ytrain, pred_train_rf), r2_score(ytest, pred_test_rf))"
   ]
  },
  {
   "cell_type": "code",
   "execution_count": 158,
   "id": "0de5788b",
   "metadata": {},
   "outputs": [
    {
     "data": {
      "text/plain": [
       "0.6461508249416368"
      ]
     },
     "execution_count": 158,
     "metadata": {},
     "output_type": "execute_result"
    }
   ],
   "source": [
    "1 - np.sqrt(np.square(np.log10(pred_test_rf +1) - np.log10(ytest +1)).mean())"
   ]
  },
  {
   "cell_type": "code",
   "execution_count": 160,
   "id": "026230a7",
   "metadata": {},
   "outputs": [
    {
     "data": {
      "text/html": [
       "<div>\n",
       "<style scoped>\n",
       "    .dataframe tbody tr th:only-of-type {\n",
       "        vertical-align: middle;\n",
       "    }\n",
       "\n",
       "    .dataframe tbody tr th {\n",
       "        vertical-align: top;\n",
       "    }\n",
       "\n",
       "    .dataframe thead th {\n",
       "        text-align: right;\n",
       "    }\n",
       "</style>\n",
       "<table border=\"1\" class=\"dataframe\">\n",
       "  <thead>\n",
       "    <tr style=\"text-align: right;\">\n",
       "      <th></th>\n",
       "      <th>Feature</th>\n",
       "      <th>Importance</th>\n",
       "    </tr>\n",
       "  </thead>\n",
       "  <tbody>\n",
       "    <tr>\n",
       "      <th>1</th>\n",
       "      <td>ratings</td>\n",
       "      <td>0.245408</td>\n",
       "    </tr>\n",
       "    <tr>\n",
       "      <th>2</th>\n",
       "      <td>publish_recency</td>\n",
       "      <td>0.119566</td>\n",
       "    </tr>\n",
       "    <tr>\n",
       "      <th>0</th>\n",
       "      <td>reviews</td>\n",
       "      <td>0.113852</td>\n",
       "    </tr>\n",
       "    <tr>\n",
       "      <th>15</th>\n",
       "      <td>cover_type_Paperback</td>\n",
       "      <td>0.077705</td>\n",
       "    </tr>\n",
       "    <tr>\n",
       "      <th>6</th>\n",
       "      <td>BookCategory_Computing, Internet &amp; Digital Media</td>\n",
       "      <td>0.066297</td>\n",
       "    </tr>\n",
       "    <tr>\n",
       "      <th>35</th>\n",
       "      <td>genre_cat_Language, Linguistics &amp; Writing (Books)</td>\n",
       "      <td>0.052086</td>\n",
       "    </tr>\n",
       "    <tr>\n",
       "      <th>13</th>\n",
       "      <td>cover_type_Mass Market Paperback</td>\n",
       "      <td>0.038231</td>\n",
       "    </tr>\n",
       "    <tr>\n",
       "      <th>3</th>\n",
       "      <td>BookCategory_Arts, Film &amp; Photography</td>\n",
       "      <td>0.032952</td>\n",
       "    </tr>\n",
       "    <tr>\n",
       "      <th>12</th>\n",
       "      <td>BookCategory_Sports</td>\n",
       "      <td>0.023625</td>\n",
       "    </tr>\n",
       "    <tr>\n",
       "      <th>7</th>\n",
       "      <td>BookCategory_Crime, Thriller &amp; Mystery</td>\n",
       "      <td>0.019346</td>\n",
       "    </tr>\n",
       "    <tr>\n",
       "      <th>39</th>\n",
       "      <td>genre_cat_Other</td>\n",
       "      <td>0.018133</td>\n",
       "    </tr>\n",
       "    <tr>\n",
       "      <th>5</th>\n",
       "      <td>BookCategory_Comics &amp; Mangas</td>\n",
       "      <td>0.016786</td>\n",
       "    </tr>\n",
       "    <tr>\n",
       "      <th>11</th>\n",
       "      <td>BookCategory_Romance</td>\n",
       "      <td>0.015538</td>\n",
       "    </tr>\n",
       "    <tr>\n",
       "      <th>22</th>\n",
       "      <td>genre_cat_Comics &amp; Graphic Novels (Books)</td>\n",
       "      <td>0.014243</td>\n",
       "    </tr>\n",
       "    <tr>\n",
       "      <th>8</th>\n",
       "      <td>BookCategory_Humour</td>\n",
       "      <td>0.013018</td>\n",
       "    </tr>\n",
       "    <tr>\n",
       "      <th>27</th>\n",
       "      <td>genre_cat_Design</td>\n",
       "      <td>0.011254</td>\n",
       "    </tr>\n",
       "    <tr>\n",
       "      <th>37</th>\n",
       "      <td>genre_cat_Mangas</td>\n",
       "      <td>0.010967</td>\n",
       "    </tr>\n",
       "    <tr>\n",
       "      <th>34</th>\n",
       "      <td>genre_cat_Language Learning &amp; Teaching (Books)</td>\n",
       "      <td>0.010951</td>\n",
       "    </tr>\n",
       "    <tr>\n",
       "      <th>17</th>\n",
       "      <td>edition_year_cat_Mid</td>\n",
       "      <td>0.010180</td>\n",
       "    </tr>\n",
       "    <tr>\n",
       "      <th>9</th>\n",
       "      <td>BookCategory_Language, Linguistics &amp; Writing</td>\n",
       "      <td>0.009922</td>\n",
       "    </tr>\n",
       "    <tr>\n",
       "      <th>33</th>\n",
       "      <td>genre_cat_Indian Writing (Books)</td>\n",
       "      <td>0.006852</td>\n",
       "    </tr>\n",
       "    <tr>\n",
       "      <th>40</th>\n",
       "      <td>genre_cat_Romance (Books)</td>\n",
       "      <td>0.005902</td>\n",
       "    </tr>\n",
       "    <tr>\n",
       "      <th>4</th>\n",
       "      <td>BookCategory_Biographies, Diaries &amp; True Accounts</td>\n",
       "      <td>0.005765</td>\n",
       "    </tr>\n",
       "    <tr>\n",
       "      <th>23</th>\n",
       "      <td>genre_cat_Comics &amp; Mangas (Books)</td>\n",
       "      <td>0.004867</td>\n",
       "    </tr>\n",
       "    <tr>\n",
       "      <th>20</th>\n",
       "      <td>genre_cat_Biographies &amp; Autobiographies (Books)</td>\n",
       "      <td>0.004651</td>\n",
       "    </tr>\n",
       "    <tr>\n",
       "      <th>26</th>\n",
       "      <td>genre_cat_Crime, Thriller &amp; Mystery (Books)</td>\n",
       "      <td>0.004534</td>\n",
       "    </tr>\n",
       "    <tr>\n",
       "      <th>18</th>\n",
       "      <td>edition_year_cat_New</td>\n",
       "      <td>0.004201</td>\n",
       "    </tr>\n",
       "    <tr>\n",
       "      <th>21</th>\n",
       "      <td>genre_cat_Cinema &amp; Broadcast (Books)</td>\n",
       "      <td>0.004130</td>\n",
       "    </tr>\n",
       "    <tr>\n",
       "      <th>19</th>\n",
       "      <td>genre_cat_Arts History, Theory &amp; Criticism (Bo...</td>\n",
       "      <td>0.004023</td>\n",
       "    </tr>\n",
       "    <tr>\n",
       "      <th>36</th>\n",
       "      <td>genre_cat_Linguistics (Books)</td>\n",
       "      <td>0.003979</td>\n",
       "    </tr>\n",
       "    <tr>\n",
       "      <th>10</th>\n",
       "      <td>BookCategory_Politics</td>\n",
       "      <td>0.003651</td>\n",
       "    </tr>\n",
       "    <tr>\n",
       "      <th>28</th>\n",
       "      <td>genre_cat_Dictionaries</td>\n",
       "      <td>0.003429</td>\n",
       "    </tr>\n",
       "    <tr>\n",
       "      <th>32</th>\n",
       "      <td>genre_cat_Humour (Books)</td>\n",
       "      <td>0.003240</td>\n",
       "    </tr>\n",
       "    <tr>\n",
       "      <th>30</th>\n",
       "      <td>genre_cat_Handicrafts, Decorative Arts &amp; Craft...</td>\n",
       "      <td>0.003034</td>\n",
       "    </tr>\n",
       "    <tr>\n",
       "      <th>14</th>\n",
       "      <td>cover_type_Other</td>\n",
       "      <td>0.002840</td>\n",
       "    </tr>\n",
       "    <tr>\n",
       "      <th>25</th>\n",
       "      <td>genre_cat_Contemporary Fiction (Books)</td>\n",
       "      <td>0.002677</td>\n",
       "    </tr>\n",
       "    <tr>\n",
       "      <th>41</th>\n",
       "      <td>genre_cat_Sports Training &amp; Coaching (Books)</td>\n",
       "      <td>0.002016</td>\n",
       "    </tr>\n",
       "    <tr>\n",
       "      <th>16</th>\n",
       "      <td>edition_year_cat_Old</td>\n",
       "      <td>0.001873</td>\n",
       "    </tr>\n",
       "    <tr>\n",
       "      <th>38</th>\n",
       "      <td>genre_cat_Music Books</td>\n",
       "      <td>0.001745</td>\n",
       "    </tr>\n",
       "    <tr>\n",
       "      <th>31</th>\n",
       "      <td>genre_cat_Healthy Living &amp; Wellness (Books)</td>\n",
       "      <td>0.001704</td>\n",
       "    </tr>\n",
       "    <tr>\n",
       "      <th>43</th>\n",
       "      <td>genre_cat_Writing Guides (Books)</td>\n",
       "      <td>0.001662</td>\n",
       "    </tr>\n",
       "    <tr>\n",
       "      <th>24</th>\n",
       "      <td>genre_cat_Computer Science Books</td>\n",
       "      <td>0.001596</td>\n",
       "    </tr>\n",
       "    <tr>\n",
       "      <th>29</th>\n",
       "      <td>genre_cat_Government (Books)</td>\n",
       "      <td>0.000886</td>\n",
       "    </tr>\n",
       "    <tr>\n",
       "      <th>42</th>\n",
       "      <td>genre_cat_True Accounts (Books)</td>\n",
       "      <td>0.000685</td>\n",
       "    </tr>\n",
       "  </tbody>\n",
       "</table>\n",
       "</div>"
      ],
      "text/plain": [
       "                                              Feature  Importance\n",
       "1                                             ratings    0.245408\n",
       "2                                     publish_recency    0.119566\n",
       "0                                             reviews    0.113852\n",
       "15                               cover_type_Paperback    0.077705\n",
       "6    BookCategory_Computing, Internet & Digital Media    0.066297\n",
       "35  genre_cat_Language, Linguistics & Writing (Books)    0.052086\n",
       "13                   cover_type_Mass Market Paperback    0.038231\n",
       "3               BookCategory_Arts, Film & Photography    0.032952\n",
       "12                                BookCategory_Sports    0.023625\n",
       "7              BookCategory_Crime, Thriller & Mystery    0.019346\n",
       "39                                    genre_cat_Other    0.018133\n",
       "5                        BookCategory_Comics & Mangas    0.016786\n",
       "11                               BookCategory_Romance    0.015538\n",
       "22          genre_cat_Comics & Graphic Novels (Books)    0.014243\n",
       "8                                 BookCategory_Humour    0.013018\n",
       "27                                   genre_cat_Design    0.011254\n",
       "37                                   genre_cat_Mangas    0.010967\n",
       "34     genre_cat_Language Learning & Teaching (Books)    0.010951\n",
       "17                               edition_year_cat_Mid    0.010180\n",
       "9        BookCategory_Language, Linguistics & Writing    0.009922\n",
       "33                   genre_cat_Indian Writing (Books)    0.006852\n",
       "40                          genre_cat_Romance (Books)    0.005902\n",
       "4   BookCategory_Biographies, Diaries & True Accounts    0.005765\n",
       "23                  genre_cat_Comics & Mangas (Books)    0.004867\n",
       "20    genre_cat_Biographies & Autobiographies (Books)    0.004651\n",
       "26        genre_cat_Crime, Thriller & Mystery (Books)    0.004534\n",
       "18                               edition_year_cat_New    0.004201\n",
       "21               genre_cat_Cinema & Broadcast (Books)    0.004130\n",
       "19  genre_cat_Arts History, Theory & Criticism (Bo...    0.004023\n",
       "36                      genre_cat_Linguistics (Books)    0.003979\n",
       "10                              BookCategory_Politics    0.003651\n",
       "28                             genre_cat_Dictionaries    0.003429\n",
       "32                           genre_cat_Humour (Books)    0.003240\n",
       "30  genre_cat_Handicrafts, Decorative Arts & Craft...    0.003034\n",
       "14                                   cover_type_Other    0.002840\n",
       "25             genre_cat_Contemporary Fiction (Books)    0.002677\n",
       "41       genre_cat_Sports Training & Coaching (Books)    0.002016\n",
       "16                               edition_year_cat_Old    0.001873\n",
       "38                              genre_cat_Music Books    0.001745\n",
       "31        genre_cat_Healthy Living & Wellness (Books)    0.001704\n",
       "43                   genre_cat_Writing Guides (Books)    0.001662\n",
       "24                   genre_cat_Computer Science Books    0.001596\n",
       "29                       genre_cat_Government (Books)    0.000886\n",
       "42                    genre_cat_True Accounts (Books)    0.000685"
      ]
     },
     "execution_count": 160,
     "metadata": {},
     "output_type": "execute_result"
    }
   ],
   "source": [
    "pd.DataFrame({'Feature':xtrain.columns, 'Importance':model_rf.feature_importances_}).sort_values(by='Importance', ascending=False)"
   ]
  },
  {
   "cell_type": "code",
   "execution_count": 161,
   "id": "e6294455",
   "metadata": {},
   "outputs": [],
   "source": [
    "from xgboost import XGBRegressor"
   ]
  },
  {
   "cell_type": "code",
   "execution_count": 163,
   "id": "1fd6a8bb",
   "metadata": {},
   "outputs": [
    {
     "name": "stdout",
     "output_type": "stream",
     "text": [
      "0.5519695236120021 0.8528449181164726\n",
      "0.6923963852411674 0.2988587749133106\n"
     ]
    }
   ],
   "source": [
    "model_xgb = XGBRegressor(random_state=42)\n",
    "model_xgb.fit(xtrain, ytrain) \n",
    "\n",
    "pred_train_xgb = model_xgb.predict(xtrain)\n",
    "pred_test_xgb = model_xgb.predict(xtest)\n",
    "\n",
    "print(np.sqrt(mean_squared_error(ytrain,pred_train_xgb)), np.sqrt(mean_squared_error(ytest,pred_test_xgb)))\n",
    "print(r2_score(ytrain, pred_train_xgb), r2_score(ytest, pred_test_xgb))"
   ]
  },
  {
   "cell_type": "code",
   "execution_count": 164,
   "id": "177aa003",
   "metadata": {},
   "outputs": [
    {
     "data": {
      "text/plain": [
       "0.6182401788713026"
      ]
     },
     "execution_count": 164,
     "metadata": {},
     "output_type": "execute_result"
    }
   ],
   "source": [
    "1 - np.sqrt(np.square(np.log10(pred_test_xgb +1) - np.log10(ytest +1)).mean())"
   ]
  },
  {
   "cell_type": "markdown",
   "id": "2097260b",
   "metadata": {},
   "source": [
    "### New Iteration"
   ]
  },
  {
   "cell_type": "code",
   "execution_count": 167,
   "id": "c3cb3f2d",
   "metadata": {},
   "outputs": [
    {
     "data": {
      "text/html": [
       "<div>\n",
       "<style scoped>\n",
       "    .dataframe tbody tr th:only-of-type {\n",
       "        vertical-align: middle;\n",
       "    }\n",
       "\n",
       "    .dataframe tbody tr th {\n",
       "        vertical-align: top;\n",
       "    }\n",
       "\n",
       "    .dataframe thead th {\n",
       "        text-align: right;\n",
       "    }\n",
       "</style>\n",
       "<table border=\"1\" class=\"dataframe\">\n",
       "  <thead>\n",
       "    <tr style=\"text-align: right;\">\n",
       "      <th></th>\n",
       "      <th>BookCategory</th>\n",
       "      <th>Price</th>\n",
       "      <th>cover_type</th>\n",
       "      <th>edition_year_cat</th>\n",
       "      <th>reviews</th>\n",
       "      <th>ratings</th>\n",
       "      <th>genre_cat</th>\n",
       "      <th>publish_recency</th>\n",
       "    </tr>\n",
       "  </thead>\n",
       "  <tbody>\n",
       "    <tr>\n",
       "      <th>0</th>\n",
       "      <td>Action &amp; Adventure</td>\n",
       "      <td>220.00</td>\n",
       "      <td>Paperback</td>\n",
       "      <td>New</td>\n",
       "      <td>4.0</td>\n",
       "      <td>8.0</td>\n",
       "      <td>Action &amp; Adventure (Books)</td>\n",
       "      <td>4</td>\n",
       "    </tr>\n",
       "    <tr>\n",
       "      <th>1</th>\n",
       "      <td>Biographies, Diaries &amp; True Accounts</td>\n",
       "      <td>202.93</td>\n",
       "      <td>Paperback</td>\n",
       "      <td>New</td>\n",
       "      <td>3.9</td>\n",
       "      <td>14.0</td>\n",
       "      <td>Cinema &amp; Broadcast (Books)</td>\n",
       "      <td>8</td>\n",
       "    </tr>\n",
       "    <tr>\n",
       "      <th>2</th>\n",
       "      <td>Humour</td>\n",
       "      <td>299.00</td>\n",
       "      <td>Paperback</td>\n",
       "      <td>Old</td>\n",
       "      <td>4.8</td>\n",
       "      <td>6.0</td>\n",
       "      <td>Other</td>\n",
       "      <td>38</td>\n",
       "    </tr>\n",
       "    <tr>\n",
       "      <th>3</th>\n",
       "      <td>Crime, Thriller &amp; Mystery</td>\n",
       "      <td>180.00</td>\n",
       "      <td>Paperback</td>\n",
       "      <td>New</td>\n",
       "      <td>4.1</td>\n",
       "      <td>13.0</td>\n",
       "      <td>Contemporary Fiction (Books)</td>\n",
       "      <td>3</td>\n",
       "    </tr>\n",
       "    <tr>\n",
       "      <th>4</th>\n",
       "      <td>Arts, Film &amp; Photography</td>\n",
       "      <td>965.62</td>\n",
       "      <td>Hardcover</td>\n",
       "      <td>Mid</td>\n",
       "      <td>5.0</td>\n",
       "      <td>1.0</td>\n",
       "      <td>Other</td>\n",
       "      <td>14</td>\n",
       "    </tr>\n",
       "  </tbody>\n",
       "</table>\n",
       "</div>"
      ],
      "text/plain": [
       "                           BookCategory   Price cover_type edition_year_cat  \\\n",
       "0                    Action & Adventure  220.00  Paperback              New   \n",
       "1  Biographies, Diaries & True Accounts  202.93  Paperback              New   \n",
       "2                                Humour  299.00  Paperback              Old   \n",
       "3             Crime, Thriller & Mystery  180.00  Paperback              New   \n",
       "4              Arts, Film & Photography  965.62  Hardcover              Mid   \n",
       "\n",
       "   reviews  ratings                     genre_cat  publish_recency  \n",
       "0      4.0      8.0    Action & Adventure (Books)                4  \n",
       "1      3.9     14.0    Cinema & Broadcast (Books)                8  \n",
       "2      4.8      6.0                         Other               38  \n",
       "3      4.1     13.0  Contemporary Fiction (Books)                3  \n",
       "4      5.0      1.0                         Other               14  "
      ]
     },
     "execution_count": 167,
     "metadata": {},
     "output_type": "execute_result"
    }
   ],
   "source": [
    "df3.head()"
   ]
  },
  {
   "cell_type": "code",
   "execution_count": 171,
   "id": "9a0a7f23",
   "metadata": {},
   "outputs": [
    {
     "data": {
      "text/plain": [
       "count    6216.000000\n",
       "mean       35.959620\n",
       "std       150.125273\n",
       "min         1.000000\n",
       "25%         2.000000\n",
       "50%         7.000000\n",
       "75%        22.000000\n",
       "max      6090.000000\n",
       "Name: ratings, dtype: float64"
      ]
     },
     "execution_count": 171,
     "metadata": {},
     "output_type": "execute_result"
    }
   ],
   "source": [
    "df2.ratings.describe()"
   ]
  },
  {
   "cell_type": "code",
   "execution_count": 172,
   "id": "a2d022a8",
   "metadata": {},
   "outputs": [],
   "source": [
    "new1 = df3.drop(['genre_cat'], axis=1)"
   ]
  },
  {
   "cell_type": "code",
   "execution_count": 174,
   "id": "398a144b",
   "metadata": {},
   "outputs": [],
   "source": [
    "new1['review_cat'] = pd.cut(df3.reviews, bins=[0.9,2,3,4,5.1], labels=['poor', 'average', 'good', 'excellent'])"
   ]
  },
  {
   "cell_type": "code",
   "execution_count": 175,
   "id": "c15e0951",
   "metadata": {},
   "outputs": [
    {
     "data": {
      "text/html": [
       "<div>\n",
       "<style scoped>\n",
       "    .dataframe tbody tr th:only-of-type {\n",
       "        vertical-align: middle;\n",
       "    }\n",
       "\n",
       "    .dataframe tbody tr th {\n",
       "        vertical-align: top;\n",
       "    }\n",
       "\n",
       "    .dataframe thead th {\n",
       "        text-align: right;\n",
       "    }\n",
       "</style>\n",
       "<table border=\"1\" class=\"dataframe\">\n",
       "  <thead>\n",
       "    <tr style=\"text-align: right;\">\n",
       "      <th></th>\n",
       "      <th>BookCategory</th>\n",
       "      <th>Price</th>\n",
       "      <th>cover_type</th>\n",
       "      <th>edition_year_cat</th>\n",
       "      <th>reviews</th>\n",
       "      <th>ratings</th>\n",
       "      <th>publish_recency</th>\n",
       "      <th>review_cat</th>\n",
       "    </tr>\n",
       "  </thead>\n",
       "  <tbody>\n",
       "    <tr>\n",
       "      <th>0</th>\n",
       "      <td>Action &amp; Adventure</td>\n",
       "      <td>220.00</td>\n",
       "      <td>Paperback</td>\n",
       "      <td>New</td>\n",
       "      <td>4.0</td>\n",
       "      <td>8.0</td>\n",
       "      <td>4</td>\n",
       "      <td>good</td>\n",
       "    </tr>\n",
       "    <tr>\n",
       "      <th>1</th>\n",
       "      <td>Biographies, Diaries &amp; True Accounts</td>\n",
       "      <td>202.93</td>\n",
       "      <td>Paperback</td>\n",
       "      <td>New</td>\n",
       "      <td>3.9</td>\n",
       "      <td>14.0</td>\n",
       "      <td>8</td>\n",
       "      <td>good</td>\n",
       "    </tr>\n",
       "    <tr>\n",
       "      <th>2</th>\n",
       "      <td>Humour</td>\n",
       "      <td>299.00</td>\n",
       "      <td>Paperback</td>\n",
       "      <td>Old</td>\n",
       "      <td>4.8</td>\n",
       "      <td>6.0</td>\n",
       "      <td>38</td>\n",
       "      <td>excellent</td>\n",
       "    </tr>\n",
       "    <tr>\n",
       "      <th>3</th>\n",
       "      <td>Crime, Thriller &amp; Mystery</td>\n",
       "      <td>180.00</td>\n",
       "      <td>Paperback</td>\n",
       "      <td>New</td>\n",
       "      <td>4.1</td>\n",
       "      <td>13.0</td>\n",
       "      <td>3</td>\n",
       "      <td>excellent</td>\n",
       "    </tr>\n",
       "    <tr>\n",
       "      <th>4</th>\n",
       "      <td>Arts, Film &amp; Photography</td>\n",
       "      <td>965.62</td>\n",
       "      <td>Hardcover</td>\n",
       "      <td>Mid</td>\n",
       "      <td>5.0</td>\n",
       "      <td>1.0</td>\n",
       "      <td>14</td>\n",
       "      <td>excellent</td>\n",
       "    </tr>\n",
       "  </tbody>\n",
       "</table>\n",
       "</div>"
      ],
      "text/plain": [
       "                           BookCategory   Price cover_type edition_year_cat  \\\n",
       "0                    Action & Adventure  220.00  Paperback              New   \n",
       "1  Biographies, Diaries & True Accounts  202.93  Paperback              New   \n",
       "2                                Humour  299.00  Paperback              Old   \n",
       "3             Crime, Thriller & Mystery  180.00  Paperback              New   \n",
       "4              Arts, Film & Photography  965.62  Hardcover              Mid   \n",
       "\n",
       "   reviews  ratings  publish_recency review_cat  \n",
       "0      4.0      8.0                4       good  \n",
       "1      3.9     14.0                8       good  \n",
       "2      4.8      6.0               38  excellent  \n",
       "3      4.1     13.0                3  excellent  \n",
       "4      5.0      1.0               14  excellent  "
      ]
     },
     "execution_count": 175,
     "metadata": {},
     "output_type": "execute_result"
    }
   ],
   "source": [
    "new1.head()"
   ]
  },
  {
   "cell_type": "code",
   "execution_count": 176,
   "id": "641e1cce",
   "metadata": {},
   "outputs": [
    {
     "data": {
      "text/html": [
       "<div>\n",
       "<style scoped>\n",
       "    .dataframe tbody tr th:only-of-type {\n",
       "        vertical-align: middle;\n",
       "    }\n",
       "\n",
       "    .dataframe tbody tr th {\n",
       "        vertical-align: top;\n",
       "    }\n",
       "\n",
       "    .dataframe thead th {\n",
       "        text-align: right;\n",
       "    }\n",
       "</style>\n",
       "<table border=\"1\" class=\"dataframe\">\n",
       "  <thead>\n",
       "    <tr style=\"text-align: right;\">\n",
       "      <th></th>\n",
       "      <th>BookCategory</th>\n",
       "      <th>Price</th>\n",
       "      <th>cover_type</th>\n",
       "      <th>edition_year_cat</th>\n",
       "      <th>reviews</th>\n",
       "      <th>ratings</th>\n",
       "      <th>publish_recency</th>\n",
       "      <th>review_cat</th>\n",
       "    </tr>\n",
       "  </thead>\n",
       "  <tbody>\n",
       "    <tr>\n",
       "      <th>0</th>\n",
       "      <td>Action &amp; Adventure</td>\n",
       "      <td>220.00</td>\n",
       "      <td>Paperback</td>\n",
       "      <td>New</td>\n",
       "      <td>4.0</td>\n",
       "      <td>8.0</td>\n",
       "      <td>4</td>\n",
       "      <td>2</td>\n",
       "    </tr>\n",
       "    <tr>\n",
       "      <th>1</th>\n",
       "      <td>Biographies, Diaries &amp; True Accounts</td>\n",
       "      <td>202.93</td>\n",
       "      <td>Paperback</td>\n",
       "      <td>New</td>\n",
       "      <td>3.9</td>\n",
       "      <td>14.0</td>\n",
       "      <td>8</td>\n",
       "      <td>2</td>\n",
       "    </tr>\n",
       "    <tr>\n",
       "      <th>2</th>\n",
       "      <td>Humour</td>\n",
       "      <td>299.00</td>\n",
       "      <td>Paperback</td>\n",
       "      <td>Old</td>\n",
       "      <td>4.8</td>\n",
       "      <td>6.0</td>\n",
       "      <td>38</td>\n",
       "      <td>3</td>\n",
       "    </tr>\n",
       "    <tr>\n",
       "      <th>3</th>\n",
       "      <td>Crime, Thriller &amp; Mystery</td>\n",
       "      <td>180.00</td>\n",
       "      <td>Paperback</td>\n",
       "      <td>New</td>\n",
       "      <td>4.1</td>\n",
       "      <td>13.0</td>\n",
       "      <td>3</td>\n",
       "      <td>3</td>\n",
       "    </tr>\n",
       "    <tr>\n",
       "      <th>4</th>\n",
       "      <td>Arts, Film &amp; Photography</td>\n",
       "      <td>965.62</td>\n",
       "      <td>Hardcover</td>\n",
       "      <td>Mid</td>\n",
       "      <td>5.0</td>\n",
       "      <td>1.0</td>\n",
       "      <td>14</td>\n",
       "      <td>3</td>\n",
       "    </tr>\n",
       "  </tbody>\n",
       "</table>\n",
       "</div>"
      ],
      "text/plain": [
       "                           BookCategory   Price cover_type edition_year_cat  \\\n",
       "0                    Action & Adventure  220.00  Paperback              New   \n",
       "1  Biographies, Diaries & True Accounts  202.93  Paperback              New   \n",
       "2                                Humour  299.00  Paperback              Old   \n",
       "3             Crime, Thriller & Mystery  180.00  Paperback              New   \n",
       "4              Arts, Film & Photography  965.62  Hardcover              Mid   \n",
       "\n",
       "   reviews  ratings  publish_recency review_cat  \n",
       "0      4.0      8.0                4          2  \n",
       "1      3.9     14.0                8          2  \n",
       "2      4.8      6.0               38          3  \n",
       "3      4.1     13.0                3          3  \n",
       "4      5.0      1.0               14          3  "
      ]
     },
     "execution_count": 176,
     "metadata": {},
     "output_type": "execute_result"
    }
   ],
   "source": [
    "def rev(x):\n",
    "    if x == 'poor':\n",
    "        return 0\n",
    "    elif x == 'average':\n",
    "        return 1\n",
    "    elif x == 'good':\n",
    "        return 2\n",
    "    else:\n",
    "        return 3\n",
    "    \n",
    "new1['review_cat'] = new1['review_cat'].map(rev)\n",
    "new1.head()"
   ]
  },
  {
   "cell_type": "code",
   "execution_count": 177,
   "id": "aa92b164",
   "metadata": {},
   "outputs": [
    {
     "data": {
      "text/plain": [
       "Action & Adventure                      815\n",
       "Crime, Thriller & Mystery               721\n",
       "Biographies, Diaries & True Accounts    593\n",
       "Language, Linguistics & Writing         591\n",
       "Comics & Mangas                         581\n",
       "Romance                                 560\n",
       "Humour                                  540\n",
       "Arts, Film & Photography                512\n",
       "Computing, Internet & Digital Media     509\n",
       "Sports                                  469\n",
       "Politics                                325\n",
       "Name: BookCategory, dtype: int64"
      ]
     },
     "execution_count": 177,
     "metadata": {},
     "output_type": "execute_result"
    }
   ],
   "source": [
    "new1.BookCategory.value_counts()"
   ]
  },
  {
   "cell_type": "code",
   "execution_count": 219,
   "id": "02ee3506",
   "metadata": {},
   "outputs": [],
   "source": [
    "from feature_engine.encoding import CountFrequencyEncoder\n",
    "\n",
    "fe = CountFrequencyEncoder(encoding_method='frequency')\n",
    "\n",
    "new1['book_freq'] = pd.DataFrame(fe.fit_transform(pd.DataFrame(new1.BookCategory)))"
   ]
  },
  {
   "cell_type": "code",
   "execution_count": 220,
   "id": "cfc352c4",
   "metadata": {},
   "outputs": [],
   "source": [
    "new2 = new1.drop(['edition_year_cat', 'BookCategory', 'review_cat'], axis=1)\n",
    "new_cat = new2.select_dtypes(exclude=np.number)\n",
    "new_num = new2.select_dtypes(include=np.number)"
   ]
  },
  {
   "cell_type": "code",
   "execution_count": 221,
   "id": "4bab357c",
   "metadata": {},
   "outputs": [
    {
     "data": {
      "text/html": [
       "<div>\n",
       "<style scoped>\n",
       "    .dataframe tbody tr th:only-of-type {\n",
       "        vertical-align: middle;\n",
       "    }\n",
       "\n",
       "    .dataframe tbody tr th {\n",
       "        vertical-align: top;\n",
       "    }\n",
       "\n",
       "    .dataframe thead th {\n",
       "        text-align: right;\n",
       "    }\n",
       "</style>\n",
       "<table border=\"1\" class=\"dataframe\">\n",
       "  <thead>\n",
       "    <tr style=\"text-align: right;\">\n",
       "      <th></th>\n",
       "      <th>Price</th>\n",
       "      <th>cover_type</th>\n",
       "      <th>reviews</th>\n",
       "      <th>ratings</th>\n",
       "      <th>publish_recency</th>\n",
       "      <th>book_freq</th>\n",
       "    </tr>\n",
       "  </thead>\n",
       "  <tbody>\n",
       "    <tr>\n",
       "      <th>0</th>\n",
       "      <td>220.00</td>\n",
       "      <td>Paperback</td>\n",
       "      <td>4.0</td>\n",
       "      <td>8.0</td>\n",
       "      <td>4</td>\n",
       "      <td>0.131113</td>\n",
       "    </tr>\n",
       "    <tr>\n",
       "      <th>1</th>\n",
       "      <td>202.93</td>\n",
       "      <td>Paperback</td>\n",
       "      <td>3.9</td>\n",
       "      <td>14.0</td>\n",
       "      <td>8</td>\n",
       "      <td>0.095399</td>\n",
       "    </tr>\n",
       "    <tr>\n",
       "      <th>2</th>\n",
       "      <td>299.00</td>\n",
       "      <td>Paperback</td>\n",
       "      <td>4.8</td>\n",
       "      <td>6.0</td>\n",
       "      <td>38</td>\n",
       "      <td>0.086873</td>\n",
       "    </tr>\n",
       "    <tr>\n",
       "      <th>3</th>\n",
       "      <td>180.00</td>\n",
       "      <td>Paperback</td>\n",
       "      <td>4.1</td>\n",
       "      <td>13.0</td>\n",
       "      <td>3</td>\n",
       "      <td>0.115991</td>\n",
       "    </tr>\n",
       "    <tr>\n",
       "      <th>4</th>\n",
       "      <td>965.62</td>\n",
       "      <td>Hardcover</td>\n",
       "      <td>5.0</td>\n",
       "      <td>1.0</td>\n",
       "      <td>14</td>\n",
       "      <td>0.082368</td>\n",
       "    </tr>\n",
       "  </tbody>\n",
       "</table>\n",
       "</div>"
      ],
      "text/plain": [
       "    Price cover_type  reviews  ratings  publish_recency  book_freq\n",
       "0  220.00  Paperback      4.0      8.0                4   0.131113\n",
       "1  202.93  Paperback      3.9     14.0                8   0.095399\n",
       "2  299.00  Paperback      4.8      6.0               38   0.086873\n",
       "3  180.00  Paperback      4.1     13.0                3   0.115991\n",
       "4  965.62  Hardcover      5.0      1.0               14   0.082368"
      ]
     },
     "execution_count": 221,
     "metadata": {},
     "output_type": "execute_result"
    }
   ],
   "source": [
    "new2.head()"
   ]
  },
  {
   "cell_type": "code",
   "execution_count": 222,
   "id": "d2058abc",
   "metadata": {},
   "outputs": [
    {
     "data": {
      "text/plain": [
       "(6216, 5)"
      ]
     },
     "execution_count": 222,
     "metadata": {},
     "output_type": "execute_result"
    }
   ],
   "source": [
    "pw = PowerTransformer()\n",
    "new_trans = pd.DataFrame(pw.fit_transform(new_num), columns=new_num.columns)\n",
    "\n",
    "sc = StandardScaler()\n",
    "new_scaled = pd.DataFrame(sc.fit_transform(new_trans), columns=new_trans.columns).reset_index(drop=True)\n",
    "new_scaled.shape"
   ]
  },
  {
   "cell_type": "code",
   "execution_count": 224,
   "id": "96e4a3b3",
   "metadata": {},
   "outputs": [
    {
     "data": {
      "text/plain": [
       "(6216, 3)"
      ]
     },
     "execution_count": 224,
     "metadata": {},
     "output_type": "execute_result"
    }
   ],
   "source": [
    "new_dummy = pd.get_dummies(new_cat, drop_first=True).reset_index(drop=True)\n",
    "new_dummy.shape"
   ]
  },
  {
   "cell_type": "code",
   "execution_count": 225,
   "id": "2d157d3a",
   "metadata": {},
   "outputs": [
    {
     "data": {
      "text/html": [
       "<div>\n",
       "<style scoped>\n",
       "    .dataframe tbody tr th:only-of-type {\n",
       "        vertical-align: middle;\n",
       "    }\n",
       "\n",
       "    .dataframe tbody tr th {\n",
       "        vertical-align: top;\n",
       "    }\n",
       "\n",
       "    .dataframe thead th {\n",
       "        text-align: right;\n",
       "    }\n",
       "</style>\n",
       "<table border=\"1\" class=\"dataframe\">\n",
       "  <thead>\n",
       "    <tr style=\"text-align: right;\">\n",
       "      <th></th>\n",
       "      <th>Price</th>\n",
       "      <th>reviews</th>\n",
       "      <th>ratings</th>\n",
       "      <th>publish_recency</th>\n",
       "      <th>book_freq</th>\n",
       "      <th>cover_type_Mass Market Paperback</th>\n",
       "      <th>cover_type_Other</th>\n",
       "      <th>cover_type_Paperback</th>\n",
       "    </tr>\n",
       "  </thead>\n",
       "  <tbody>\n",
       "    <tr>\n",
       "      <th>0</th>\n",
       "      <td>-0.769230</td>\n",
       "      <td>-0.689429</td>\n",
       "      <td>0.136997</td>\n",
       "      <td>-0.400415</td>\n",
       "      <td>1.752181</td>\n",
       "      <td>0</td>\n",
       "      <td>0</td>\n",
       "      <td>1</td>\n",
       "    </tr>\n",
       "    <tr>\n",
       "      <th>1</th>\n",
       "      <td>-0.885965</td>\n",
       "      <td>-0.835469</td>\n",
       "      <td>0.525772</td>\n",
       "      <td>0.434099</td>\n",
       "      <td>0.061511</td>\n",
       "      <td>0</td>\n",
       "      <td>0</td>\n",
       "      <td>1</td>\n",
       "    </tr>\n",
       "    <tr>\n",
       "      <th>2</th>\n",
       "      <td>-0.337418</td>\n",
       "      <td>0.854076</td>\n",
       "      <td>-0.077561</td>\n",
       "      <td>2.113308</td>\n",
       "      <td>-0.385777</td>\n",
       "      <td>0</td>\n",
       "      <td>0</td>\n",
       "      <td>1</td>\n",
       "    </tr>\n",
       "    <tr>\n",
       "      <th>3</th>\n",
       "      <td>-1.061662</td>\n",
       "      <td>-0.533950</td>\n",
       "      <td>0.476717</td>\n",
       "      <td>-0.745550</td>\n",
       "      <td>1.070432</td>\n",
       "      <td>0</td>\n",
       "      <td>0</td>\n",
       "      <td>1</td>\n",
       "    </tr>\n",
       "    <tr>\n",
       "      <th>4</th>\n",
       "      <td>1.152425</td>\n",
       "      <td>1.360359</td>\n",
       "      <td>-1.429114</td>\n",
       "      <td>1.079317</td>\n",
       "      <td>-0.629514</td>\n",
       "      <td>0</td>\n",
       "      <td>0</td>\n",
       "      <td>0</td>\n",
       "    </tr>\n",
       "  </tbody>\n",
       "</table>\n",
       "</div>"
      ],
      "text/plain": [
       "      Price   reviews   ratings  publish_recency  book_freq  \\\n",
       "0 -0.769230 -0.689429  0.136997        -0.400415   1.752181   \n",
       "1 -0.885965 -0.835469  0.525772         0.434099   0.061511   \n",
       "2 -0.337418  0.854076 -0.077561         2.113308  -0.385777   \n",
       "3 -1.061662 -0.533950  0.476717        -0.745550   1.070432   \n",
       "4  1.152425  1.360359 -1.429114         1.079317  -0.629514   \n",
       "\n",
       "   cover_type_Mass Market Paperback  cover_type_Other  cover_type_Paperback  \n",
       "0                                 0                 0                     1  \n",
       "1                                 0                 0                     1  \n",
       "2                                 0                 0                     1  \n",
       "3                                 0                 0                     1  \n",
       "4                                 0                 0                     0  "
      ]
     },
     "execution_count": 225,
     "metadata": {},
     "output_type": "execute_result"
    }
   ],
   "source": [
    "new_final = pd.concat([new_scaled, new_dummy], axis=1)\n",
    "new_final.head()"
   ]
  },
  {
   "cell_type": "code",
   "execution_count": 205,
   "id": "bfc05135",
   "metadata": {},
   "outputs": [],
   "source": [
    "# new_final['review_cat'] = new_final['review_cat'].astype(int)"
   ]
  },
  {
   "cell_type": "code",
   "execution_count": 226,
   "id": "f5449575",
   "metadata": {},
   "outputs": [],
   "source": [
    "X = new_final.drop(\"Price\", axis=1)\n",
    "y = new_final['Price']"
   ]
  },
  {
   "cell_type": "code",
   "execution_count": 227,
   "id": "32fe4e6f",
   "metadata": {},
   "outputs": [],
   "source": [
    "xtrain, xtest, ytrain, ytest = train_test_split(X, y, test_size=0.2, random_state=42)"
   ]
  },
  {
   "cell_type": "code",
   "execution_count": 228,
   "id": "1e614815",
   "metadata": {},
   "outputs": [
    {
     "name": "stdout",
     "output_type": "stream",
     "text": [
      "0.898242922963398 0.9248757720887\n",
      "0.18539167428324999 0.17542117696904658\n"
     ]
    }
   ],
   "source": [
    "lr = LinearRegression()\n",
    "\n",
    "lr.fit(xtrain, ytrain)\n",
    "\n",
    "ypred_train = lr.predict(xtrain)\n",
    "ypred_test = lr.predict(xtest)\n",
    "\n",
    "print(np.sqrt(mean_squared_error(ytrain,ypred_train)), np.sqrt(mean_squared_error(ytest,ypred_test)))\n",
    "print(r2_score(ytrain, ypred_train), r2_score(ytest, ypred_test))"
   ]
  },
  {
   "cell_type": "code",
   "execution_count": 229,
   "id": "390f155c",
   "metadata": {},
   "outputs": [
    {
     "data": {
      "text/plain": [
       "0.6482664313505662"
      ]
     },
     "execution_count": 229,
     "metadata": {},
     "output_type": "execute_result"
    }
   ],
   "source": [
    "1 - np.sqrt(np.square(np.log10(ypred_test +1) - np.log10(ytest +1)).mean())"
   ]
  },
  {
   "cell_type": "code",
   "execution_count": 230,
   "id": "6f00b012",
   "metadata": {},
   "outputs": [
    {
     "name": "stdout",
     "output_type": "stream",
     "text": [
      "0.8631947809909812 0.9261220813193086\n",
      "0.24772115716718568 0.17319736994368207\n"
     ]
    }
   ],
   "source": [
    "from sklearn.tree import DecisionTreeRegressor\n",
    "\n",
    "dtree = DecisionTreeRegressor(max_depth=5, random_state=42)\n",
    "\n",
    "dtree.fit(xtrain, ytrain)\n",
    "\n",
    "pred_train_tree = dtree.predict(xtrain)\n",
    "pred_test_tree= dtree.predict(xtest)\n",
    "\n",
    "print(np.sqrt(mean_squared_error(ytrain,pred_train_tree)), np.sqrt(mean_squared_error(ytest,pred_test_tree)))\n",
    "print(r2_score(ytrain, pred_train_tree), r2_score(ytest, pred_test_tree))"
   ]
  },
  {
   "cell_type": "code",
   "execution_count": 231,
   "id": "10fe17d4",
   "metadata": {},
   "outputs": [
    {
     "data": {
      "text/plain": [
       "0.6503784913294866"
      ]
     },
     "execution_count": 231,
     "metadata": {},
     "output_type": "execute_result"
    }
   ],
   "source": [
    "1 - np.sqrt(np.square(np.log10(pred_test_tree +1) - np.log10(ytest +1)).mean())"
   ]
  },
  {
   "cell_type": "code",
   "execution_count": 232,
   "id": "5d976fa8",
   "metadata": {},
   "outputs": [
    {
     "name": "stdout",
     "output_type": "stream",
     "text": [
      "0.6645801272212619 0.8605741726852284\n",
      "0.5540810413426777 0.2860924296975651\n"
     ]
    }
   ],
   "source": [
    "from sklearn.ensemble import RandomForestRegressor\n",
    "\n",
    "model_rf = RandomForestRegressor(n_estimators=100, max_depth=10, oob_score=True, random_state=42)\n",
    "model_rf.fit(xtrain, ytrain) \n",
    "\n",
    "pred_train_rf = model_rf.predict(xtrain)\n",
    "pred_test_rf = model_rf.predict(xtest)\n",
    "\n",
    "print(np.sqrt(mean_squared_error(ytrain,pred_train_rf)), np.sqrt(mean_squared_error(ytest,pred_test_rf)))\n",
    "print(r2_score(ytrain, pred_train_rf), r2_score(ytest, pred_test_rf))"
   ]
  },
  {
   "cell_type": "code",
   "execution_count": 233,
   "id": "0de5788b",
   "metadata": {},
   "outputs": [
    {
     "data": {
      "text/plain": [
       "0.6175067133320837"
      ]
     },
     "execution_count": 233,
     "metadata": {},
     "output_type": "execute_result"
    }
   ],
   "source": [
    "1 - np.sqrt(np.square(np.log10(pred_test_rf +1) - np.log10(ytest +1)).mean())"
   ]
  },
  {
   "cell_type": "code",
   "execution_count": 234,
   "id": "0bb01851",
   "metadata": {},
   "outputs": [
    {
     "data": {
      "text/html": [
       "<div>\n",
       "<style scoped>\n",
       "    .dataframe tbody tr th:only-of-type {\n",
       "        vertical-align: middle;\n",
       "    }\n",
       "\n",
       "    .dataframe tbody tr th {\n",
       "        vertical-align: top;\n",
       "    }\n",
       "\n",
       "    .dataframe thead th {\n",
       "        text-align: right;\n",
       "    }\n",
       "</style>\n",
       "<table border=\"1\" class=\"dataframe\">\n",
       "  <thead>\n",
       "    <tr style=\"text-align: right;\">\n",
       "      <th></th>\n",
       "      <th>Feature</th>\n",
       "      <th>Importance</th>\n",
       "    </tr>\n",
       "  </thead>\n",
       "  <tbody>\n",
       "    <tr>\n",
       "      <th>3</th>\n",
       "      <td>book_freq</td>\n",
       "      <td>0.330621</td>\n",
       "    </tr>\n",
       "    <tr>\n",
       "      <th>1</th>\n",
       "      <td>ratings</td>\n",
       "      <td>0.229900</td>\n",
       "    </tr>\n",
       "    <tr>\n",
       "      <th>2</th>\n",
       "      <td>publish_recency</td>\n",
       "      <td>0.202301</td>\n",
       "    </tr>\n",
       "    <tr>\n",
       "      <th>0</th>\n",
       "      <td>reviews</td>\n",
       "      <td>0.140234</td>\n",
       "    </tr>\n",
       "    <tr>\n",
       "      <th>6</th>\n",
       "      <td>cover_type_Paperback</td>\n",
       "      <td>0.067155</td>\n",
       "    </tr>\n",
       "    <tr>\n",
       "      <th>4</th>\n",
       "      <td>cover_type_Mass Market Paperback</td>\n",
       "      <td>0.023341</td>\n",
       "    </tr>\n",
       "    <tr>\n",
       "      <th>5</th>\n",
       "      <td>cover_type_Other</td>\n",
       "      <td>0.006449</td>\n",
       "    </tr>\n",
       "  </tbody>\n",
       "</table>\n",
       "</div>"
      ],
      "text/plain": [
       "                            Feature  Importance\n",
       "3                         book_freq    0.330621\n",
       "1                           ratings    0.229900\n",
       "2                   publish_recency    0.202301\n",
       "0                           reviews    0.140234\n",
       "6              cover_type_Paperback    0.067155\n",
       "4  cover_type_Mass Market Paperback    0.023341\n",
       "5                  cover_type_Other    0.006449"
      ]
     },
     "execution_count": 234,
     "metadata": {},
     "output_type": "execute_result"
    }
   ],
   "source": [
    "pd.DataFrame({'Feature':xtrain.columns, 'Importance':model_rf.feature_importances_}).sort_values(by='Importance', ascending=False)"
   ]
  },
  {
   "cell_type": "code",
   "execution_count": 235,
   "id": "f5b66f67",
   "metadata": {},
   "outputs": [
    {
     "name": "stdout",
     "output_type": "stream",
     "text": [
      "0.5807386896998284 0.8764852990444085\n",
      "0.6594955775885244 0.2594495610537394\n"
     ]
    }
   ],
   "source": [
    "model_xgb = XGBRegressor(random_state=42)\n",
    "model_xgb.fit(xtrain, ytrain) \n",
    "\n",
    "pred_train_xgb = model_xgb.predict(xtrain)\n",
    "pred_test_xgb = model_xgb.predict(xtest)\n",
    "\n",
    "print(np.sqrt(mean_squared_error(ytrain,pred_train_xgb)), np.sqrt(mean_squared_error(ytest,pred_test_xgb)))\n",
    "print(r2_score(ytrain, pred_train_xgb), r2_score(ytest, pred_test_xgb))"
   ]
  },
  {
   "cell_type": "code",
   "execution_count": 236,
   "id": "e413b177",
   "metadata": {},
   "outputs": [
    {
     "data": {
      "text/plain": [
       "0.6056541745511901"
      ]
     },
     "execution_count": 236,
     "metadata": {},
     "output_type": "execute_result"
    }
   ],
   "source": [
    "1 - np.sqrt(np.square(np.log10(pred_test_xgb +1) - np.log10(ytest +1)).mean())"
   ]
  },
  {
   "cell_type": "markdown",
   "id": "b578909c",
   "metadata": {},
   "source": [
    "### Another Iteration"
   ]
  },
  {
   "cell_type": "code",
   "execution_count": 238,
   "id": "e4a32549",
   "metadata": {},
   "outputs": [
    {
     "data": {
      "text/html": [
       "<div>\n",
       "<style scoped>\n",
       "    .dataframe tbody tr th:only-of-type {\n",
       "        vertical-align: middle;\n",
       "    }\n",
       "\n",
       "    .dataframe tbody tr th {\n",
       "        vertical-align: top;\n",
       "    }\n",
       "\n",
       "    .dataframe thead th {\n",
       "        text-align: right;\n",
       "    }\n",
       "</style>\n",
       "<table border=\"1\" class=\"dataframe\">\n",
       "  <thead>\n",
       "    <tr style=\"text-align: right;\">\n",
       "      <th></th>\n",
       "      <th>BookCategory</th>\n",
       "      <th>Price</th>\n",
       "      <th>cover_type</th>\n",
       "      <th>edition_year_cat</th>\n",
       "      <th>reviews</th>\n",
       "      <th>ratings</th>\n",
       "      <th>genre_cat</th>\n",
       "      <th>publish_recency</th>\n",
       "    </tr>\n",
       "  </thead>\n",
       "  <tbody>\n",
       "    <tr>\n",
       "      <th>0</th>\n",
       "      <td>Action &amp; Adventure</td>\n",
       "      <td>220.00</td>\n",
       "      <td>Paperback</td>\n",
       "      <td>New</td>\n",
       "      <td>4.0</td>\n",
       "      <td>8.0</td>\n",
       "      <td>Action &amp; Adventure (Books)</td>\n",
       "      <td>4</td>\n",
       "    </tr>\n",
       "    <tr>\n",
       "      <th>1</th>\n",
       "      <td>Biographies, Diaries &amp; True Accounts</td>\n",
       "      <td>202.93</td>\n",
       "      <td>Paperback</td>\n",
       "      <td>New</td>\n",
       "      <td>3.9</td>\n",
       "      <td>14.0</td>\n",
       "      <td>Cinema &amp; Broadcast (Books)</td>\n",
       "      <td>8</td>\n",
       "    </tr>\n",
       "    <tr>\n",
       "      <th>2</th>\n",
       "      <td>Humour</td>\n",
       "      <td>299.00</td>\n",
       "      <td>Paperback</td>\n",
       "      <td>Old</td>\n",
       "      <td>4.8</td>\n",
       "      <td>6.0</td>\n",
       "      <td>Other</td>\n",
       "      <td>38</td>\n",
       "    </tr>\n",
       "    <tr>\n",
       "      <th>3</th>\n",
       "      <td>Crime, Thriller &amp; Mystery</td>\n",
       "      <td>180.00</td>\n",
       "      <td>Paperback</td>\n",
       "      <td>New</td>\n",
       "      <td>4.1</td>\n",
       "      <td>13.0</td>\n",
       "      <td>Contemporary Fiction (Books)</td>\n",
       "      <td>3</td>\n",
       "    </tr>\n",
       "    <tr>\n",
       "      <th>4</th>\n",
       "      <td>Arts, Film &amp; Photography</td>\n",
       "      <td>965.62</td>\n",
       "      <td>Hardcover</td>\n",
       "      <td>Mid</td>\n",
       "      <td>5.0</td>\n",
       "      <td>1.0</td>\n",
       "      <td>Other</td>\n",
       "      <td>14</td>\n",
       "    </tr>\n",
       "  </tbody>\n",
       "</table>\n",
       "</div>"
      ],
      "text/plain": [
       "                           BookCategory   Price cover_type edition_year_cat  \\\n",
       "0                    Action & Adventure  220.00  Paperback              New   \n",
       "1  Biographies, Diaries & True Accounts  202.93  Paperback              New   \n",
       "2                                Humour  299.00  Paperback              Old   \n",
       "3             Crime, Thriller & Mystery  180.00  Paperback              New   \n",
       "4              Arts, Film & Photography  965.62  Hardcover              Mid   \n",
       "\n",
       "   reviews  ratings                     genre_cat  publish_recency  \n",
       "0      4.0      8.0    Action & Adventure (Books)                4  \n",
       "1      3.9     14.0    Cinema & Broadcast (Books)                8  \n",
       "2      4.8      6.0                         Other               38  \n",
       "3      4.1     13.0  Contemporary Fiction (Books)                3  \n",
       "4      5.0      1.0                         Other               14  "
      ]
     },
     "execution_count": 238,
     "metadata": {},
     "output_type": "execute_result"
    }
   ],
   "source": [
    "df3.head()"
   ]
  },
  {
   "cell_type": "code",
   "execution_count": null,
   "id": "e7103d6b",
   "metadata": {},
   "outputs": [],
   "source": [
    "cat_cols = df3.select_dtypes(exclude=np.number)\n",
    "num_cols = df3.select_dtypes(include=np.number)"
   ]
  },
  {
   "cell_type": "code",
   "execution_count": 297,
   "id": "f9f5d904",
   "metadata": {},
   "outputs": [
    {
     "data": {
      "text/html": [
       "<div>\n",
       "<style scoped>\n",
       "    .dataframe tbody tr th:only-of-type {\n",
       "        vertical-align: middle;\n",
       "    }\n",
       "\n",
       "    .dataframe tbody tr th {\n",
       "        vertical-align: top;\n",
       "    }\n",
       "\n",
       "    .dataframe thead th {\n",
       "        text-align: right;\n",
       "    }\n",
       "</style>\n",
       "<table border=\"1\" class=\"dataframe\">\n",
       "  <thead>\n",
       "    <tr style=\"text-align: right;\">\n",
       "      <th></th>\n",
       "      <th>BookCategory</th>\n",
       "      <th>cover_type</th>\n",
       "      <th>edition_year_cat</th>\n",
       "      <th>genre_cat</th>\n",
       "    </tr>\n",
       "  </thead>\n",
       "  <tbody>\n",
       "    <tr>\n",
       "      <th>0</th>\n",
       "      <td>0.131113</td>\n",
       "      <td>0.833655</td>\n",
       "      <td>0.718790</td>\n",
       "      <td>0.151866</td>\n",
       "    </tr>\n",
       "    <tr>\n",
       "      <th>1</th>\n",
       "      <td>0.095399</td>\n",
       "      <td>0.833655</td>\n",
       "      <td>0.718790</td>\n",
       "      <td>0.012548</td>\n",
       "    </tr>\n",
       "    <tr>\n",
       "      <th>2</th>\n",
       "      <td>0.086873</td>\n",
       "      <td>0.833655</td>\n",
       "      <td>0.063063</td>\n",
       "      <td>0.359556</td>\n",
       "    </tr>\n",
       "    <tr>\n",
       "      <th>3</th>\n",
       "      <td>0.115991</td>\n",
       "      <td>0.833655</td>\n",
       "      <td>0.718790</td>\n",
       "      <td>0.041184</td>\n",
       "    </tr>\n",
       "    <tr>\n",
       "      <th>4</th>\n",
       "      <td>0.082368</td>\n",
       "      <td>0.131596</td>\n",
       "      <td>0.211390</td>\n",
       "      <td>0.359556</td>\n",
       "    </tr>\n",
       "  </tbody>\n",
       "</table>\n",
       "</div>"
      ],
      "text/plain": [
       "   BookCategory  cover_type  edition_year_cat  genre_cat\n",
       "0      0.131113    0.833655          0.718790   0.151866\n",
       "1      0.095399    0.833655          0.718790   0.012548\n",
       "2      0.086873    0.833655          0.063063   0.359556\n",
       "3      0.115991    0.833655          0.718790   0.041184\n",
       "4      0.082368    0.131596          0.211390   0.359556"
      ]
     },
     "execution_count": 297,
     "metadata": {},
     "output_type": "execute_result"
    }
   ],
   "source": [
    "fe = CountFrequencyEncoder(encoding_method='frequency')\n",
    "\n",
    "cat_freq = pd.DataFrame(fe.fit_transform(cat_cols)).reset_index(drop=True)\n",
    "df_freq = pd.concat([num_cols.reset_index(drop=True), cat_freq], axis=1)\n",
    "df_freq.head()"
   ]
  },
  {
   "cell_type": "code",
   "execution_count": 244,
   "id": "7ceb4704",
   "metadata": {},
   "outputs": [
    {
     "data": {
      "text/plain": [
       "(6216, 8)"
      ]
     },
     "execution_count": 244,
     "metadata": {},
     "output_type": "execute_result"
    }
   ],
   "source": [
    "pw = PowerTransformer()\n",
    "df_freq_trans = pd.DataFrame(pw.fit_transform(num_cols), columns=df_freq.columns)\n",
    "\n",
    "sc = StandardScaler()\n",
    "df_freq_scaled = pd.DataFrame(sc.fit_transform(df_freq_trans), columns=df_freq_trans.columns).reset_index(drop=True)\n",
    "df_freq_scaled.shape"
   ]
  },
  {
   "cell_type": "code",
   "execution_count": 246,
   "id": "e6ec51c5",
   "metadata": {},
   "outputs": [
    {
     "data": {
      "text/html": [
       "<div>\n",
       "<style scoped>\n",
       "    .dataframe tbody tr th:only-of-type {\n",
       "        vertical-align: middle;\n",
       "    }\n",
       "\n",
       "    .dataframe tbody tr th {\n",
       "        vertical-align: top;\n",
       "    }\n",
       "\n",
       "    .dataframe thead th {\n",
       "        text-align: right;\n",
       "    }\n",
       "</style>\n",
       "<table border=\"1\" class=\"dataframe\">\n",
       "  <thead>\n",
       "    <tr style=\"text-align: right;\">\n",
       "      <th></th>\n",
       "      <th>Price</th>\n",
       "      <th>reviews</th>\n",
       "      <th>ratings</th>\n",
       "      <th>publish_recency</th>\n",
       "      <th>BookCategory</th>\n",
       "      <th>cover_type</th>\n",
       "      <th>edition_year_cat</th>\n",
       "      <th>genre_cat</th>\n",
       "    </tr>\n",
       "  </thead>\n",
       "  <tbody>\n",
       "    <tr>\n",
       "      <th>0</th>\n",
       "      <td>-0.769230</td>\n",
       "      <td>-0.689429</td>\n",
       "      <td>0.136997</td>\n",
       "      <td>-0.400415</td>\n",
       "      <td>1.752181</td>\n",
       "      <td>0.446695</td>\n",
       "      <td>0.625309</td>\n",
       "      <td>0.113172</td>\n",
       "    </tr>\n",
       "    <tr>\n",
       "      <th>1</th>\n",
       "      <td>-0.885965</td>\n",
       "      <td>-0.835469</td>\n",
       "      <td>0.525772</td>\n",
       "      <td>0.434099</td>\n",
       "      <td>0.061511</td>\n",
       "      <td>0.446695</td>\n",
       "      <td>0.625309</td>\n",
       "      <td>-1.162012</td>\n",
       "    </tr>\n",
       "    <tr>\n",
       "      <th>2</th>\n",
       "      <td>-0.337418</td>\n",
       "      <td>0.854076</td>\n",
       "      <td>-0.077561</td>\n",
       "      <td>2.113308</td>\n",
       "      <td>-0.385777</td>\n",
       "      <td>0.446695</td>\n",
       "      <td>-1.673141</td>\n",
       "      <td>1.228073</td>\n",
       "    </tr>\n",
       "    <tr>\n",
       "      <th>3</th>\n",
       "      <td>-1.061662</td>\n",
       "      <td>-0.533950</td>\n",
       "      <td>0.476717</td>\n",
       "      <td>-0.745550</td>\n",
       "      <td>1.070432</td>\n",
       "      <td>0.446695</td>\n",
       "      <td>0.625309</td>\n",
       "      <td>-0.848240</td>\n",
       "    </tr>\n",
       "    <tr>\n",
       "      <th>4</th>\n",
       "      <td>1.152425</td>\n",
       "      <td>1.360359</td>\n",
       "      <td>-1.429114</td>\n",
       "      <td>1.079317</td>\n",
       "      <td>-0.629514</td>\n",
       "      <td>-2.237281</td>\n",
       "      <td>-1.572991</td>\n",
       "      <td>1.228073</td>\n",
       "    </tr>\n",
       "  </tbody>\n",
       "</table>\n",
       "</div>"
      ],
      "text/plain": [
       "      Price   reviews   ratings  publish_recency  BookCategory  cover_type  \\\n",
       "0 -0.769230 -0.689429  0.136997        -0.400415      1.752181    0.446695   \n",
       "1 -0.885965 -0.835469  0.525772         0.434099      0.061511    0.446695   \n",
       "2 -0.337418  0.854076 -0.077561         2.113308     -0.385777    0.446695   \n",
       "3 -1.061662 -0.533950  0.476717        -0.745550      1.070432    0.446695   \n",
       "4  1.152425  1.360359 -1.429114         1.079317     -0.629514   -2.237281   \n",
       "\n",
       "   edition_year_cat  genre_cat  \n",
       "0          0.625309   0.113172  \n",
       "1          0.625309  -1.162012  \n",
       "2         -1.673141   1.228073  \n",
       "3          0.625309  -0.848240  \n",
       "4         -1.572991   1.228073  "
      ]
     },
     "execution_count": 246,
     "metadata": {},
     "output_type": "execute_result"
    }
   ],
   "source": [
    "df_freq_scaled.head()"
   ]
  },
  {
   "cell_type": "code",
   "execution_count": 247,
   "id": "a3518c19",
   "metadata": {},
   "outputs": [],
   "source": [
    "X = df_freq_scaled.drop(\"Price\", axis=1)\n",
    "y = df_freq_scaled['Price']"
   ]
  },
  {
   "cell_type": "code",
   "execution_count": 248,
   "id": "82320254",
   "metadata": {},
   "outputs": [],
   "source": [
    "xtrain, xtest, ytrain, ytest = train_test_split(X, y, test_size=0.2, random_state=42)"
   ]
  },
  {
   "cell_type": "code",
   "execution_count": 249,
   "id": "1e614815",
   "metadata": {},
   "outputs": [
    {
     "name": "stdout",
     "output_type": "stream",
     "text": [
      "0.9011602588181898 0.9222421293524082\n",
      "0.18009167086354705 0.180110572329913\n"
     ]
    }
   ],
   "source": [
    "lr = LinearRegression()\n",
    "\n",
    "lr.fit(xtrain, ytrain)\n",
    "\n",
    "ypred_train = lr.predict(xtrain)\n",
    "ypred_test = lr.predict(xtest)\n",
    "\n",
    "print(np.sqrt(mean_squared_error(ytrain,ypred_train)), np.sqrt(mean_squared_error(ytest,ypred_test)))\n",
    "print(r2_score(ytrain, ypred_train), r2_score(ytest, ypred_test))"
   ]
  },
  {
   "cell_type": "code",
   "execution_count": 250,
   "id": "bec56b66",
   "metadata": {},
   "outputs": [
    {
     "data": {
      "text/plain": [
       "0.6505372485916416"
      ]
     },
     "execution_count": 250,
     "metadata": {},
     "output_type": "execute_result"
    }
   ],
   "source": [
    "1 - np.sqrt(np.square(np.log10(ypred_test +1) - np.log10(ytest +1)).mean())"
   ]
  },
  {
   "cell_type": "code",
   "execution_count": 251,
   "id": "6f00b012",
   "metadata": {},
   "outputs": [
    {
     "name": "stdout",
     "output_type": "stream",
     "text": [
      "0.8536967858405587 0.9262586223176136\n",
      "0.26418518331044305 0.1729535559134897\n"
     ]
    }
   ],
   "source": [
    "from sklearn.tree import DecisionTreeRegressor\n",
    "\n",
    "dtree = DecisionTreeRegressor(max_depth=5, random_state=42)\n",
    "\n",
    "dtree.fit(xtrain, ytrain)\n",
    "\n",
    "pred_train_tree = dtree.predict(xtrain)\n",
    "pred_test_tree= dtree.predict(xtest)\n",
    "\n",
    "print(np.sqrt(mean_squared_error(ytrain,pred_train_tree)), np.sqrt(mean_squared_error(ytest,pred_test_tree)))\n",
    "print(r2_score(ytrain, pred_train_tree), r2_score(ytest, pred_test_tree))"
   ]
  },
  {
   "cell_type": "code",
   "execution_count": 252,
   "id": "8b9441ff",
   "metadata": {},
   "outputs": [
    {
     "data": {
      "text/plain": [
       "0.6294329095792868"
      ]
     },
     "execution_count": 252,
     "metadata": {},
     "output_type": "execute_result"
    }
   ],
   "source": [
    "1 - np.sqrt(np.square(np.log10(pred_test_tree +1) - np.log10(ytest +1)).mean())"
   ]
  },
  {
   "cell_type": "code",
   "execution_count": 253,
   "id": "5d976fa8",
   "metadata": {},
   "outputs": [
    {
     "name": "stdout",
     "output_type": "stream",
     "text": [
      "0.640083316000783 0.844280258012648\n",
      "0.5863488360402507 0.3128704281118917\n"
     ]
    }
   ],
   "source": [
    "from sklearn.ensemble import RandomForestRegressor\n",
    "\n",
    "model_rf = RandomForestRegressor(n_estimators=100, max_depth=10, oob_score=True, random_state=42)\n",
    "model_rf.fit(xtrain, ytrain) \n",
    "\n",
    "pred_train_rf = model_rf.predict(xtrain)\n",
    "pred_test_rf = model_rf.predict(xtest)\n",
    "\n",
    "print(np.sqrt(mean_squared_error(ytrain,pred_train_rf)), np.sqrt(mean_squared_error(ytest,pred_test_rf)))\n",
    "print(r2_score(ytrain, pred_train_rf), r2_score(ytest, pred_test_rf))"
   ]
  },
  {
   "cell_type": "code",
   "execution_count": 254,
   "id": "0de5788b",
   "metadata": {},
   "outputs": [
    {
     "data": {
      "text/plain": [
       "0.6404430608475502"
      ]
     },
     "execution_count": 254,
     "metadata": {},
     "output_type": "execute_result"
    }
   ],
   "source": [
    "1 - np.sqrt(np.square(np.log10(pred_test_rf +1) - np.log10(ytest +1)).mean())"
   ]
  },
  {
   "cell_type": "code",
   "execution_count": 255,
   "id": "d5b09ccf",
   "metadata": {},
   "outputs": [
    {
     "data": {
      "text/html": [
       "<div>\n",
       "<style scoped>\n",
       "    .dataframe tbody tr th:only-of-type {\n",
       "        vertical-align: middle;\n",
       "    }\n",
       "\n",
       "    .dataframe tbody tr th {\n",
       "        vertical-align: top;\n",
       "    }\n",
       "\n",
       "    .dataframe thead th {\n",
       "        text-align: right;\n",
       "    }\n",
       "</style>\n",
       "<table border=\"1\" class=\"dataframe\">\n",
       "  <thead>\n",
       "    <tr style=\"text-align: right;\">\n",
       "      <th></th>\n",
       "      <th>Feature</th>\n",
       "      <th>Importance</th>\n",
       "    </tr>\n",
       "  </thead>\n",
       "  <tbody>\n",
       "    <tr>\n",
       "      <th>3</th>\n",
       "      <td>BookCategory</td>\n",
       "      <td>0.287597</td>\n",
       "    </tr>\n",
       "    <tr>\n",
       "      <th>1</th>\n",
       "      <td>ratings</td>\n",
       "      <td>0.202287</td>\n",
       "    </tr>\n",
       "    <tr>\n",
       "      <th>2</th>\n",
       "      <td>publish_recency</td>\n",
       "      <td>0.144738</td>\n",
       "    </tr>\n",
       "    <tr>\n",
       "      <th>6</th>\n",
       "      <td>genre_cat</td>\n",
       "      <td>0.136188</td>\n",
       "    </tr>\n",
       "    <tr>\n",
       "      <th>0</th>\n",
       "      <td>reviews</td>\n",
       "      <td>0.121154</td>\n",
       "    </tr>\n",
       "    <tr>\n",
       "      <th>4</th>\n",
       "      <td>cover_type</td>\n",
       "      <td>0.092350</td>\n",
       "    </tr>\n",
       "    <tr>\n",
       "      <th>5</th>\n",
       "      <td>edition_year_cat</td>\n",
       "      <td>0.015686</td>\n",
       "    </tr>\n",
       "  </tbody>\n",
       "</table>\n",
       "</div>"
      ],
      "text/plain": [
       "            Feature  Importance\n",
       "3      BookCategory    0.287597\n",
       "1           ratings    0.202287\n",
       "2   publish_recency    0.144738\n",
       "6         genre_cat    0.136188\n",
       "0           reviews    0.121154\n",
       "4        cover_type    0.092350\n",
       "5  edition_year_cat    0.015686"
      ]
     },
     "execution_count": 255,
     "metadata": {},
     "output_type": "execute_result"
    }
   ],
   "source": [
    "pd.DataFrame({'Feature':xtrain.columns, 'Importance':model_rf.feature_importances_}).sort_values(by='Importance', ascending=False)"
   ]
  },
  {
   "cell_type": "code",
   "execution_count": 256,
   "id": "b95dfc62",
   "metadata": {},
   "outputs": [
    {
     "name": "stdout",
     "output_type": "stream",
     "text": [
      "0.5170188559097187 0.8688578944934163\n",
      "0.7301179497869146 0.2722824072591443\n"
     ]
    }
   ],
   "source": [
    "model_xgb = XGBRegressor(random_state=42)\n",
    "model_xgb.fit(xtrain, ytrain) \n",
    "\n",
    "pred_train_xgb = model_xgb.predict(xtrain)\n",
    "pred_test_xgb = model_xgb.predict(xtest)\n",
    "\n",
    "print(np.sqrt(mean_squared_error(ytrain,pred_train_xgb)), np.sqrt(mean_squared_error(ytest,pred_test_xgb)))\n",
    "print(r2_score(ytrain, pred_train_xgb), r2_score(ytest, pred_test_xgb))"
   ]
  },
  {
   "cell_type": "code",
   "execution_count": 257,
   "id": "d51abdf4",
   "metadata": {},
   "outputs": [
    {
     "data": {
      "text/plain": [
       "0.6252472993988069"
      ]
     },
     "execution_count": 257,
     "metadata": {},
     "output_type": "execute_result"
    }
   ],
   "source": [
    "1 - np.sqrt(np.square(np.log10(pred_test_xgb +1) - np.log10(ytest +1)).mean())"
   ]
  },
  {
   "cell_type": "code",
   "execution_count": null,
   "id": "4832e064",
   "metadata": {},
   "outputs": [],
   "source": []
  },
  {
   "cell_type": "code",
   "execution_count": null,
   "id": "db144e25",
   "metadata": {},
   "outputs": [],
   "source": []
  },
  {
   "cell_type": "code",
   "execution_count": null,
   "id": "7a4972a5",
   "metadata": {},
   "outputs": [],
   "source": []
  }
 ],
 "metadata": {
  "kernelspec": {
   "display_name": "Python 3 (ipykernel)",
   "language": "python",
   "name": "python3"
  },
  "language_info": {
   "codemirror_mode": {
    "name": "ipython",
    "version": 3
   },
   "file_extension": ".py",
   "mimetype": "text/x-python",
   "name": "python",
   "nbconvert_exporter": "python",
   "pygments_lexer": "ipython3",
   "version": "3.9.7"
  }
 },
 "nbformat": 4,
 "nbformat_minor": 5
}
