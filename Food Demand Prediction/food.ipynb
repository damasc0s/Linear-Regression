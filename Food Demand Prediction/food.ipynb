{
 "cells": [
  {
   "cell_type": "markdown",
   "id": "e6de5fbc",
   "metadata": {},
   "source": [
    "## Import required Libraries"
   ]
  },
  {
   "cell_type": "code",
   "execution_count": 130,
   "id": "84678137",
   "metadata": {},
   "outputs": [],
   "source": [
    "import numpy as np\n",
    "import pandas as pd\n",
    "import matplotlib.pyplot as plt\n",
    "import seaborn as sns\n",
    "\n",
    "from statsmodels.stats.outliers_influence import variance_inflation_factor\n",
    "from sklearn.linear_model import LinearRegression\n",
    "from sklearn.model_selection import train_test_split, GridSearchCV\n",
    "from sklearn.tree import DecisionTreeRegressor\n",
    "from sklearn.ensemble import RandomForestRegressor\n",
    "from sklearn.metrics import r2_score, mean_squared_log_error, mean_squared_error\n",
    "from mlxtend.feature_selection import SequentialFeatureSelector"
   ]
  },
  {
   "cell_type": "markdown",
   "id": "3581abfb",
   "metadata": {},
   "source": [
    "## Import Data"
   ]
  },
  {
   "cell_type": "code",
   "execution_count": 14,
   "id": "48adfb58",
   "metadata": {},
   "outputs": [
    {
     "data": {
      "text/html": [
       "<div>\n",
       "<style scoped>\n",
       "    .dataframe tbody tr th:only-of-type {\n",
       "        vertical-align: middle;\n",
       "    }\n",
       "\n",
       "    .dataframe tbody tr th {\n",
       "        vertical-align: top;\n",
       "    }\n",
       "\n",
       "    .dataframe thead th {\n",
       "        text-align: right;\n",
       "    }\n",
       "</style>\n",
       "<table border=\"1\" class=\"dataframe\">\n",
       "  <thead>\n",
       "    <tr style=\"text-align: right;\">\n",
       "      <th></th>\n",
       "      <th>id</th>\n",
       "      <th>week</th>\n",
       "      <th>center_id</th>\n",
       "      <th>meal_id</th>\n",
       "      <th>checkout_price</th>\n",
       "      <th>base_price</th>\n",
       "      <th>emailer_for_promotion</th>\n",
       "      <th>homepage_featured</th>\n",
       "      <th>num_orders</th>\n",
       "    </tr>\n",
       "  </thead>\n",
       "  <tbody>\n",
       "    <tr>\n",
       "      <th>0</th>\n",
       "      <td>1379560</td>\n",
       "      <td>1</td>\n",
       "      <td>55</td>\n",
       "      <td>1885</td>\n",
       "      <td>136.83</td>\n",
       "      <td>152.29</td>\n",
       "      <td>0</td>\n",
       "      <td>0</td>\n",
       "      <td>177</td>\n",
       "    </tr>\n",
       "    <tr>\n",
       "      <th>1</th>\n",
       "      <td>1466964</td>\n",
       "      <td>1</td>\n",
       "      <td>55</td>\n",
       "      <td>1993</td>\n",
       "      <td>136.83</td>\n",
       "      <td>135.83</td>\n",
       "      <td>0</td>\n",
       "      <td>0</td>\n",
       "      <td>270</td>\n",
       "    </tr>\n",
       "    <tr>\n",
       "      <th>2</th>\n",
       "      <td>1346989</td>\n",
       "      <td>1</td>\n",
       "      <td>55</td>\n",
       "      <td>2539</td>\n",
       "      <td>134.86</td>\n",
       "      <td>135.86</td>\n",
       "      <td>0</td>\n",
       "      <td>0</td>\n",
       "      <td>189</td>\n",
       "    </tr>\n",
       "    <tr>\n",
       "      <th>3</th>\n",
       "      <td>1338232</td>\n",
       "      <td>1</td>\n",
       "      <td>55</td>\n",
       "      <td>2139</td>\n",
       "      <td>339.50</td>\n",
       "      <td>437.53</td>\n",
       "      <td>0</td>\n",
       "      <td>0</td>\n",
       "      <td>54</td>\n",
       "    </tr>\n",
       "    <tr>\n",
       "      <th>4</th>\n",
       "      <td>1448490</td>\n",
       "      <td>1</td>\n",
       "      <td>55</td>\n",
       "      <td>2631</td>\n",
       "      <td>243.50</td>\n",
       "      <td>242.50</td>\n",
       "      <td>0</td>\n",
       "      <td>0</td>\n",
       "      <td>40</td>\n",
       "    </tr>\n",
       "  </tbody>\n",
       "</table>\n",
       "</div>"
      ],
      "text/plain": [
       "        id  week  center_id  meal_id  checkout_price  base_price  \\\n",
       "0  1379560     1         55     1885          136.83      152.29   \n",
       "1  1466964     1         55     1993          136.83      135.83   \n",
       "2  1346989     1         55     2539          134.86      135.86   \n",
       "3  1338232     1         55     2139          339.50      437.53   \n",
       "4  1448490     1         55     2631          243.50      242.50   \n",
       "\n",
       "   emailer_for_promotion  homepage_featured  num_orders  \n",
       "0                      0                  0         177  \n",
       "1                      0                  0         270  \n",
       "2                      0                  0         189  \n",
       "3                      0                  0          54  \n",
       "4                      0                  0          40  "
      ]
     },
     "execution_count": 14,
     "metadata": {},
     "output_type": "execute_result"
    }
   ],
   "source": [
    "df_train = pd.read_csv(\"train.csv\")\n",
    "df_train.head()"
   ]
  },
  {
   "cell_type": "code",
   "execution_count": 15,
   "id": "2aa92551",
   "metadata": {},
   "outputs": [
    {
     "data": {
      "text/plain": [
       "(456548, 9)"
      ]
     },
     "execution_count": 15,
     "metadata": {},
     "output_type": "execute_result"
    }
   ],
   "source": [
    "df_train.shape"
   ]
  },
  {
   "cell_type": "code",
   "execution_count": 16,
   "id": "4c9ac470",
   "metadata": {},
   "outputs": [
    {
     "name": "stdout",
     "output_type": "stream",
     "text": [
      "<class 'pandas.core.frame.DataFrame'>\n",
      "RangeIndex: 456548 entries, 0 to 456547\n",
      "Data columns (total 9 columns):\n",
      " #   Column                 Non-Null Count   Dtype  \n",
      "---  ------                 --------------   -----  \n",
      " 0   id                     456548 non-null  int64  \n",
      " 1   week                   456548 non-null  int64  \n",
      " 2   center_id              456548 non-null  int64  \n",
      " 3   meal_id                456548 non-null  int64  \n",
      " 4   checkout_price         456548 non-null  float64\n",
      " 5   base_price             456548 non-null  float64\n",
      " 6   emailer_for_promotion  456548 non-null  int64  \n",
      " 7   homepage_featured      456548 non-null  int64  \n",
      " 8   num_orders             456548 non-null  int64  \n",
      "dtypes: float64(2), int64(7)\n",
      "memory usage: 31.3 MB\n"
     ]
    }
   ],
   "source": [
    "df_train.info()"
   ]
  },
  {
   "cell_type": "code",
   "execution_count": 108,
   "id": "7929d243",
   "metadata": {},
   "outputs": [
    {
     "data": {
      "text/plain": [
       "(32573, 8)"
      ]
     },
     "execution_count": 108,
     "metadata": {},
     "output_type": "execute_result"
    }
   ],
   "source": [
    "df_test = pd.read_csv(\"test.csv\")\n",
    "df_test.shape"
   ]
  },
  {
   "cell_type": "code",
   "execution_count": 5,
   "id": "ecb10e86",
   "metadata": {},
   "outputs": [
    {
     "data": {
      "text/html": [
       "<div>\n",
       "<style scoped>\n",
       "    .dataframe tbody tr th:only-of-type {\n",
       "        vertical-align: middle;\n",
       "    }\n",
       "\n",
       "    .dataframe tbody tr th {\n",
       "        vertical-align: top;\n",
       "    }\n",
       "\n",
       "    .dataframe thead th {\n",
       "        text-align: right;\n",
       "    }\n",
       "</style>\n",
       "<table border=\"1\" class=\"dataframe\">\n",
       "  <thead>\n",
       "    <tr style=\"text-align: right;\">\n",
       "      <th></th>\n",
       "      <th>meal_id</th>\n",
       "      <th>category</th>\n",
       "      <th>cuisine</th>\n",
       "    </tr>\n",
       "  </thead>\n",
       "  <tbody>\n",
       "    <tr>\n",
       "      <th>0</th>\n",
       "      <td>1885</td>\n",
       "      <td>Beverages</td>\n",
       "      <td>Thai</td>\n",
       "    </tr>\n",
       "    <tr>\n",
       "      <th>1</th>\n",
       "      <td>1993</td>\n",
       "      <td>Beverages</td>\n",
       "      <td>Thai</td>\n",
       "    </tr>\n",
       "    <tr>\n",
       "      <th>2</th>\n",
       "      <td>2539</td>\n",
       "      <td>Beverages</td>\n",
       "      <td>Thai</td>\n",
       "    </tr>\n",
       "    <tr>\n",
       "      <th>3</th>\n",
       "      <td>1248</td>\n",
       "      <td>Beverages</td>\n",
       "      <td>Indian</td>\n",
       "    </tr>\n",
       "    <tr>\n",
       "      <th>4</th>\n",
       "      <td>2631</td>\n",
       "      <td>Beverages</td>\n",
       "      <td>Indian</td>\n",
       "    </tr>\n",
       "  </tbody>\n",
       "</table>\n",
       "</div>"
      ],
      "text/plain": [
       "   meal_id   category cuisine\n",
       "0     1885  Beverages    Thai\n",
       "1     1993  Beverages    Thai\n",
       "2     2539  Beverages    Thai\n",
       "3     1248  Beverages  Indian\n",
       "4     2631  Beverages  Indian"
      ]
     },
     "execution_count": 5,
     "metadata": {},
     "output_type": "execute_result"
    }
   ],
   "source": [
    "df_meal = pd.read_csv(\"meal_info.csv\")\n",
    "df_meal.head()"
   ]
  },
  {
   "cell_type": "code",
   "execution_count": 6,
   "id": "d3720fc8",
   "metadata": {},
   "outputs": [
    {
     "data": {
      "text/plain": [
       "(51, 3)"
      ]
     },
     "execution_count": 6,
     "metadata": {},
     "output_type": "execute_result"
    }
   ],
   "source": [
    "df_meal.shape"
   ]
  },
  {
   "cell_type": "code",
   "execution_count": 7,
   "id": "f7f948bb",
   "metadata": {},
   "outputs": [
    {
     "name": "stdout",
     "output_type": "stream",
     "text": [
      "<class 'pandas.core.frame.DataFrame'>\n",
      "RangeIndex: 51 entries, 0 to 50\n",
      "Data columns (total 3 columns):\n",
      " #   Column    Non-Null Count  Dtype \n",
      "---  ------    --------------  ----- \n",
      " 0   meal_id   51 non-null     int64 \n",
      " 1   category  51 non-null     object\n",
      " 2   cuisine   51 non-null     object\n",
      "dtypes: int64(1), object(2)\n",
      "memory usage: 1.3+ KB\n"
     ]
    }
   ],
   "source": [
    "df_meal.info()"
   ]
  },
  {
   "cell_type": "code",
   "execution_count": 11,
   "id": "a5d11161",
   "metadata": {},
   "outputs": [
    {
     "data": {
      "text/html": [
       "<div>\n",
       "<style scoped>\n",
       "    .dataframe tbody tr th:only-of-type {\n",
       "        vertical-align: middle;\n",
       "    }\n",
       "\n",
       "    .dataframe tbody tr th {\n",
       "        vertical-align: top;\n",
       "    }\n",
       "\n",
       "    .dataframe thead th {\n",
       "        text-align: right;\n",
       "    }\n",
       "</style>\n",
       "<table border=\"1\" class=\"dataframe\">\n",
       "  <thead>\n",
       "    <tr style=\"text-align: right;\">\n",
       "      <th></th>\n",
       "      <th>center_id</th>\n",
       "      <th>city_code</th>\n",
       "      <th>region_code</th>\n",
       "      <th>center_type</th>\n",
       "      <th>op_area</th>\n",
       "    </tr>\n",
       "  </thead>\n",
       "  <tbody>\n",
       "    <tr>\n",
       "      <th>0</th>\n",
       "      <td>11</td>\n",
       "      <td>679</td>\n",
       "      <td>56</td>\n",
       "      <td>TYPE_A</td>\n",
       "      <td>3.7</td>\n",
       "    </tr>\n",
       "    <tr>\n",
       "      <th>1</th>\n",
       "      <td>13</td>\n",
       "      <td>590</td>\n",
       "      <td>56</td>\n",
       "      <td>TYPE_B</td>\n",
       "      <td>6.7</td>\n",
       "    </tr>\n",
       "    <tr>\n",
       "      <th>2</th>\n",
       "      <td>124</td>\n",
       "      <td>590</td>\n",
       "      <td>56</td>\n",
       "      <td>TYPE_C</td>\n",
       "      <td>4.0</td>\n",
       "    </tr>\n",
       "    <tr>\n",
       "      <th>3</th>\n",
       "      <td>66</td>\n",
       "      <td>648</td>\n",
       "      <td>34</td>\n",
       "      <td>TYPE_A</td>\n",
       "      <td>4.1</td>\n",
       "    </tr>\n",
       "    <tr>\n",
       "      <th>4</th>\n",
       "      <td>94</td>\n",
       "      <td>632</td>\n",
       "      <td>34</td>\n",
       "      <td>TYPE_C</td>\n",
       "      <td>3.6</td>\n",
       "    </tr>\n",
       "  </tbody>\n",
       "</table>\n",
       "</div>"
      ],
      "text/plain": [
       "   center_id  city_code  region_code center_type  op_area\n",
       "0         11        679           56      TYPE_A      3.7\n",
       "1         13        590           56      TYPE_B      6.7\n",
       "2        124        590           56      TYPE_C      4.0\n",
       "3         66        648           34      TYPE_A      4.1\n",
       "4         94        632           34      TYPE_C      3.6"
      ]
     },
     "execution_count": 11,
     "metadata": {},
     "output_type": "execute_result"
    }
   ],
   "source": [
    "df_center = pd.read_csv(\"fulfilment_center_info.csv\")\n",
    "df_center.head()"
   ]
  },
  {
   "cell_type": "code",
   "execution_count": 12,
   "id": "0e5e9b92",
   "metadata": {},
   "outputs": [
    {
     "data": {
      "text/plain": [
       "(77, 5)"
      ]
     },
     "execution_count": 12,
     "metadata": {},
     "output_type": "execute_result"
    }
   ],
   "source": [
    "df_center.shape"
   ]
  },
  {
   "cell_type": "code",
   "execution_count": 13,
   "id": "f7e48169",
   "metadata": {},
   "outputs": [
    {
     "name": "stdout",
     "output_type": "stream",
     "text": [
      "<class 'pandas.core.frame.DataFrame'>\n",
      "RangeIndex: 77 entries, 0 to 76\n",
      "Data columns (total 5 columns):\n",
      " #   Column       Non-Null Count  Dtype  \n",
      "---  ------       --------------  -----  \n",
      " 0   center_id    77 non-null     int64  \n",
      " 1   city_code    77 non-null     int64  \n",
      " 2   region_code  77 non-null     int64  \n",
      " 3   center_type  77 non-null     object \n",
      " 4   op_area      77 non-null     float64\n",
      "dtypes: float64(1), int64(3), object(1)\n",
      "memory usage: 3.1+ KB\n"
     ]
    }
   ],
   "source": [
    "df_center.info()"
   ]
  },
  {
   "cell_type": "markdown",
   "id": "55926f18",
   "metadata": {},
   "source": [
    "### Merge all the dataframes"
   ]
  },
  {
   "cell_type": "code",
   "execution_count": 17,
   "id": "eb3da3d6",
   "metadata": {},
   "outputs": [
    {
     "data": {
      "text/html": [
       "<div>\n",
       "<style scoped>\n",
       "    .dataframe tbody tr th:only-of-type {\n",
       "        vertical-align: middle;\n",
       "    }\n",
       "\n",
       "    .dataframe tbody tr th {\n",
       "        vertical-align: top;\n",
       "    }\n",
       "\n",
       "    .dataframe thead th {\n",
       "        text-align: right;\n",
       "    }\n",
       "</style>\n",
       "<table border=\"1\" class=\"dataframe\">\n",
       "  <thead>\n",
       "    <tr style=\"text-align: right;\">\n",
       "      <th></th>\n",
       "      <th>id</th>\n",
       "      <th>week</th>\n",
       "      <th>center_id</th>\n",
       "      <th>meal_id</th>\n",
       "      <th>checkout_price</th>\n",
       "      <th>base_price</th>\n",
       "      <th>emailer_for_promotion</th>\n",
       "      <th>homepage_featured</th>\n",
       "      <th>num_orders</th>\n",
       "      <th>category</th>\n",
       "      <th>cuisine</th>\n",
       "      <th>city_code</th>\n",
       "      <th>region_code</th>\n",
       "      <th>center_type</th>\n",
       "      <th>op_area</th>\n",
       "    </tr>\n",
       "  </thead>\n",
       "  <tbody>\n",
       "    <tr>\n",
       "      <th>0</th>\n",
       "      <td>1379560</td>\n",
       "      <td>1</td>\n",
       "      <td>55</td>\n",
       "      <td>1885</td>\n",
       "      <td>136.83</td>\n",
       "      <td>152.29</td>\n",
       "      <td>0</td>\n",
       "      <td>0</td>\n",
       "      <td>177</td>\n",
       "      <td>Beverages</td>\n",
       "      <td>Thai</td>\n",
       "      <td>647</td>\n",
       "      <td>56</td>\n",
       "      <td>TYPE_C</td>\n",
       "      <td>2.0</td>\n",
       "    </tr>\n",
       "    <tr>\n",
       "      <th>1</th>\n",
       "      <td>1040403</td>\n",
       "      <td>1</td>\n",
       "      <td>24</td>\n",
       "      <td>1885</td>\n",
       "      <td>136.83</td>\n",
       "      <td>136.83</td>\n",
       "      <td>0</td>\n",
       "      <td>0</td>\n",
       "      <td>1498</td>\n",
       "      <td>Beverages</td>\n",
       "      <td>Thai</td>\n",
       "      <td>614</td>\n",
       "      <td>85</td>\n",
       "      <td>TYPE_B</td>\n",
       "      <td>3.6</td>\n",
       "    </tr>\n",
       "    <tr>\n",
       "      <th>2</th>\n",
       "      <td>1103215</td>\n",
       "      <td>1</td>\n",
       "      <td>11</td>\n",
       "      <td>1885</td>\n",
       "      <td>136.83</td>\n",
       "      <td>136.83</td>\n",
       "      <td>0</td>\n",
       "      <td>0</td>\n",
       "      <td>959</td>\n",
       "      <td>Beverages</td>\n",
       "      <td>Thai</td>\n",
       "      <td>679</td>\n",
       "      <td>56</td>\n",
       "      <td>TYPE_A</td>\n",
       "      <td>3.7</td>\n",
       "    </tr>\n",
       "    <tr>\n",
       "      <th>3</th>\n",
       "      <td>1034383</td>\n",
       "      <td>1</td>\n",
       "      <td>83</td>\n",
       "      <td>1885</td>\n",
       "      <td>121.31</td>\n",
       "      <td>120.31</td>\n",
       "      <td>0</td>\n",
       "      <td>1</td>\n",
       "      <td>1025</td>\n",
       "      <td>Beverages</td>\n",
       "      <td>Thai</td>\n",
       "      <td>659</td>\n",
       "      <td>77</td>\n",
       "      <td>TYPE_A</td>\n",
       "      <td>5.3</td>\n",
       "    </tr>\n",
       "    <tr>\n",
       "      <th>4</th>\n",
       "      <td>1118999</td>\n",
       "      <td>1</td>\n",
       "      <td>32</td>\n",
       "      <td>1885</td>\n",
       "      <td>114.52</td>\n",
       "      <td>113.52</td>\n",
       "      <td>0</td>\n",
       "      <td>1</td>\n",
       "      <td>445</td>\n",
       "      <td>Beverages</td>\n",
       "      <td>Thai</td>\n",
       "      <td>526</td>\n",
       "      <td>34</td>\n",
       "      <td>TYPE_A</td>\n",
       "      <td>3.8</td>\n",
       "    </tr>\n",
       "  </tbody>\n",
       "</table>\n",
       "</div>"
      ],
      "text/plain": [
       "        id  week  center_id  meal_id  checkout_price  base_price  \\\n",
       "0  1379560     1         55     1885          136.83      152.29   \n",
       "1  1040403     1         24     1885          136.83      136.83   \n",
       "2  1103215     1         11     1885          136.83      136.83   \n",
       "3  1034383     1         83     1885          121.31      120.31   \n",
       "4  1118999     1         32     1885          114.52      113.52   \n",
       "\n",
       "   emailer_for_promotion  homepage_featured  num_orders   category cuisine  \\\n",
       "0                      0                  0         177  Beverages    Thai   \n",
       "1                      0                  0        1498  Beverages    Thai   \n",
       "2                      0                  0         959  Beverages    Thai   \n",
       "3                      0                  1        1025  Beverages    Thai   \n",
       "4                      0                  1         445  Beverages    Thai   \n",
       "\n",
       "   city_code  region_code center_type  op_area  \n",
       "0        647           56      TYPE_C      2.0  \n",
       "1        614           85      TYPE_B      3.6  \n",
       "2        679           56      TYPE_A      3.7  \n",
       "3        659           77      TYPE_A      5.3  \n",
       "4        526           34      TYPE_A      3.8  "
      ]
     },
     "execution_count": 17,
     "metadata": {},
     "output_type": "execute_result"
    }
   ],
   "source": [
    "df = pd.merge(pd.merge(df_train, df_meal, on='meal_id'), df_center, on='center_id', how='left')\n",
    "df.head()"
   ]
  },
  {
   "cell_type": "code",
   "execution_count": 18,
   "id": "1ecc1cf2",
   "metadata": {},
   "outputs": [
    {
     "data": {
      "text/plain": [
       "(456548, 15)"
      ]
     },
     "execution_count": 18,
     "metadata": {},
     "output_type": "execute_result"
    }
   ],
   "source": [
    "df.shape"
   ]
  },
  {
   "cell_type": "code",
   "execution_count": 19,
   "id": "f3a7fdd7",
   "metadata": {},
   "outputs": [
    {
     "name": "stdout",
     "output_type": "stream",
     "text": [
      "<class 'pandas.core.frame.DataFrame'>\n",
      "Int64Index: 456548 entries, 0 to 456547\n",
      "Data columns (total 15 columns):\n",
      " #   Column                 Non-Null Count   Dtype  \n",
      "---  ------                 --------------   -----  \n",
      " 0   id                     456548 non-null  int64  \n",
      " 1   week                   456548 non-null  int64  \n",
      " 2   center_id              456548 non-null  int64  \n",
      " 3   meal_id                456548 non-null  int64  \n",
      " 4   checkout_price         456548 non-null  float64\n",
      " 5   base_price             456548 non-null  float64\n",
      " 6   emailer_for_promotion  456548 non-null  int64  \n",
      " 7   homepage_featured      456548 non-null  int64  \n",
      " 8   num_orders             456548 non-null  int64  \n",
      " 9   category               456548 non-null  object \n",
      " 10  cuisine                456548 non-null  object \n",
      " 11  city_code              456548 non-null  int64  \n",
      " 12  region_code            456548 non-null  int64  \n",
      " 13  center_type            456548 non-null  object \n",
      " 14  op_area                456548 non-null  float64\n",
      "dtypes: float64(3), int64(9), object(3)\n",
      "memory usage: 55.7+ MB\n"
     ]
    }
   ],
   "source": [
    "df.info()"
   ]
  },
  {
   "cell_type": "code",
   "execution_count": 20,
   "id": "8b790831",
   "metadata": {},
   "outputs": [
    {
     "data": {
      "text/plain": [
       "id                       0\n",
       "week                     0\n",
       "center_id                0\n",
       "meal_id                  0\n",
       "checkout_price           0\n",
       "base_price               0\n",
       "emailer_for_promotion    0\n",
       "homepage_featured        0\n",
       "num_orders               0\n",
       "category                 0\n",
       "cuisine                  0\n",
       "city_code                0\n",
       "region_code              0\n",
       "center_type              0\n",
       "op_area                  0\n",
       "dtype: int64"
      ]
     },
     "execution_count": 20,
     "metadata": {},
     "output_type": "execute_result"
    }
   ],
   "source": [
    "df.isna().sum()"
   ]
  },
  {
   "cell_type": "code",
   "execution_count": 109,
   "id": "179c9c14",
   "metadata": {},
   "outputs": [
    {
     "data": {
      "text/plain": [
       "(32573, 14)"
      ]
     },
     "execution_count": 109,
     "metadata": {},
     "output_type": "execute_result"
    }
   ],
   "source": [
    "test = pd.merge(pd.merge(df_test, df_meal, on='meal_id'), df_center, on='center_id', how='left')\n",
    "test.shape"
   ]
  },
  {
   "cell_type": "markdown",
   "id": "8ce8174a",
   "metadata": {},
   "source": [
    "### Identify the variables as Numerical and Categorical"
   ]
  },
  {
   "cell_type": "code",
   "execution_count": 27,
   "id": "476a9e90",
   "metadata": {},
   "outputs": [
    {
     "data": {
      "text/plain": [
       "count    456548.0000\n",
       "mean    1250096.3056\n",
       "std      144354.8224\n",
       "min     1000000.0000\n",
       "25%     1124998.7500\n",
       "50%     1250183.5000\n",
       "75%     1375140.2500\n",
       "max     1499999.0000\n",
       "Name: id, dtype: float64"
      ]
     },
     "execution_count": 27,
     "metadata": {},
     "output_type": "execute_result"
    }
   ],
   "source": [
    "pd.options.display.float_format = '{:.4f}'.format\n",
    "df.id.describe()"
   ]
  },
  {
   "cell_type": "code",
   "execution_count": 29,
   "id": "426b92e3",
   "metadata": {},
   "outputs": [],
   "source": [
    "# Id variable does not have continuous values, the data has been picked from a larger dataset."
   ]
  },
  {
   "cell_type": "code",
   "execution_count": 28,
   "id": "af50b253",
   "metadata": {},
   "outputs": [],
   "source": [
    "pd.options.display.float_format = None"
   ]
  },
  {
   "cell_type": "code",
   "execution_count": 30,
   "id": "c050aec5",
   "metadata": {},
   "outputs": [],
   "source": [
    "df1 = df.drop(\"id\", axis=1)"
   ]
  },
  {
   "cell_type": "code",
   "execution_count": 110,
   "id": "3f423a4c",
   "metadata": {},
   "outputs": [
    {
     "data": {
      "text/plain": [
       "(32573, 13)"
      ]
     },
     "execution_count": 110,
     "metadata": {},
     "output_type": "execute_result"
    }
   ],
   "source": [
    "test1 = test.drop(\"id\", axis=1)\n",
    "test1.shape"
   ]
  },
  {
   "cell_type": "code",
   "execution_count": 31,
   "id": "455a560e",
   "metadata": {},
   "outputs": [
    {
     "data": {
      "text/plain": [
       "Index(['week', 'center_id', 'meal_id', 'checkout_price', 'base_price',\n",
       "       'emailer_for_promotion', 'homepage_featured', 'num_orders', 'category',\n",
       "       'cuisine', 'city_code', 'region_code', 'center_type', 'op_area'],\n",
       "      dtype='object')"
      ]
     },
     "execution_count": 31,
     "metadata": {},
     "output_type": "execute_result"
    }
   ],
   "source": [
    "df1.columns"
   ]
  },
  {
   "cell_type": "code",
   "execution_count": 33,
   "id": "6a62fa9c",
   "metadata": {},
   "outputs": [
    {
     "data": {
      "text/html": [
       "<div>\n",
       "<style scoped>\n",
       "    .dataframe tbody tr th:only-of-type {\n",
       "        vertical-align: middle;\n",
       "    }\n",
       "\n",
       "    .dataframe tbody tr th {\n",
       "        vertical-align: top;\n",
       "    }\n",
       "\n",
       "    .dataframe thead th {\n",
       "        text-align: right;\n",
       "    }\n",
       "</style>\n",
       "<table border=\"1\" class=\"dataframe\">\n",
       "  <thead>\n",
       "    <tr style=\"text-align: right;\">\n",
       "      <th></th>\n",
       "      <th>checkout_price</th>\n",
       "      <th>base_price</th>\n",
       "      <th>op_area</th>\n",
       "      <th>num_orders</th>\n",
       "    </tr>\n",
       "  </thead>\n",
       "  <tbody>\n",
       "    <tr>\n",
       "      <th>0</th>\n",
       "      <td>136.83</td>\n",
       "      <td>152.29</td>\n",
       "      <td>2.0</td>\n",
       "      <td>177</td>\n",
       "    </tr>\n",
       "    <tr>\n",
       "      <th>1</th>\n",
       "      <td>136.83</td>\n",
       "      <td>136.83</td>\n",
       "      <td>3.6</td>\n",
       "      <td>1498</td>\n",
       "    </tr>\n",
       "    <tr>\n",
       "      <th>2</th>\n",
       "      <td>136.83</td>\n",
       "      <td>136.83</td>\n",
       "      <td>3.7</td>\n",
       "      <td>959</td>\n",
       "    </tr>\n",
       "    <tr>\n",
       "      <th>3</th>\n",
       "      <td>121.31</td>\n",
       "      <td>120.31</td>\n",
       "      <td>5.3</td>\n",
       "      <td>1025</td>\n",
       "    </tr>\n",
       "    <tr>\n",
       "      <th>4</th>\n",
       "      <td>114.52</td>\n",
       "      <td>113.52</td>\n",
       "      <td>3.8</td>\n",
       "      <td>445</td>\n",
       "    </tr>\n",
       "  </tbody>\n",
       "</table>\n",
       "</div>"
      ],
      "text/plain": [
       "   checkout_price  base_price  op_area  num_orders\n",
       "0          136.83      152.29      2.0         177\n",
       "1          136.83      136.83      3.6        1498\n",
       "2          136.83      136.83      3.7         959\n",
       "3          121.31      120.31      5.3        1025\n",
       "4          114.52      113.52      3.8         445"
      ]
     },
     "execution_count": 33,
     "metadata": {},
     "output_type": "execute_result"
    }
   ],
   "source": [
    "df_num = df1.loc[:, [\"checkout_price\", 'base_price', 'op_area', 'num_orders']]\n",
    "df_num.head()"
   ]
  },
  {
   "cell_type": "code",
   "execution_count": 111,
   "id": "ae739269",
   "metadata": {},
   "outputs": [
    {
     "data": {
      "text/plain": [
       "(32573, 3)"
      ]
     },
     "execution_count": 111,
     "metadata": {},
     "output_type": "execute_result"
    }
   ],
   "source": [
    "test_num = test1.loc[:, [\"checkout_price\", 'base_price', 'op_area']]\n",
    "test_num.shape"
   ]
  },
  {
   "cell_type": "code",
   "execution_count": 39,
   "id": "98d6dc09",
   "metadata": {},
   "outputs": [
    {
     "data": {
      "text/plain": [
       "Index(['checkout_price', 'base_price', 'op_area', 'num_orders'], dtype='object')"
      ]
     },
     "execution_count": 39,
     "metadata": {},
     "output_type": "execute_result"
    }
   ],
   "source": [
    "df_num.columns"
   ]
  },
  {
   "cell_type": "code",
   "execution_count": 40,
   "id": "961f3139",
   "metadata": {},
   "outputs": [
    {
     "data": {
      "text/html": [
       "<div>\n",
       "<style scoped>\n",
       "    .dataframe tbody tr th:only-of-type {\n",
       "        vertical-align: middle;\n",
       "    }\n",
       "\n",
       "    .dataframe tbody tr th {\n",
       "        vertical-align: top;\n",
       "    }\n",
       "\n",
       "    .dataframe thead th {\n",
       "        text-align: right;\n",
       "    }\n",
       "</style>\n",
       "<table border=\"1\" class=\"dataframe\">\n",
       "  <thead>\n",
       "    <tr style=\"text-align: right;\">\n",
       "      <th></th>\n",
       "      <th>week</th>\n",
       "      <th>center_id</th>\n",
       "      <th>meal_id</th>\n",
       "      <th>emailer_for_promotion</th>\n",
       "      <th>homepage_featured</th>\n",
       "      <th>category</th>\n",
       "      <th>cuisine</th>\n",
       "      <th>city_code</th>\n",
       "      <th>region_code</th>\n",
       "      <th>center_type</th>\n",
       "    </tr>\n",
       "  </thead>\n",
       "  <tbody>\n",
       "    <tr>\n",
       "      <th>0</th>\n",
       "      <td>1</td>\n",
       "      <td>55</td>\n",
       "      <td>1885</td>\n",
       "      <td>0</td>\n",
       "      <td>0</td>\n",
       "      <td>Beverages</td>\n",
       "      <td>Thai</td>\n",
       "      <td>647</td>\n",
       "      <td>56</td>\n",
       "      <td>TYPE_C</td>\n",
       "    </tr>\n",
       "    <tr>\n",
       "      <th>1</th>\n",
       "      <td>1</td>\n",
       "      <td>24</td>\n",
       "      <td>1885</td>\n",
       "      <td>0</td>\n",
       "      <td>0</td>\n",
       "      <td>Beverages</td>\n",
       "      <td>Thai</td>\n",
       "      <td>614</td>\n",
       "      <td>85</td>\n",
       "      <td>TYPE_B</td>\n",
       "    </tr>\n",
       "    <tr>\n",
       "      <th>2</th>\n",
       "      <td>1</td>\n",
       "      <td>11</td>\n",
       "      <td>1885</td>\n",
       "      <td>0</td>\n",
       "      <td>0</td>\n",
       "      <td>Beverages</td>\n",
       "      <td>Thai</td>\n",
       "      <td>679</td>\n",
       "      <td>56</td>\n",
       "      <td>TYPE_A</td>\n",
       "    </tr>\n",
       "    <tr>\n",
       "      <th>3</th>\n",
       "      <td>1</td>\n",
       "      <td>83</td>\n",
       "      <td>1885</td>\n",
       "      <td>0</td>\n",
       "      <td>1</td>\n",
       "      <td>Beverages</td>\n",
       "      <td>Thai</td>\n",
       "      <td>659</td>\n",
       "      <td>77</td>\n",
       "      <td>TYPE_A</td>\n",
       "    </tr>\n",
       "    <tr>\n",
       "      <th>4</th>\n",
       "      <td>1</td>\n",
       "      <td>32</td>\n",
       "      <td>1885</td>\n",
       "      <td>0</td>\n",
       "      <td>1</td>\n",
       "      <td>Beverages</td>\n",
       "      <td>Thai</td>\n",
       "      <td>526</td>\n",
       "      <td>34</td>\n",
       "      <td>TYPE_A</td>\n",
       "    </tr>\n",
       "  </tbody>\n",
       "</table>\n",
       "</div>"
      ],
      "text/plain": [
       "   week  center_id  meal_id  emailer_for_promotion  homepage_featured  \\\n",
       "0     1         55     1885                      0                  0   \n",
       "1     1         24     1885                      0                  0   \n",
       "2     1         11     1885                      0                  0   \n",
       "3     1         83     1885                      0                  1   \n",
       "4     1         32     1885                      0                  1   \n",
       "\n",
       "    category cuisine  city_code  region_code center_type  \n",
       "0  Beverages    Thai        647           56      TYPE_C  \n",
       "1  Beverages    Thai        614           85      TYPE_B  \n",
       "2  Beverages    Thai        679           56      TYPE_A  \n",
       "3  Beverages    Thai        659           77      TYPE_A  \n",
       "4  Beverages    Thai        526           34      TYPE_A  "
      ]
     },
     "execution_count": 40,
     "metadata": {},
     "output_type": "execute_result"
    }
   ],
   "source": [
    "df_cat = df1.loc[:, ['week', 'center_id', 'meal_id',\n",
    "       'emailer_for_promotion', 'homepage_featured', 'category',\n",
    "       'cuisine', 'city_code', 'region_code', 'center_type']]\n",
    "df_cat.head()"
   ]
  },
  {
   "cell_type": "code",
   "execution_count": 46,
   "id": "d6ed9134",
   "metadata": {},
   "outputs": [
    {
     "data": {
      "text/plain": [
       "(456548, 10)"
      ]
     },
     "execution_count": 46,
     "metadata": {},
     "output_type": "execute_result"
    }
   ],
   "source": [
    "df_cat.shape"
   ]
  },
  {
   "cell_type": "code",
   "execution_count": 112,
   "id": "ebff0316",
   "metadata": {},
   "outputs": [],
   "source": [
    "test_cat = test1.loc[:, ['week', 'center_id', 'meal_id',\n",
    "       'emailer_for_promotion', 'homepage_featured', 'category',\n",
    "       'cuisine', 'city_code', 'region_code', 'center_type']]"
   ]
  },
  {
   "cell_type": "code",
   "execution_count": 42,
   "id": "339735ed",
   "metadata": {},
   "outputs": [
    {
     "data": {
      "text/plain": [
       "145"
      ]
     },
     "execution_count": 42,
     "metadata": {},
     "output_type": "execute_result"
    }
   ],
   "source": [
    "df1.week.nunique()"
   ]
  },
  {
   "cell_type": "markdown",
   "id": "bd240b92",
   "metadata": {},
   "source": [
    "### Univariate Analysis"
   ]
  },
  {
   "cell_type": "code",
   "execution_count": 45,
   "id": "c8a81c4e",
   "metadata": {},
   "outputs": [
    {
     "data": {
      "image/png": "[encoded data removed]",
      "text/plain": [
       "<Figure size 864x432 with 4 Axes>"
      ]
     },
     "metadata": {
      "needs_background": "light"
     },
     "output_type": "display_data"
    }
   ],
   "source": [
    "plt.figure(figsize=[12,6])\n",
    "i = 1\n",
    "for x in df_num:\n",
    "    plt.subplot(2, 2, i)\n",
    "    sns.histplot(df_num[x], kde=True, fill=False)\n",
    "    i += 1\n",
    "    \n",
    "plt.tight_layout()\n",
    "plt.show()"
   ]
  },
  {
   "cell_type": "code",
   "execution_count": 50,
   "id": "6136bc81",
   "metadata": {},
   "outputs": [],
   "source": [
    "# Checkout and Base price seem to follow similar distribution of data\n",
    "# Operation Area seems to have normal and stretched out data."
   ]
  },
  {
   "cell_type": "code",
   "execution_count": 52,
   "id": "df958c48",
   "metadata": {},
   "outputs": [
    {
     "data": {
      "text/plain": [
       "<AxesSubplot:xlabel='num_orders', ylabel='Count'>"
      ]
     },
     "execution_count": 52,
     "metadata": {},
     "output_type": "execute_result"
    },
    {
     "data": {
      "image/png": "[encoded data removed]",
      "text/plain": [
       "<Figure size 432x288 with 1 Axes>"
      ]
     },
     "metadata": {
      "needs_background": "light"
     },
     "output_type": "display_data"
    }
   ],
   "source": [
    "up = np.quantile(df_num['num_orders'], 0.99)\n",
    "\n",
    "x = df_num['num_orders'].clip(upper=up)\n",
    "sns.histplot(x, kde=True, fill=False)"
   ]
  },
  {
   "cell_type": "code",
   "execution_count": 53,
   "id": "173be395",
   "metadata": {},
   "outputs": [],
   "source": [
    "# Number of orders is a highly right skewed data due to a few observations\n",
    "# Num orders frequency shows a constant decline with increase in number"
   ]
  },
  {
   "cell_type": "code",
   "execution_count": 49,
   "id": "9acf6e7b",
   "metadata": {},
   "outputs": [
    {
     "data": {
      "image/png": "[encoded data removed]",
      "text/plain": [
       "<Figure size 1080x720 with 10 Axes>"
      ]
     },
     "metadata": {
      "needs_background": "light"
     },
     "output_type": "display_data"
    }
   ],
   "source": [
    "plt.figure(figsize=[15,10])\n",
    "c = 1\n",
    "for x in df_cat:\n",
    "    plt.subplot(4, 3, c)\n",
    "    sns.countplot(data=df_cat, x=x)\n",
    "    plt.xticks(rotation='vertical')\n",
    "    c += 1\n",
    "\n",
    "plt.tight_layout()\n",
    "plt.show()"
   ]
  },
  {
   "cell_type": "code",
   "execution_count": 56,
   "id": "e1d84ed6",
   "metadata": {},
   "outputs": [
    {
     "data": {
      "text/plain": [
       "590    54746\n",
       "526    43525\n",
       "638    20047\n",
       "522    13459\n",
       "517    13109\n",
       "Name: city_code, dtype: int64"
      ]
     },
     "execution_count": 56,
     "metadata": {},
     "output_type": "execute_result"
    }
   ],
   "source": [
    "df_cat.city_code.value_counts().sort_values(ascending=False).head()"
   ]
  },
  {
   "cell_type": "code",
   "execution_count": 57,
   "id": "5bbcfdf7",
   "metadata": {},
   "outputs": [],
   "source": [
    "# Week- There is a uniform distribution throught out the timeframe, and there is a slight increase in customers.\n",
    "# Email for promotion- The fulfilment center has not sent out much mail for promotion.\n",
    "# Homepage featured- The products that are being sold more are not featured on the homepage.\n",
    "# Category- We can see that beverages are being sold the most.\n",
    "# Cuisine- The orders are evenly distributed in all of the cuisine.\n",
    "# City_code- Cities with city code 590 and 526 are cities where majority of our orders come from.\n",
    "# Regions 34, 56 and 77 are bringing in the most business\n",
    "# Type A center is dominating the data."
   ]
  },
  {
   "cell_type": "markdown",
   "id": "3275d151",
   "metadata": {},
   "source": [
    "### Bivariate Analysis"
   ]
  },
  {
   "cell_type": "code",
   "execution_count": 60,
   "id": "22c08c00",
   "metadata": {
    "scrolled": false
   },
   "outputs": [
    {
     "data": {
      "image/png": "[encoded data removed]",
      "text/plain": [
       "<Figure size 1080x576 with 10 Axes>"
      ]
     },
     "metadata": {
      "needs_background": "light"
     },
     "output_type": "display_data"
    }
   ],
   "source": [
    "plt.figure(figsize=[15,8])\n",
    "j=1\n",
    "for i in df_cat.columns:\n",
    "        plt.subplot(4, 3,j)\n",
    "        sns.barplot(data=df_cat, x=i, y=df_num.num_orders)\n",
    "        j+=1\n",
    "        plt.xticks(rotation=90)\n",
    "plt.tight_layout()\n",
    "plt.show()"
   ]
  },
  {
   "cell_type": "code",
   "execution_count": 62,
   "id": "d8ddef3f",
   "metadata": {},
   "outputs": [],
   "source": [
    "# Email contacted customers are bringing higher number of orders\n",
    "# Homepage Featured Meals are bringing higher number of orders\n",
    "# Rice bowl, Sandwich and Salad are being sold in higher quantities\n",
    "# Higher numbers are being ordered from region_code 56, 71\n",
    "# Customers prefer Italian the most\n",
    "# Type B centres are bringing most number of orders."
   ]
  },
  {
   "cell_type": "code",
   "execution_count": 61,
   "id": "126cbe13",
   "metadata": {},
   "outputs": [
    {
     "data": {
      "image/png": "[encoded data removed]",
      "text/plain": [
       "<Figure size 1080x576 with 4 Axes>"
      ]
     },
     "metadata": {
      "needs_background": "light"
     },
     "output_type": "display_data"
    }
   ],
   "source": [
    "plt.figure(figsize=[15,8])\n",
    "j=1\n",
    "for i in df_num.columns:\n",
    "        plt.subplot(3,4,j)\n",
    "        sns.scatterplot(data=df_num, x=i, y=df_num.num_orders)\n",
    "        j+=1\n",
    "plt.tight_layout()\n",
    "plt.xticks(rotation=90)\n",
    "plt.show()"
   ]
  },
  {
   "cell_type": "code",
   "execution_count": 63,
   "id": "7a58fa18",
   "metadata": {},
   "outputs": [],
   "source": [
    "# Most orders are of around 200 bucks Checkout Price\n",
    "# Most orders are of around 100, 300, 500 bucks Base Price"
   ]
  },
  {
   "cell_type": "code",
   "execution_count": 64,
   "id": "9be301ec",
   "metadata": {},
   "outputs": [
    {
     "data": {
      "image/png": "[encoded data removed]",
      "text/plain": [
       "<Figure size 432x288 with 1 Axes>"
      ]
     },
     "metadata": {
      "needs_background": "light"
     },
     "output_type": "display_data"
    }
   ],
   "source": [
    "df_num.boxplot()\n",
    "plt.show()"
   ]
  },
  {
   "cell_type": "code",
   "execution_count": 69,
   "id": "13440d62",
   "metadata": {},
   "outputs": [],
   "source": [
    "# There are a lot of outliers in num_orders"
   ]
  },
  {
   "cell_type": "code",
   "execution_count": 65,
   "id": "fc685cdf",
   "metadata": {},
   "outputs": [
    {
     "data": {
      "text/plain": [
       "<AxesSubplot:>"
      ]
     },
     "execution_count": 65,
     "metadata": {},
     "output_type": "execute_result"
    },
    {
     "data": {
      "image/png": "[encoded data removed]",
      "text/plain": [
       "<Figure size 432x288 with 2 Axes>"
      ]
     },
     "metadata": {
      "needs_background": "light"
     },
     "output_type": "display_data"
    }
   ],
   "source": [
    "sns.heatmap(df_num.corr(), annot=True)"
   ]
  },
  {
   "cell_type": "code",
   "execution_count": 67,
   "id": "e7688745",
   "metadata": {},
   "outputs": [
    {
     "data": {
      "text/html": [
       "<div>\n",
       "<style scoped>\n",
       "    .dataframe tbody tr th:only-of-type {\n",
       "        vertical-align: middle;\n",
       "    }\n",
       "\n",
       "    .dataframe tbody tr th {\n",
       "        vertical-align: top;\n",
       "    }\n",
       "\n",
       "    .dataframe thead th {\n",
       "        text-align: right;\n",
       "    }\n",
       "</style>\n",
       "<table border=\"1\" class=\"dataframe\">\n",
       "  <thead>\n",
       "    <tr style=\"text-align: right;\">\n",
       "      <th></th>\n",
       "      <th>Feature</th>\n",
       "      <th>VIF</th>\n",
       "    </tr>\n",
       "  </thead>\n",
       "  <tbody>\n",
       "    <tr>\n",
       "      <th>0</th>\n",
       "      <td>checkout_price</td>\n",
       "      <td>66.520170</td>\n",
       "    </tr>\n",
       "    <tr>\n",
       "      <th>1</th>\n",
       "      <td>base_price</td>\n",
       "      <td>65.684163</td>\n",
       "    </tr>\n",
       "    <tr>\n",
       "      <th>2</th>\n",
       "      <td>op_area</td>\n",
       "      <td>5.901204</td>\n",
       "    </tr>\n",
       "    <tr>\n",
       "      <th>3</th>\n",
       "      <td>num_orders</td>\n",
       "      <td>1.639955</td>\n",
       "    </tr>\n",
       "  </tbody>\n",
       "</table>\n",
       "</div>"
      ],
      "text/plain": [
       "          Feature        VIF\n",
       "0  checkout_price  66.520170\n",
       "1      base_price  65.684163\n",
       "2         op_area   5.901204\n",
       "3      num_orders   1.639955"
      ]
     },
     "execution_count": 67,
     "metadata": {},
     "output_type": "execute_result"
    }
   ],
   "source": [
    "vif = []\n",
    "\n",
    "for i in range(df_num.shape[1]):\n",
    "    vif.append(variance_inflation_factor(df_num.values, i))\n",
    "    \n",
    "pd.DataFrame({\"Feature\":df_num.columns, \"VIF\":vif}).sort_values(by='VIF', ascending=False)"
   ]
  },
  {
   "cell_type": "code",
   "execution_count": 68,
   "id": "d98a3a07",
   "metadata": {},
   "outputs": [],
   "source": [
    "# Checkout and Base price are highly multicollinear\n",
    "# So, if any model assumes no multicollinearity, we can drop either one of these"
   ]
  },
  {
   "cell_type": "markdown",
   "id": "b317e73b",
   "metadata": {},
   "source": [
    "### Feature Encoding"
   ]
  },
  {
   "cell_type": "code",
   "execution_count": 71,
   "id": "145fe036",
   "metadata": {},
   "outputs": [
    {
     "data": {
      "text/html": [
       "<div>\n",
       "<style scoped>\n",
       "    .dataframe tbody tr th:only-of-type {\n",
       "        vertical-align: middle;\n",
       "    }\n",
       "\n",
       "    .dataframe tbody tr th {\n",
       "        vertical-align: top;\n",
       "    }\n",
       "\n",
       "    .dataframe thead th {\n",
       "        text-align: right;\n",
       "    }\n",
       "</style>\n",
       "<table border=\"1\" class=\"dataframe\">\n",
       "  <thead>\n",
       "    <tr style=\"text-align: right;\">\n",
       "      <th></th>\n",
       "      <th>week</th>\n",
       "      <th>center_id</th>\n",
       "      <th>meal_id</th>\n",
       "      <th>emailer_for_promotion</th>\n",
       "      <th>homepage_featured</th>\n",
       "      <th>category</th>\n",
       "      <th>cuisine</th>\n",
       "      <th>city_code</th>\n",
       "      <th>region_code</th>\n",
       "      <th>center_type</th>\n",
       "    </tr>\n",
       "  </thead>\n",
       "  <tbody>\n",
       "    <tr>\n",
       "      <th>0</th>\n",
       "      <td>1</td>\n",
       "      <td>55</td>\n",
       "      <td>1885</td>\n",
       "      <td>0</td>\n",
       "      <td>0</td>\n",
       "      <td>Beverages</td>\n",
       "      <td>Thai</td>\n",
       "      <td>647</td>\n",
       "      <td>56</td>\n",
       "      <td>TYPE_C</td>\n",
       "    </tr>\n",
       "    <tr>\n",
       "      <th>1</th>\n",
       "      <td>1</td>\n",
       "      <td>24</td>\n",
       "      <td>1885</td>\n",
       "      <td>0</td>\n",
       "      <td>0</td>\n",
       "      <td>Beverages</td>\n",
       "      <td>Thai</td>\n",
       "      <td>614</td>\n",
       "      <td>85</td>\n",
       "      <td>TYPE_B</td>\n",
       "    </tr>\n",
       "    <tr>\n",
       "      <th>2</th>\n",
       "      <td>1</td>\n",
       "      <td>11</td>\n",
       "      <td>1885</td>\n",
       "      <td>0</td>\n",
       "      <td>0</td>\n",
       "      <td>Beverages</td>\n",
       "      <td>Thai</td>\n",
       "      <td>679</td>\n",
       "      <td>56</td>\n",
       "      <td>TYPE_A</td>\n",
       "    </tr>\n",
       "    <tr>\n",
       "      <th>3</th>\n",
       "      <td>1</td>\n",
       "      <td>83</td>\n",
       "      <td>1885</td>\n",
       "      <td>0</td>\n",
       "      <td>1</td>\n",
       "      <td>Beverages</td>\n",
       "      <td>Thai</td>\n",
       "      <td>659</td>\n",
       "      <td>77</td>\n",
       "      <td>TYPE_A</td>\n",
       "    </tr>\n",
       "    <tr>\n",
       "      <th>4</th>\n",
       "      <td>1</td>\n",
       "      <td>32</td>\n",
       "      <td>1885</td>\n",
       "      <td>0</td>\n",
       "      <td>1</td>\n",
       "      <td>Beverages</td>\n",
       "      <td>Thai</td>\n",
       "      <td>526</td>\n",
       "      <td>34</td>\n",
       "      <td>TYPE_A</td>\n",
       "    </tr>\n",
       "  </tbody>\n",
       "</table>\n",
       "</div>"
      ],
      "text/plain": [
       "   week  center_id  meal_id  emailer_for_promotion  homepage_featured  \\\n",
       "0     1         55     1885                      0                  0   \n",
       "1     1         24     1885                      0                  0   \n",
       "2     1         11     1885                      0                  0   \n",
       "3     1         83     1885                      0                  1   \n",
       "4     1         32     1885                      0                  1   \n",
       "\n",
       "    category cuisine  city_code  region_code center_type  \n",
       "0  Beverages    Thai        647           56      TYPE_C  \n",
       "1  Beverages    Thai        614           85      TYPE_B  \n",
       "2  Beverages    Thai        679           56      TYPE_A  \n",
       "3  Beverages    Thai        659           77      TYPE_A  \n",
       "4  Beverages    Thai        526           34      TYPE_A  "
      ]
     },
     "execution_count": 71,
     "metadata": {},
     "output_type": "execute_result"
    }
   ],
   "source": [
    "df_cat.head()"
   ]
  },
  {
   "cell_type": "code",
   "execution_count": 73,
   "id": "ff96b3cd",
   "metadata": {},
   "outputs": [
    {
     "data": {
      "text/plain": [
       "13     7046\n",
       "10     7015\n",
       "52     6993\n",
       "43     6970\n",
       "67     6915\n",
       "       ... \n",
       "139    4627\n",
       "57     4501\n",
       "162    4366\n",
       "41     4083\n",
       "91     3432\n",
       "Name: center_id, Length: 77, dtype: int64"
      ]
     },
     "execution_count": 73,
     "metadata": {},
     "output_type": "execute_result"
    }
   ],
   "source": [
    "df_cat.center_id.value_counts()"
   ]
  },
  {
   "cell_type": "code",
   "execution_count": 74,
   "id": "60a7aefd",
   "metadata": {
    "scrolled": true
   },
   "outputs": [
    {
     "data": {
      "text/plain": [
       "2290    11138\n",
       "1062    11137\n",
       "1727    11136\n",
       "1109    11134\n",
       "1754    11132\n",
       "2707    11123\n",
       "1778    11121\n",
       "1993    11116\n",
       "1962    11114\n",
       "1971    11102\n",
       "1885    11092\n",
       "2581    11072\n",
       "2826    11057\n",
       "2322    11002\n",
       "1558    10952\n",
       "1207    10806\n",
       "2640    10747\n",
       "1230    10746\n",
       "1878    10527\n",
       "2631    10458\n",
       "2539    10451\n",
       "1543    10236\n",
       "2760    10209\n",
       "1248     9939\n",
       "2664     9853\n",
       "2704     9811\n",
       "1445     9727\n",
       "2126     9705\n",
       "1216     9695\n",
       "2304     9676\n",
       "2569     9459\n",
       "2492     9382\n",
       "1525     9359\n",
       "2490     9247\n",
       "2444     9097\n",
       "2139     8899\n",
       "2577     8667\n",
       "2306     8294\n",
       "2867     8092\n",
       "1247     7184\n",
       "1902     6748\n",
       "1770     6682\n",
       "1311     4682\n",
       "1803     4674\n",
       "1571     4511\n",
       "1438     4385\n",
       "1198     4206\n",
       "2494     4206\n",
       "1847     4084\n",
       "2956     3319\n",
       "2104     2357\n",
       "Name: meal_id, dtype: int64"
      ]
     },
     "execution_count": 74,
     "metadata": {},
     "output_type": "execute_result"
    }
   ],
   "source": [
    "df_cat.meal_id.value_counts()"
   ]
  },
  {
   "cell_type": "code",
   "execution_count": 75,
   "id": "bc051ec5",
   "metadata": {
    "scrolled": true
   },
   "outputs": [
    {
     "data": {
      "text/plain": [
       "590    54746\n",
       "526    43525\n",
       "638    20047\n",
       "522    13459\n",
       "517    13109\n",
       "604    13062\n",
       "699    12098\n",
       "647    11833\n",
       "576    11456\n",
       "614    11332\n",
       "676    11177\n",
       "593    10804\n",
       "685     6993\n",
       "700     6891\n",
       "713     6853\n",
       "579     6843\n",
       "679     6801\n",
       "456     6716\n",
       "703     6706\n",
       "698     6434\n",
       "577     6389\n",
       "599     6296\n",
       "596     6293\n",
       "648     6090\n",
       "602     6057\n",
       "659     6053\n",
       "654     6041\n",
       "628     5983\n",
       "651     5975\n",
       "562     5938\n",
       "615     5892\n",
       "556     5885\n",
       "473     5855\n",
       "561     5846\n",
       "461     5763\n",
       "620     5732\n",
       "609     5721\n",
       "675     5715\n",
       "485     5712\n",
       "658     5591\n",
       "553     5547\n",
       "649     5528\n",
       "680     5379\n",
       "695     5296\n",
       "683     5296\n",
       "632     5292\n",
       "702     5264\n",
       "515     5085\n",
       "478     5021\n",
       "693     4627\n",
       "541     4501\n",
       "Name: city_code, dtype: int64"
      ]
     },
     "execution_count": 75,
     "metadata": {},
     "output_type": "execute_result"
    }
   ],
   "source": [
    "df_cat.city_code.value_counts()"
   ]
  },
  {
   "cell_type": "code",
   "execution_count": 77,
   "id": "36fc5f7f",
   "metadata": {},
   "outputs": [
    {
     "data": {
      "text/plain": [
       "56    191228\n",
       "34    116713\n",
       "77     94612\n",
       "85     30283\n",
       "23      6434\n",
       "71      6293\n",
       "93      5721\n",
       "35      5264\n",
       "Name: region_code, dtype: int64"
      ]
     },
     "execution_count": 77,
     "metadata": {},
     "output_type": "execute_result"
    }
   ],
   "source": [
    "df_cat.region_code.value_counts()"
   ]
  },
  {
   "cell_type": "code",
   "execution_count": 79,
   "id": "5b12b4cb",
   "metadata": {},
   "outputs": [
    {
     "data": {
      "text/html": [
       "<div>\n",
       "<style scoped>\n",
       "    .dataframe tbody tr th:only-of-type {\n",
       "        vertical-align: middle;\n",
       "    }\n",
       "\n",
       "    .dataframe tbody tr th {\n",
       "        vertical-align: top;\n",
       "    }\n",
       "\n",
       "    .dataframe thead th {\n",
       "        text-align: right;\n",
       "    }\n",
       "</style>\n",
       "<table border=\"1\" class=\"dataframe\">\n",
       "  <thead>\n",
       "    <tr style=\"text-align: right;\">\n",
       "      <th></th>\n",
       "      <th>week</th>\n",
       "      <th>center_id</th>\n",
       "      <th>meal_id</th>\n",
       "      <th>emailer_for_promotion</th>\n",
       "      <th>homepage_featured</th>\n",
       "      <th>city_code</th>\n",
       "      <th>region_code</th>\n",
       "      <th>category_Biryani</th>\n",
       "      <th>category_Desert</th>\n",
       "      <th>category_Extras</th>\n",
       "      <th>...</th>\n",
       "      <th>category_Salad</th>\n",
       "      <th>category_Sandwich</th>\n",
       "      <th>category_Seafood</th>\n",
       "      <th>category_Soup</th>\n",
       "      <th>category_Starters</th>\n",
       "      <th>cuisine_Indian</th>\n",
       "      <th>cuisine_Italian</th>\n",
       "      <th>cuisine_Thai</th>\n",
       "      <th>center_type_TYPE_B</th>\n",
       "      <th>center_type_TYPE_C</th>\n",
       "    </tr>\n",
       "  </thead>\n",
       "  <tbody>\n",
       "    <tr>\n",
       "      <th>0</th>\n",
       "      <td>1</td>\n",
       "      <td>55</td>\n",
       "      <td>1885</td>\n",
       "      <td>0</td>\n",
       "      <td>0</td>\n",
       "      <td>647</td>\n",
       "      <td>56</td>\n",
       "      <td>0</td>\n",
       "      <td>0</td>\n",
       "      <td>0</td>\n",
       "      <td>...</td>\n",
       "      <td>0</td>\n",
       "      <td>0</td>\n",
       "      <td>0</td>\n",
       "      <td>0</td>\n",
       "      <td>0</td>\n",
       "      <td>0</td>\n",
       "      <td>0</td>\n",
       "      <td>1</td>\n",
       "      <td>0</td>\n",
       "      <td>1</td>\n",
       "    </tr>\n",
       "    <tr>\n",
       "      <th>1</th>\n",
       "      <td>1</td>\n",
       "      <td>24</td>\n",
       "      <td>1885</td>\n",
       "      <td>0</td>\n",
       "      <td>0</td>\n",
       "      <td>614</td>\n",
       "      <td>85</td>\n",
       "      <td>0</td>\n",
       "      <td>0</td>\n",
       "      <td>0</td>\n",
       "      <td>...</td>\n",
       "      <td>0</td>\n",
       "      <td>0</td>\n",
       "      <td>0</td>\n",
       "      <td>0</td>\n",
       "      <td>0</td>\n",
       "      <td>0</td>\n",
       "      <td>0</td>\n",
       "      <td>1</td>\n",
       "      <td>1</td>\n",
       "      <td>0</td>\n",
       "    </tr>\n",
       "    <tr>\n",
       "      <th>2</th>\n",
       "      <td>1</td>\n",
       "      <td>11</td>\n",
       "      <td>1885</td>\n",
       "      <td>0</td>\n",
       "      <td>0</td>\n",
       "      <td>679</td>\n",
       "      <td>56</td>\n",
       "      <td>0</td>\n",
       "      <td>0</td>\n",
       "      <td>0</td>\n",
       "      <td>...</td>\n",
       "      <td>0</td>\n",
       "      <td>0</td>\n",
       "      <td>0</td>\n",
       "      <td>0</td>\n",
       "      <td>0</td>\n",
       "      <td>0</td>\n",
       "      <td>0</td>\n",
       "      <td>1</td>\n",
       "      <td>0</td>\n",
       "      <td>0</td>\n",
       "    </tr>\n",
       "    <tr>\n",
       "      <th>3</th>\n",
       "      <td>1</td>\n",
       "      <td>83</td>\n",
       "      <td>1885</td>\n",
       "      <td>0</td>\n",
       "      <td>1</td>\n",
       "      <td>659</td>\n",
       "      <td>77</td>\n",
       "      <td>0</td>\n",
       "      <td>0</td>\n",
       "      <td>0</td>\n",
       "      <td>...</td>\n",
       "      <td>0</td>\n",
       "      <td>0</td>\n",
       "      <td>0</td>\n",
       "      <td>0</td>\n",
       "      <td>0</td>\n",
       "      <td>0</td>\n",
       "      <td>0</td>\n",
       "      <td>1</td>\n",
       "      <td>0</td>\n",
       "      <td>0</td>\n",
       "    </tr>\n",
       "    <tr>\n",
       "      <th>4</th>\n",
       "      <td>1</td>\n",
       "      <td>32</td>\n",
       "      <td>1885</td>\n",
       "      <td>0</td>\n",
       "      <td>1</td>\n",
       "      <td>526</td>\n",
       "      <td>34</td>\n",
       "      <td>0</td>\n",
       "      <td>0</td>\n",
       "      <td>0</td>\n",
       "      <td>...</td>\n",
       "      <td>0</td>\n",
       "      <td>0</td>\n",
       "      <td>0</td>\n",
       "      <td>0</td>\n",
       "      <td>0</td>\n",
       "      <td>0</td>\n",
       "      <td>0</td>\n",
       "      <td>1</td>\n",
       "      <td>0</td>\n",
       "      <td>0</td>\n",
       "    </tr>\n",
       "  </tbody>\n",
       "</table>\n",
       "<p>5 rows × 25 columns</p>\n",
       "</div>"
      ],
      "text/plain": [
       "   week  center_id  meal_id  emailer_for_promotion  homepage_featured  \\\n",
       "0     1         55     1885                      0                  0   \n",
       "1     1         24     1885                      0                  0   \n",
       "2     1         11     1885                      0                  0   \n",
       "3     1         83     1885                      0                  1   \n",
       "4     1         32     1885                      0                  1   \n",
       "\n",
       "   city_code  region_code  category_Biryani  category_Desert  category_Extras  \\\n",
       "0        647           56                 0                0                0   \n",
       "1        614           85                 0                0                0   \n",
       "2        679           56                 0                0                0   \n",
       "3        659           77                 0                0                0   \n",
       "4        526           34                 0                0                0   \n",
       "\n",
       "   ...  category_Salad  category_Sandwich  category_Seafood  category_Soup  \\\n",
       "0  ...               0                  0                 0              0   \n",
       "1  ...               0                  0                 0              0   \n",
       "2  ...               0                  0                 0              0   \n",
       "3  ...               0                  0                 0              0   \n",
       "4  ...               0                  0                 0              0   \n",
       "\n",
       "   category_Starters  cuisine_Indian  cuisine_Italian  cuisine_Thai  \\\n",
       "0                  0               0                0             1   \n",
       "1                  0               0                0             1   \n",
       "2                  0               0                0             1   \n",
       "3                  0               0                0             1   \n",
       "4                  0               0                0             1   \n",
       "\n",
       "   center_type_TYPE_B  center_type_TYPE_C  \n",
       "0                   0                   1  \n",
       "1                   1                   0  \n",
       "2                   0                   0  \n",
       "3                   0                   0  \n",
       "4                   0                   0  \n",
       "\n",
       "[5 rows x 25 columns]"
      ]
     },
     "execution_count": 79,
     "metadata": {},
     "output_type": "execute_result"
    }
   ],
   "source": [
    "df_dummy = pd.get_dummies(df_cat, drop_first=True)\n",
    "df_dummy.head()"
   ]
  },
  {
   "cell_type": "code",
   "execution_count": 113,
   "id": "5e0273e2",
   "metadata": {},
   "outputs": [],
   "source": [
    "test_dummy = pd.get_dummies(test_cat, drop_first=True)"
   ]
  },
  {
   "cell_type": "code",
   "execution_count": 81,
   "id": "ced46563",
   "metadata": {},
   "outputs": [
    {
     "data": {
      "text/html": [
       "<div>\n",
       "<style scoped>\n",
       "    .dataframe tbody tr th:only-of-type {\n",
       "        vertical-align: middle;\n",
       "    }\n",
       "\n",
       "    .dataframe tbody tr th {\n",
       "        vertical-align: top;\n",
       "    }\n",
       "\n",
       "    .dataframe thead th {\n",
       "        text-align: right;\n",
       "    }\n",
       "</style>\n",
       "<table border=\"1\" class=\"dataframe\">\n",
       "  <thead>\n",
       "    <tr style=\"text-align: right;\">\n",
       "      <th></th>\n",
       "      <th>checkout_price</th>\n",
       "      <th>base_price</th>\n",
       "      <th>op_area</th>\n",
       "      <th>num_orders</th>\n",
       "      <th>week</th>\n",
       "      <th>center_id</th>\n",
       "      <th>meal_id</th>\n",
       "      <th>emailer_for_promotion</th>\n",
       "      <th>homepage_featured</th>\n",
       "      <th>city_code</th>\n",
       "      <th>...</th>\n",
       "      <th>category_Salad</th>\n",
       "      <th>category_Sandwich</th>\n",
       "      <th>category_Seafood</th>\n",
       "      <th>category_Soup</th>\n",
       "      <th>category_Starters</th>\n",
       "      <th>cuisine_Indian</th>\n",
       "      <th>cuisine_Italian</th>\n",
       "      <th>cuisine_Thai</th>\n",
       "      <th>center_type_TYPE_B</th>\n",
       "      <th>center_type_TYPE_C</th>\n",
       "    </tr>\n",
       "  </thead>\n",
       "  <tbody>\n",
       "    <tr>\n",
       "      <th>0</th>\n",
       "      <td>136.83</td>\n",
       "      <td>152.29</td>\n",
       "      <td>2.0</td>\n",
       "      <td>177</td>\n",
       "      <td>1</td>\n",
       "      <td>55</td>\n",
       "      <td>1885</td>\n",
       "      <td>0</td>\n",
       "      <td>0</td>\n",
       "      <td>647</td>\n",
       "      <td>...</td>\n",
       "      <td>0</td>\n",
       "      <td>0</td>\n",
       "      <td>0</td>\n",
       "      <td>0</td>\n",
       "      <td>0</td>\n",
       "      <td>0</td>\n",
       "      <td>0</td>\n",
       "      <td>1</td>\n",
       "      <td>0</td>\n",
       "      <td>1</td>\n",
       "    </tr>\n",
       "    <tr>\n",
       "      <th>1</th>\n",
       "      <td>136.83</td>\n",
       "      <td>136.83</td>\n",
       "      <td>3.6</td>\n",
       "      <td>1498</td>\n",
       "      <td>1</td>\n",
       "      <td>24</td>\n",
       "      <td>1885</td>\n",
       "      <td>0</td>\n",
       "      <td>0</td>\n",
       "      <td>614</td>\n",
       "      <td>...</td>\n",
       "      <td>0</td>\n",
       "      <td>0</td>\n",
       "      <td>0</td>\n",
       "      <td>0</td>\n",
       "      <td>0</td>\n",
       "      <td>0</td>\n",
       "      <td>0</td>\n",
       "      <td>1</td>\n",
       "      <td>1</td>\n",
       "      <td>0</td>\n",
       "    </tr>\n",
       "    <tr>\n",
       "      <th>2</th>\n",
       "      <td>136.83</td>\n",
       "      <td>136.83</td>\n",
       "      <td>3.7</td>\n",
       "      <td>959</td>\n",
       "      <td>1</td>\n",
       "      <td>11</td>\n",
       "      <td>1885</td>\n",
       "      <td>0</td>\n",
       "      <td>0</td>\n",
       "      <td>679</td>\n",
       "      <td>...</td>\n",
       "      <td>0</td>\n",
       "      <td>0</td>\n",
       "      <td>0</td>\n",
       "      <td>0</td>\n",
       "      <td>0</td>\n",
       "      <td>0</td>\n",
       "      <td>0</td>\n",
       "      <td>1</td>\n",
       "      <td>0</td>\n",
       "      <td>0</td>\n",
       "    </tr>\n",
       "    <tr>\n",
       "      <th>3</th>\n",
       "      <td>121.31</td>\n",
       "      <td>120.31</td>\n",
       "      <td>5.3</td>\n",
       "      <td>1025</td>\n",
       "      <td>1</td>\n",
       "      <td>83</td>\n",
       "      <td>1885</td>\n",
       "      <td>0</td>\n",
       "      <td>1</td>\n",
       "      <td>659</td>\n",
       "      <td>...</td>\n",
       "      <td>0</td>\n",
       "      <td>0</td>\n",
       "      <td>0</td>\n",
       "      <td>0</td>\n",
       "      <td>0</td>\n",
       "      <td>0</td>\n",
       "      <td>0</td>\n",
       "      <td>1</td>\n",
       "      <td>0</td>\n",
       "      <td>0</td>\n",
       "    </tr>\n",
       "    <tr>\n",
       "      <th>4</th>\n",
       "      <td>114.52</td>\n",
       "      <td>113.52</td>\n",
       "      <td>3.8</td>\n",
       "      <td>445</td>\n",
       "      <td>1</td>\n",
       "      <td>32</td>\n",
       "      <td>1885</td>\n",
       "      <td>0</td>\n",
       "      <td>1</td>\n",
       "      <td>526</td>\n",
       "      <td>...</td>\n",
       "      <td>0</td>\n",
       "      <td>0</td>\n",
       "      <td>0</td>\n",
       "      <td>0</td>\n",
       "      <td>0</td>\n",
       "      <td>0</td>\n",
       "      <td>0</td>\n",
       "      <td>1</td>\n",
       "      <td>0</td>\n",
       "      <td>0</td>\n",
       "    </tr>\n",
       "  </tbody>\n",
       "</table>\n",
       "<p>5 rows × 29 columns</p>\n",
       "</div>"
      ],
      "text/plain": [
       "   checkout_price  base_price  op_area  num_orders  week  center_id  meal_id  \\\n",
       "0          136.83      152.29      2.0         177     1         55     1885   \n",
       "1          136.83      136.83      3.6        1498     1         24     1885   \n",
       "2          136.83      136.83      3.7         959     1         11     1885   \n",
       "3          121.31      120.31      5.3        1025     1         83     1885   \n",
       "4          114.52      113.52      3.8         445     1         32     1885   \n",
       "\n",
       "   emailer_for_promotion  homepage_featured  city_code  ...  category_Salad  \\\n",
       "0                      0                  0        647  ...               0   \n",
       "1                      0                  0        614  ...               0   \n",
       "2                      0                  0        679  ...               0   \n",
       "3                      0                  1        659  ...               0   \n",
       "4                      0                  1        526  ...               0   \n",
       "\n",
       "   category_Sandwich  category_Seafood  category_Soup  category_Starters  \\\n",
       "0                  0                 0              0                  0   \n",
       "1                  0                 0              0                  0   \n",
       "2                  0                 0              0                  0   \n",
       "3                  0                 0              0                  0   \n",
       "4                  0                 0              0                  0   \n",
       "\n",
       "   cuisine_Indian  cuisine_Italian  cuisine_Thai  center_type_TYPE_B  \\\n",
       "0               0                0             1                   0   \n",
       "1               0                0             1                   1   \n",
       "2               0                0             1                   0   \n",
       "3               0                0             1                   0   \n",
       "4               0                0             1                   0   \n",
       "\n",
       "   center_type_TYPE_C  \n",
       "0                   1  \n",
       "1                   0  \n",
       "2                   0  \n",
       "3                   0  \n",
       "4                   0  \n",
       "\n",
       "[5 rows x 29 columns]"
      ]
     },
     "execution_count": 81,
     "metadata": {},
     "output_type": "execute_result"
    }
   ],
   "source": [
    "df_final = pd.concat([df_num, df_dummy], axis=1)\n",
    "df_final.head()"
   ]
  },
  {
   "cell_type": "code",
   "execution_count": 114,
   "id": "6e2683d7",
   "metadata": {},
   "outputs": [],
   "source": [
    "test_final = pd.concat([test_num, test_dummy], axis=1)"
   ]
  },
  {
   "cell_type": "code",
   "execution_count": 86,
   "id": "d96fd837",
   "metadata": {},
   "outputs": [],
   "source": [
    "X = df_final.drop(\"num_orders\", axis=1)\n",
    "y = df_final['num_orders']\n",
    "\n",
    "xtrain, xtest, ytrain, ytest = train_test_split(X, y, test_size=0.2, random_state=42)"
   ]
  },
  {
   "cell_type": "code",
   "execution_count": 88,
   "id": "e1b08ce4",
   "metadata": {},
   "outputs": [
    {
     "name": "stdout",
     "output_type": "stream",
     "text": [
      "Train Score: 0.41342443031301945\n",
      "Test Score: 0.40035991919170066\n"
     ]
    }
   ],
   "source": [
    "lr = LinearRegression()\n",
    "lr.fit(xtrain, ytrain)\n",
    "print(\"Train Score:\", lr.score(xtrain, ytrain))\n",
    "print(\"Test Score:\", lr.score(xtest, ytest))"
   ]
  },
  {
   "cell_type": "code",
   "execution_count": 91,
   "id": "f8cf426d",
   "metadata": {},
   "outputs": [
    {
     "name": "stdout",
     "output_type": "stream",
     "text": [
      "Train Score: 1.0\n",
      "Test Score: 0.7582168628852738\n"
     ]
    }
   ],
   "source": [
    "dtree = DecisionTreeRegressor()\n",
    "dtree.fit(xtrain, ytrain)\n",
    "print(\"Train Score:\", dtree.score(xtrain, ytrain))\n",
    "print(\"Test Score:\", dtree.score(xtest, ytest))"
   ]
  },
  {
   "cell_type": "code",
   "execution_count": 95,
   "id": "285e415f",
   "metadata": {},
   "outputs": [],
   "source": [
    "ypred_dtree = dtree.predict(xtest)"
   ]
  },
  {
   "cell_type": "code",
   "execution_count": 96,
   "id": "6878187e",
   "metadata": {},
   "outputs": [
    {
     "data": {
      "text/plain": [
       "0.6383360024702392"
      ]
     },
     "execution_count": 96,
     "metadata": {},
     "output_type": "execute_result"
    }
   ],
   "source": [
    "np.sqrt(mean_squared_log_error(ytest, ypred_dtree))"
   ]
  },
  {
   "cell_type": "code",
   "execution_count": null,
   "id": "c6b41848",
   "metadata": {},
   "outputs": [],
   "source": [
    "np.sqrt(mean_squared_log_error())"
   ]
  },
  {
   "cell_type": "code",
   "execution_count": 92,
   "id": "e90c619b",
   "metadata": {},
   "outputs": [
    {
     "name": "stdout",
     "output_type": "stream",
     "text": [
      "Train Score: 0.9803273526563637\n",
      "Test Score: 0.8635643385198344\n"
     ]
    }
   ],
   "source": [
    "rf = RandomForestRegressor()\n",
    "rf.fit(xtrain, ytrain)\n",
    "print(\"Train Score:\", rf.score(xtrain, ytrain))\n",
    "print(\"Test Score:\", rf.score(xtest, ytest))"
   ]
  },
  {
   "cell_type": "code",
   "execution_count": 93,
   "id": "c6418f54",
   "metadata": {},
   "outputs": [],
   "source": [
    "ypred_rf = rf.predict(xtest)"
   ]
  },
  {
   "cell_type": "code",
   "execution_count": 94,
   "id": "5a9ffb41",
   "metadata": {},
   "outputs": [
    {
     "data": {
      "text/plain": [
       "0.4888137511705738"
      ]
     },
     "execution_count": 94,
     "metadata": {},
     "output_type": "execute_result"
    }
   ],
   "source": [
    "np.sqrt(mean_squared_log_error(ytest, ypred_rf))"
   ]
  },
  {
   "cell_type": "code",
   "execution_count": 115,
   "id": "2f20d3f5",
   "metadata": {},
   "outputs": [],
   "source": [
    "ypred_test_rf = rf.predict(test_final)"
   ]
  },
  {
   "cell_type": "code",
   "execution_count": 123,
   "id": "4f4ce2ee",
   "metadata": {},
   "outputs": [
    {
     "data": {
      "text/html": [
       "<div>\n",
       "<style scoped>\n",
       "    .dataframe tbody tr th:only-of-type {\n",
       "        vertical-align: middle;\n",
       "    }\n",
       "\n",
       "    .dataframe tbody tr th {\n",
       "        vertical-align: top;\n",
       "    }\n",
       "\n",
       "    .dataframe thead th {\n",
       "        text-align: right;\n",
       "    }\n",
       "</style>\n",
       "<table border=\"1\" class=\"dataframe\">\n",
       "  <thead>\n",
       "    <tr style=\"text-align: right;\">\n",
       "      <th></th>\n",
       "      <th>id</th>\n",
       "      <th>0</th>\n",
       "    </tr>\n",
       "  </thead>\n",
       "  <tbody>\n",
       "    <tr>\n",
       "      <th>0</th>\n",
       "      <td>1028232</td>\n",
       "      <td>96.24</td>\n",
       "    </tr>\n",
       "    <tr>\n",
       "      <th>1</th>\n",
       "      <td>1127204</td>\n",
       "      <td>1553.73</td>\n",
       "    </tr>\n",
       "    <tr>\n",
       "      <th>2</th>\n",
       "      <td>1212707</td>\n",
       "      <td>1458.81</td>\n",
       "    </tr>\n",
       "    <tr>\n",
       "      <th>3</th>\n",
       "      <td>1082698</td>\n",
       "      <td>809.00</td>\n",
       "    </tr>\n",
       "    <tr>\n",
       "      <th>4</th>\n",
       "      <td>1400926</td>\n",
       "      <td>327.58</td>\n",
       "    </tr>\n",
       "  </tbody>\n",
       "</table>\n",
       "</div>"
      ],
      "text/plain": [
       "        id        0\n",
       "0  1028232    96.24\n",
       "1  1127204  1553.73\n",
       "2  1212707  1458.81\n",
       "3  1082698   809.00\n",
       "4  1400926   327.58"
      ]
     },
     "execution_count": 123,
     "metadata": {},
     "output_type": "execute_result"
    }
   ],
   "source": [
    "test_pred = pd.concat([df_test['id'], pd.Series(ypred_test_rf)], axis=1)\n",
    "test_pred.head()"
   ]
  },
  {
   "cell_type": "code",
   "execution_count": 129,
   "id": "d9cd8cd4",
   "metadata": {},
   "outputs": [],
   "source": [
    "test_pred.to_csv(\"pred_rf\", index=None)"
   ]
  },
  {
   "cell_type": "code",
   "execution_count": 131,
   "id": "9f9c5078",
   "metadata": {},
   "outputs": [
    {
     "name": "stderr",
     "output_type": "stream",
     "text": [
      "\n",
      "STOPPING EARLY DUE TO KEYBOARD INTERRUPT..."
     ]
    },
    {
     "data": {
      "text/plain": [
       "('week', 'meal_id')"
      ]
     },
     "execution_count": 131,
     "metadata": {},
     "output_type": "execute_result"
    }
   ],
   "source": [
    "sfs = SequentialFeatureSelector(estimator=RandomForestRegressor(), k_features='best', cv=5, scoring='neg_mean_squared_error')\n",
    "sfs.fit(xtrain, ytrain)\n",
    "sfs.k_feature_names_"
   ]
  },
  {
   "cell_type": "code",
   "execution_count": null,
   "id": "51b5b687",
   "metadata": {},
   "outputs": [],
   "source": []
  }
 ],
 "metadata": {
  "kernelspec": {
   "display_name": "Python 3",
   "language": "python",
   "name": "python3"
  },
  "language_info": {
   "codemirror_mode": {
    "name": "ipython",
    "version": 3
   },
   "file_extension": ".py",
   "mimetype": "text/x-python",
   "name": "python",
   "nbconvert_exporter": "python",
   "pygments_lexer": "ipython3",
   "version": "3.8.8"
  }
 },
 "nbformat": 4,
 "nbformat_minor": 5
}
